{
 "cells": [
  {
   "cell_type": "code",
   "execution_count": 5,
   "metadata": {},
   "outputs": [
    {
     "name": "stderr",
     "output_type": "stream",
     "text": [
      "/Users/gaoqitong/anaconda/envs/py27/lib/python2.7/site-packages/h5py/__init__.py:34: FutureWarning: Conversion of the second argument of issubdtype from `float` to `np.floating` is deprecated. In future, it will be treated as `np.float64 == np.dtype(float).type`.\n",
      "  from ._conv import register_converters as _register_converters\n"
     ]
    }
   ],
   "source": [
    "from full_prod import *\n",
    "from buchi import buchi_from_ltl\n",
    "# from Visualize import plot_buchi\n",
    "import numpy as np\n",
    "from env_dynamic_ap import CurrentWorld\n",
    "import scipy\n",
    "# from plot_path_for_prod import *\n",
    "from graphviz import Source"
   ]
  },
  {
   "cell_type": "code",
   "execution_count": 4,
   "metadata": {},
   "outputs": [
    {
     "name": "stdout",
     "output_type": "stream",
     "text": [
      "Plan synthesized:[(0, 0), (0, 1), (1, 1), (1, 2), (1, 1), (1, 0), (1, 1), (0, 1), (0, 0), (0, 0), (0, 0), (0, 0)]\n"
     ]
    }
   ],
   "source": [
    "r4 = Region((0,2),['basket'],'r4')\n",
    "r5 = Region((1,2),['rball'],'r5')\n",
    "r6 = Region((2,2),[],'r6')\n",
    "c1 = Region((0,1),[],'c1')\n",
    "c2 = Region((1,1),[],'c2')\n",
    "c3 = Region((2,1),[],'c3')\n",
    "r1 = Region((0,0),[],'r1')\n",
    "r2 = Region((1,0),['basket'],'r2')\n",
    "r3 = Region((2,0),['gball'],'r3')\n",
    "\n",
    "region_list = [r1, r2, r3, r4, r5, r6, c1, c2, c3]\n",
    "\n",
    "wfts = wFTS()\n",
    "\n",
    "for i in region_list:\n",
    "    wfts.add_states(i)\n",
    "    \n",
    "wfts.add_transition(r1,c1,1)\n",
    "wfts.add_transition(c1,c2,1)\n",
    "wfts.add_transition(c1,r4,1)\n",
    "wfts.add_transition(c2,c3,1)\n",
    "wfts.add_transition(c2,r2,1)\n",
    "wfts.add_transition(c2,r5,1)\n",
    "wfts.add_transition(c3,r6,1)\n",
    "wfts.add_transition(c3,r3,1)\n",
    "\n",
    "wfts.add_initial(r1)\n",
    "\n",
    "formula = '<>(rball && <>basket) && <>[]r1'\n",
    "buchi = buchi_from_ltl(formula,None)\n",
    "my_buchi = Buchi_Automaton(buchi)\n",
    "\n",
    "full_prod = FullProd(wfts,my_buchi)\n",
    "full_prod.construct_fullproduct()\n",
    "count = 0\n",
    "for i in full_prod.states:\n",
    "    for j in full_prod.transition[i].keys():\n",
    "        if full_prod.transition[i][j] is not None:\n",
    "            count += 1 \n",
    "\n",
    "opt=search_opt_run(full_prod)\n",
    "opt_path = [opt[0][i][0].coord for i in range(len(opt[0]))]\n",
    "print 'Plan synthesized:'+str(opt_path)"
   ]
  },
  {
   "cell_type": "code",
   "execution_count": 6,
   "metadata": {},
   "outputs": [
    {
     "name": "stdout",
     "output_type": "stream",
     "text": [
      "0\n",
      "0\n",
      "Plan synthesized:[(4, 1), (3, 1), (2, 1), (1, 1), (1, 2), (1, 3), (1, 4), (2, 4), (2, 5), (2, 6), (2, 7), (3, 7), (4, 7), (5, 7), (6, 7), (7, 7), (7, 6), (7, 5), (6, 5), (6, 4), (6, 3), (6, 2), (5, 2), (6, 2), (7, 2), (7, 3), (7, 4), (8, 4), (8, 5), (8, 6), (8, 7), (8, 8), (8, 7), (7, 7), (6, 7), (5, 7), (4, 7), (3, 7), (2, 7), (3, 7), (4, 7), (5, 7), (6, 7), (7, 7), (7, 6), (7, 5), (6, 5), (6, 4), (5, 4), (5, 3), (5, 2), (6, 2), (6, 2), (6, 3), (6, 3), (7, 3), (7, 4), (7, 5), (7, 6), (7, 7), (6, 7), (5, 7), (4, 7), (3, 7), (2, 7), (3, 7), (4, 7), (5, 7), (6, 7), (7, 7), (7, 6), (7, 5), (6, 5), (6, 4), (5, 4), (5, 3), (5, 2), (6, 2)]\n"
     ]
    }
   ],
   "source": [
    "# Example Used in DQN Paper\n",
    "\n",
    "ltl = \"<>(A && <>(B && <>T)) && []<>A && []<>B && []!C\".lower()\n",
    "env = CurrentWorld(ltl)\n",
    "\n",
    "region_list = [\"r\"+str(i) for i in range(100)]\n",
    "for i in range(len(region_list)):\n",
    "    coord = np.unravel_index(i, (10,10))\n",
    "    if len(env.coord_dict[coord]) >0:\n",
    "        region_list[i] = Region(coord, [ap.lower() for ap in env.coord_dict[coord]], region_list[i])\n",
    "    else:\n",
    "        region_list[i] = Region(coord, [], region_list[i])\n",
    "    \n",
    "\n",
    "wfts = wFTS(set(), {}, set())\n",
    "for i in region_list:\n",
    "    wfts.add_states(i)\n",
    "    \n",
    "for i in region_list:\n",
    "    current_coord = list(i.coord)\n",
    "    candidates = [np.array(current_coord), np.add(current_coord,[0,1]), np.add(current_coord,[0,-1]), \n",
    "                  np.add(current_coord,[1,0]), np.add(current_coord,[-1,0])]\n",
    "    candidates = [np.ravel_multi_index(c, env.shape[:-1]) for c in candidates if c[0]>=0 and c[1]>=0 and c[0]<env.shape[0] and c[1]<env.shape[1]]\n",
    "    for c in candidates:\n",
    "        wfts.add_transition(i, region_list[c], 1)\n",
    "            \n",
    "wfts.add_initial(region_list[np.ravel_multi_index(env.start_coord, env.shape[:-1])])\n",
    "    \n",
    "\n",
    "buchi = buchi_from_ltl(ltl,None)\n",
    "my_buchi = Buchi_Automaton(buchi)\n",
    "\n",
    "# rabin = Rabin_Automaton(ltl, env.coord_dict)\n",
    "\n",
    "full_prod = FullProd(wfts, my_buchi)\n",
    "full_prod.construct_fullproduct()\n",
    "count = 0\n",
    "for i in full_prod.states:\n",
    "    for j in full_prod.transition[i].keys():\n",
    "        if full_prod.transition[i][j] is not None:\n",
    "            count += 1 \n",
    "\n",
    "opt=search_opt_run(full_prod)\n",
    "opt_path = [opt[0][i][0].coord for i in range(len(opt[0]))]\n",
    "print 'Plan synthesized:'+str(opt_path)"
   ]
  },
  {
   "cell_type": "code",
   "execution_count": 3,
   "metadata": {},
   "outputs": [
    {
     "name": "stdout",
     "output_type": "stream",
     "text": [
      "Graph Successfully Plotted\n",
      "Graph Successfully Plotted\n"
     ]
    }
   ],
   "source": [
    "#plot buchi\n",
    "my_buchi.plot()\n",
    "\n",
    "#plot full product\n",
    "full_prod_graph = full_prod.return_graph()\n",
    "plot(full_prod_graph,'full_prod')"
   ]
  }
 ],
 "metadata": {
  "kernelspec": {
   "display_name": "Python 2",
   "language": "python",
   "name": "python2"
  },
  "language_info": {
   "codemirror_mode": {
    "name": "ipython",
    "version": 2
   },
   "file_extension": ".py",
   "mimetype": "text/x-python",
   "name": "python",
   "nbconvert_exporter": "python",
   "pygments_lexer": "ipython2",
   "version": "2.7.13"
  }
 },
 "nbformat": 4,
 "nbformat_minor": 2
}
