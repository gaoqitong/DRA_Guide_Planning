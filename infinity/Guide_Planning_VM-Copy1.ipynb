{
 "cells": [
  {
   "cell_type": "code",
   "execution_count": 1,
   "metadata": {},
   "outputs": [],
   "source": [
    "import sys\n",
    "sys.path.append(\"../\")"
   ]
  },
  {
   "cell_type": "code",
   "execution_count": 2,
   "metadata": {},
   "outputs": [
    {
     "name": "stderr",
     "output_type": "stream",
     "text": [
      "/home/ubuntu/anaconda3/envs/tensorflow_p27/lib/python2.7/site-packages/h5py/__init__.py:36: FutureWarning: Conversion of the second argument of issubdtype from `float` to `np.floating` is deprecated. In future, it will be treated as `np.float64 == np.dtype(float).type`.\n",
      "  from ._conv import register_converters as _register_converters\n"
     ]
    }
   ],
   "source": [
    "from __future__ import division\n",
    "from full_prod_DRA import *\n",
    "from buchi import buchi_from_ltl\n",
    "import numpy as np\n",
    "from env_sensing_error import *\n",
    "import scipy\n",
    "# from plot_path_for_prod import *\n",
    "from graphviz import Source\n",
    "from qnetwork import *\n",
    "from utils import *\n",
    "import matplotlib.pyplot as plt\n",
    "# from Plot_Path import *\n",
    "import tensorflow as tf\n",
    "from dra_planning import *\n",
    "import time"
   ]
  },
  {
   "cell_type": "code",
   "execution_count": 3,
   "metadata": {},
   "outputs": [],
   "source": [
    "def train(sess, env, qnet, prod_planner):\n",
    "    \n",
    "    global EXPLORATION_RATE\n",
    "    global GUIDE_RATE\n",
    "  \n",
    "    summary_ops, summary_vars = build_summaries()\n",
    "    if not RESTORE:\n",
    "        sess.run(tf.global_variables_initializer())\n",
    "    writer = tf.summary.FileWriter(SUMMARY_DIR, sess.graph)\n",
    "    \n",
    "    qnet.update_target()\n",
    "    \n",
    "    replay_buffer = ReplayBuffer(BUFFER_SIZE, RANDOM_SEED)\n",
    "    \n",
    "    while len(prod_planner.opt_path) == 0:\n",
    "        env.step(np.random.randint(0,qnet.action_dim))\n",
    "        prod_planner.update_wfts_ap()\n",
    "        env.update_dynamic_rabin()\n",
    "        prod_planner.get_global_opt()\n",
    "    print \"Global Solution Found\"\n",
    "    prod_planner.get_opt_rabin()\n",
    "    \n",
    "    saved_dra_planners = {}\n",
    "    \n",
    "    for num_epi in range(MAX_EPISODES):\n",
    "        \n",
    "#         print \"Epi: \", num_epi\n",
    "\n",
    "        s = env.reset()\n",
    "        s = list(np.unravel_index(s, env.shape))\n",
    "#         prod_planner.replace_region_list()\n",
    "        prod_planner.update_wfts_ap()\n",
    "\n",
    "        ep_reward = 0\n",
    "        ep_ave_max_q = 0\n",
    "        \n",
    "        reward_list = []\n",
    "        \n",
    "        train_time = 0\n",
    "        batch_time = 0\n",
    "        gym_time = 0\n",
    "        guide_time = 0\n",
    "\n",
    "        for j in range(MAX_EPISODE_LEN):\n",
    "            \n",
    "#             print \"Step: \", j\n",
    "            \n",
    "            gym_start = time.time()\n",
    "\n",
    "            rand_num = np.random.rand(1)\n",
    "    \n",
    "            if rand_num <= EXPLORATION_RATE:\n",
    "                a = np.random.randint(0,qnet.action_dim)\n",
    "                s2, r, terminal, info = env.step(a)\n",
    "                \n",
    "            elif rand_num <= GUIDE_RATE+EXPLORATION_RATE and rand_num > EXPLORATION_RATE:\n",
    "#                 print \"GUIDE\"\n",
    "                guide_start = time.time()\n",
    "                \n",
    "                if rand_num > EXPLORATION_RATE + 0.9*GUIDE_RATE:\n",
    "                # Only update global plan with 0.2 prob for efficiency\n",
    "                    env.update_dynamic_rabin()\n",
    "                    prod_planner.get_global_opt()\n",
    "                    prod_planner.get_opt_rabin()\n",
    "                    \n",
    "                if len(prod_planner.opt_path) > 0:\n",
    "#                     print \"S: \", s\n",
    "#                     print \"last a: \", a\n",
    "                    new_ltl = prod_planner.get_next_ltl(s[-1])\n",
    "                    \n",
    "#                     if new_ltl in saved_dra_planners.keys():\n",
    "                    guide_path = prod_planner.get_local_opt(s[:-1], new_ltl)\n",
    "                    if guide_path != None:\n",
    "#                         print \"GUIDE\"\n",
    "                        a = convert_path_to_action(guide_path)\n",
    "                    else:\n",
    "                        a = np.random.randint(0,qnet.action_dim)\n",
    "#                     else:\n",
    "#                         guide_path = prod_planner.get_local_opt(s[:-1], new_ltl)\n",
    "#                         saved_dra_planners[new_ltl] = prod_planner.dra_full_prod\n",
    "#                         if guide_path != None:\n",
    "#                             a = convert_path_to_action(guide_path)\n",
    "#                         else:\n",
    "#                             a = np.random.randint(0,qnet.action_dim)\n",
    "                        \n",
    "                else:\n",
    "                    a = np.random.randint(0,qnet.action_dim)\n",
    "                \n",
    "                s2, r, terminal, info = env.step(a)\n",
    "                \n",
    "                guide_time += time.time() - guide_start\n",
    "                \n",
    "            else:\n",
    "                a = np.argmax(qnet.predict_q(np.reshape(s, (1, qnet.state_dim))))\n",
    "                s2, r, terminal, info = env.step(a)\n",
    "\n",
    "            prod_planner.update_wfts_ap()\n",
    "                \n",
    "            gym_time += time.time() - gym_start\n",
    "            \n",
    "            batch_start = time.time()\n",
    "            \n",
    "            s2 = list(np.unravel_index(s2, env.shape))\n",
    "\n",
    "            replay_buffer.add(np.reshape(s, (qnet.state_dim,)), np.reshape(a, (1,)), r,\n",
    "                              terminal, np.reshape(s2, (qnet.state_dim,)))\n",
    "            batch_time += time.time() - batch_start\n",
    "\n",
    "            # Keep adding experience to the memory until\n",
    "            # there are at least minibatch size samples\n",
    "            if replay_buffer.size() > MINIBATCH_SIZE:\n",
    "                \n",
    "                batch_start = time.time()\n",
    "                s_batch, a_batch, r_batch, t_batch, s2_batch = replay_buffer.sample_batch(MINIBATCH_SIZE)\n",
    "#                 print \"sbatch: \", s_batch\n",
    "                # Calculate targets\n",
    "                target_q = qnet.predect_target(s2_batch)\n",
    "\n",
    "                y_i = []\n",
    "                for k in range(MINIBATCH_SIZE):\n",
    "                    if t_batch[k]:\n",
    "                        y_i.append(r_batch[k])\n",
    "                    else:\n",
    "                        y_i.append(r_batch[k] + GAMMA * np.amax(target_q[k]))\n",
    "                        \n",
    "                batch_time += time.time() - batch_start\n",
    "\n",
    "                # Update the critic given the targets\n",
    "                train_start = time.time()\n",
    "                predicted_q_value, _ = qnet.train(s_batch, a_batch, np.reshape(y_i, (MINIBATCH_SIZE, 1)), num_epi)\n",
    "\n",
    "                ep_ave_max_q += np.amax(predicted_q_value)\n",
    "                \n",
    "                # Update target networks\n",
    "                qnet.update_target()\n",
    "\n",
    "                train_time += time.time() - train_start\n",
    "\n",
    "            s = s2\n",
    "            ep_reward += r\n",
    "\n",
    "            if terminal or j == MAX_EPISODE_LEN-1:\n",
    "                \n",
    "                if EXPLORATION_RATE > 0.1 and terminal:\n",
    "                    EXPLORATION_RATE = EXPLORATION_RATE*0.992\n",
    "                if GUIDE_RATE > 0.1 and terminal:    \n",
    "                    GUIDE_RATE = GUIDE_RATE*0.992\n",
    "                    \n",
    "                reward_list += [ep_reward]\n",
    "                \n",
    "                if np.average(reward_list[-10:]) > LR_DECAY_TRUNCATION:\n",
    "                    qnet.decay_learning_rate(0.992)\n",
    "\n",
    "                print('| Reward: {:d} | Episode: {:d} | Qmax: {:.4f} | Exploration: {:.6f} | Step: {:d} | LR: {:.8f}'.format(int(ep_reward), \\\n",
    "                        num_epi, (ep_ave_max_q / float(j)), EXPLORATION_RATE, j, qnet.get_learning_rate()))\n",
    "                \n",
    "                f = open(\"stats/\" + file_appendix + \"_stats.txt\", \"ab\")\n",
    "                f.write(\"| Reward: \" + str(int(ep_reward)) \n",
    "                        +\" | Episode: \" + str(num_epi) \n",
    "                        + \" | Qmax: \" + str(ep_ave_max_q / float(j)) \n",
    "                        + \" | Exploration: \" + str(EXPLORATION_RATE)\n",
    "                        + \" | Step: \" + str(j)\n",
    "                        + \" | LR:\" + str(qnet.get_learning_rate()) + \"\\n\")\n",
    "                f.close()\n",
    "                \n",
    "                f = open(\"stats/\" + file_appendix + \"_stats_time.txt\", \"ab\")\n",
    "                f.write(\" | Episode: \" + str(num_epi) \n",
    "                        + \" | Train: \" + str(train_time) \n",
    "                        + \" | Gym: \" + str(gym_time)\n",
    "                        + \" | Batch: \" + str(batch_time) \n",
    "                        + \" | Guide: \" + str(guide_time)\n",
    "                        + \"\\n\")\n",
    "                f.close()\n",
    "                \n",
    "                break\n",
    "                "
   ]
  },
  {
   "cell_type": "code",
   "execution_count": 4,
   "metadata": {},
   "outputs": [],
   "source": [
    "# LTL = \"<>(A && <>(B && <> T)) && []<>A && []<>B\"\n",
    "# LTL = \"[] (p1 -> !(X p1) U (p2 || p3) ) && []<>p1\"\n",
    "# LTL = \"T && []<>A && []<>B\"\n",
    "# LTL = \"<>(A && <>(B && <> T)) && []<>A && []<>B && []!C && []!D\"\n",
    "LTL = \"<>(A && <>(B && <> T)) && []<>A && []<>B && []!C\"\n",
    "# LTL = \"<>(A && <>(B && <> T))\"\n",
    "# LTL = \"<>(A && <>B) && <>[]T && []!C\"\n",
    "# LTL = \"<>(A && <>T) && []!C\"\n",
    "# LTL = \"<>(A && <>(B && <>T)) && []<>(A||T) && []<>B && []!C\"\n",
    "# LTL = \"<>(A && <>(B && <>T)) && []!C\"\n",
    "# LTL = \"<>(A && <>D) && <>(B && <>E) && []<>T && []<>(D || E) && []!C\"\n",
    "\n",
    "LEARNING_RATE = 0.0015\n",
    "GAMMA = 0.99\n",
    "# GAMMA = 0.7\n",
    "TAU = 0.001\n",
    "BUFFER_SIZE = 10**6\n",
    "MINIBATCH_SIZE = 64\n",
    "RANDOM_SEED = 191\n",
    "MAX_EPISODES = 50000\n",
    "MAX_EPISODE_LEN = 1000\n",
    "file_appendix = \"Guide_Planning_2_\" + time.ctime()[4:16].replace(\"  \",\"\").replace(\" \",\"_\").replace(\":\",\"-\") + \"_large_\" + LTL\n",
    "# file_appendix = \"Feb8_03-47\"\n",
    "SUMMARY_DIR = './results/tf_ddqn_' + file_appendix\n",
    "SAVE_DIR = \"./saved_model/\" + file_appendix + \"/ddqn.ckpt\"\n",
    "EXPLORATION_RATE = 0.2\n",
    "GUIDE_RATE = 0.65\n",
    "LR_DECAY_TRUNCATION = -1500\n",
    "RESTORE = 0\n",
    "if sys.platform == \"darwin\":\n",
    "    DEVICE = \"/device:CPU:0\"\n",
    "else:\n",
    "    DEVICE = \"/device:GPU:0\""
   ]
  },
  {
   "cell_type": "code",
   "execution_count": 5,
   "metadata": {
    "scrolled": false
   },
   "outputs": [],
   "source": [
    "env = CurrentWorld(LTL)\n",
    "prod_planner = Prod_Planning(env, LTL)\n",
    "# with open(\"my.dot\", \"r\") as dotfile:\n",
    "#     text = dotfile.read()\n",
    "# Source(text)"
   ]
  },
  {
   "cell_type": "code",
   "execution_count": null,
   "metadata": {
    "scrolled": false
   },
   "outputs": [
    {
     "name": "stderr",
     "output_type": "stream",
     "text": [
      "/home/ubuntu/anaconda3/envs/tensorflow_p27/lib/python2.7/site-packages/tensorflow/python/ops/gradients_impl.py:112: UserWarning: Converting sparse IndexedSlices to a dense Tensor of unknown shape. This may consume a large amount of memory.\n",
      "  \"Converting sparse IndexedSlices to a dense Tensor of unknown shape. \"\n"
     ]
    },
    {
     "name": "stdout",
     "output_type": "stream",
     "text": [
      "Global Solution Found\n",
      "DDQN Saved\n",
      "| Reward: -4514 | Episode: 0 | Qmax: 18.3333 | Exploration: 0.198400 | Step: 294 | LR: 0.00150000\n",
      "| Reward: -2368 | Episode: 1 | Qmax: 50.2445 | Exploration: 0.196813 | Step: 164 | LR: 0.00150000\n",
      "| Reward: -3140 | Episode: 2 | Qmax: 71.3909 | Exploration: 0.195238 | Step: 216 | LR: 0.00150000\n",
      "| Reward: -4630 | Episode: 3 | Qmax: 80.3000 | Exploration: 0.193676 | Step: 311 | LR: 0.00150000\n",
      "| Reward: -4364 | Episode: 4 | Qmax: 91.4326 | Exploration: 0.192127 | Step: 333 | LR: 0.00150000\n",
      "| Reward: -3911 | Episode: 5 | Qmax: 103.3380 | Exploration: 0.190590 | Step: 249 | LR: 0.00150000\n",
      "| Reward: -2362 | Episode: 6 | Qmax: 110.7061 | Exploration: 0.189065 | Step: 230 | LR: 0.00150000\n",
      "| Reward: -4515 | Episode: 7 | Qmax: 116.6991 | Exploration: 0.187553 | Step: 430 | LR: 0.00150000\n",
      "| Reward: -2600 | Episode: 8 | Qmax: 121.2517 | Exploration: 0.186052 | Step: 198 | LR: 0.00150000\n",
      "| Reward: -4606 | Episode: 9 | Qmax: 120.8621 | Exploration: 0.184564 | Step: 377 | LR: 0.00150000\n",
      "| Reward: -2436 | Episode: 10 | Qmax: 125.5062 | Exploration: 0.183087 | Step: 241 | LR: 0.00150000\n",
      "| Reward: -2824 | Episode: 11 | Qmax: 125.8137 | Exploration: 0.181623 | Step: 278 | LR: 0.00150000\n",
      "| Reward: -2344 | Episode: 12 | Qmax: 127.9613 | Exploration: 0.180170 | Step: 239 | LR: 0.00150000\n",
      "| Reward: -2775 | Episode: 13 | Qmax: 127.5019 | Exploration: 0.178728 | Step: 364 | LR: 0.00150000\n",
      "| Reward: -3973 | Episode: 14 | Qmax: 132.4874 | Exploration: 0.177299 | Step: 374 | LR: 0.00150000\n",
      "| Reward: -3202 | Episode: 15 | Qmax: 134.6791 | Exploration: 0.175880 | Step: 359 | LR: 0.00150000\n",
      "| Reward: -3864 | Episode: 16 | Qmax: 136.1010 | Exploration: 0.174473 | Step: 310 | LR: 0.00150000\n",
      "| Reward: -2785 | Episode: 17 | Qmax: 137.2813 | Exploration: 0.173077 | Step: 248 | LR: 0.00150000\n",
      "| Reward: -3889 | Episode: 18 | Qmax: 140.4164 | Exploration: 0.171693 | Step: 380 | LR: 0.00150000\n",
      "| Reward: -4248 | Episode: 19 | Qmax: 142.7825 | Exploration: 0.170319 | Step: 469 | LR: 0.00150000\n",
      "DDQN Saved\n",
      "| Reward: -3528 | Episode: 20 | Qmax: 144.7300 | Exploration: 0.168957 | Step: 262 | LR: 0.00150000\n",
      "| Reward: -3036 | Episode: 21 | Qmax: 144.5294 | Exploration: 0.167605 | Step: 319 | LR: 0.00150000\n",
      "| Reward: -4402 | Episode: 22 | Qmax: 146.9580 | Exploration: 0.166264 | Step: 362 | LR: 0.00150000\n",
      "| Reward: -2754 | Episode: 23 | Qmax: 148.5147 | Exploration: 0.164934 | Step: 307 | LR: 0.00150000\n",
      "| Reward: -3327 | Episode: 24 | Qmax: 148.6066 | Exploration: 0.163615 | Step: 394 | LR: 0.00150000\n",
      "| Reward: -5743 | Episode: 25 | Qmax: 148.5580 | Exploration: 0.162306 | Step: 497 | LR: 0.00150000\n",
      "| Reward: -4503 | Episode: 26 | Qmax: 149.9436 | Exploration: 0.161007 | Step: 373 | LR: 0.00150000\n",
      "| Reward: -3648 | Episode: 27 | Qmax: 150.6350 | Exploration: 0.159719 | Step: 355 | LR: 0.00150000\n",
      "| Reward: -5016 | Episode: 28 | Qmax: 150.3357 | Exploration: 0.158441 | Step: 562 | LR: 0.00150000\n",
      "| Reward: -4227 | Episode: 29 | Qmax: 150.0632 | Exploration: 0.157174 | Step: 412 | LR: 0.00150000\n",
      "| Reward: -4209 | Episode: 30 | Qmax: 150.8225 | Exploration: 0.155916 | Step: 430 | LR: 0.00150000\n",
      "| Reward: -5844 | Episode: 31 | Qmax: 153.5254 | Exploration: 0.154669 | Step: 670 | LR: 0.00150000\n",
      "| Reward: -6065 | Episode: 32 | Qmax: 153.6108 | Exploration: 0.153432 | Step: 594 | LR: 0.00150000\n",
      "| Reward: -4651 | Episode: 33 | Qmax: 153.3651 | Exploration: 0.152204 | Step: 494 | LR: 0.00150000\n",
      "| Reward: -4964 | Episode: 34 | Qmax: 155.2217 | Exploration: 0.150987 | Step: 609 | LR: 0.00150000\n",
      "| Reward: -3941 | Episode: 35 | Qmax: 159.7204 | Exploration: 0.149779 | Step: 414 | LR: 0.00150000\n",
      "| Reward: -4055 | Episode: 36 | Qmax: 160.2796 | Exploration: 0.148581 | Step: 384 | LR: 0.00150000\n",
      "| Reward: -6442 | Episode: 37 | Qmax: 161.8036 | Exploration: 0.147392 | Step: 935 | LR: 0.00150000\n",
      "| Reward: -4834 | Episode: 38 | Qmax: 162.9697 | Exploration: 0.146213 | Step: 533 | LR: 0.00150000\n",
      "| Reward: -6136 | Episode: 39 | Qmax: 164.8269 | Exploration: 0.145043 | Step: 728 | LR: 0.00150000\n",
      "DDQN Saved\n",
      "| Reward: -3848 | Episode: 40 | Qmax: 167.8277 | Exploration: 0.143883 | Step: 636 | LR: 0.00150000\n",
      "| Reward: -7924 | Episode: 41 | Qmax: 170.5092 | Exploration: 0.142732 | Step: 725 | LR: 0.00150000\n",
      "| Reward: -4403 | Episode: 42 | Qmax: 172.8914 | Exploration: 0.141590 | Step: 525 | LR: 0.00150000\n",
      "| Reward: -5907 | Episode: 43 | Qmax: 175.3707 | Exploration: 0.140457 | Step: 859 | LR: 0.00150000\n",
      "| Reward: -5510 | Episode: 44 | Qmax: 177.2541 | Exploration: 0.139333 | Step: 543 | LR: 0.00150000\n",
      "| Reward: -6388 | Episode: 45 | Qmax: 178.2883 | Exploration: 0.138219 | Step: 701 | LR: 0.00150000\n",
      "| Reward: -6268 | Episode: 46 | Qmax: 179.6885 | Exploration: 0.137113 | Step: 617 | LR: 0.00150000\n",
      "| Reward: -4881 | Episode: 47 | Qmax: 180.4439 | Exploration: 0.136016 | Step: 517 | LR: 0.00150000\n",
      "| Reward: -5384 | Episode: 48 | Qmax: 183.1325 | Exploration: 0.134928 | Step: 507 | LR: 0.00150000\n",
      "| Reward: -5915 | Episode: 49 | Qmax: 183.5230 | Exploration: 0.133849 | Step: 768 | LR: 0.00150000\n",
      "| Reward: -5919 | Episode: 50 | Qmax: 184.2823 | Exploration: 0.132778 | Step: 745 | LR: 0.00150000\n",
      "| Reward: -6924 | Episode: 51 | Qmax: 185.9074 | Exploration: 0.131716 | Step: 769 | LR: 0.00150000\n",
      "| Reward: -5743 | Episode: 52 | Qmax: 185.6921 | Exploration: 0.130662 | Step: 551 | LR: 0.00150000\n",
      "| Reward: -5245 | Episode: 53 | Qmax: 185.2705 | Exploration: 0.129617 | Step: 512 | LR: 0.00150000\n",
      "| Reward: -4397 | Episode: 54 | Qmax: 187.3070 | Exploration: 0.128580 | Step: 528 | LR: 0.00150000\n",
      "| Reward: -7290 | Episode: 55 | Qmax: 189.0251 | Exploration: 0.127551 | Step: 910 | LR: 0.00150000\n",
      "| Reward: -10657 | Episode: 56 | Qmax: 188.0535 | Exploration: 0.127551 | Step: 999 | LR: 0.00150000\n",
      "| Reward: -10018 | Episode: 57 | Qmax: 188.1031 | Exploration: 0.127551 | Step: 999 | LR: 0.00150000\n",
      "| Reward: -6389 | Episode: 58 | Qmax: 190.4854 | Exploration: 0.126531 | Step: 630 | LR: 0.00150000\n",
      "| Reward: -7945 | Episode: 59 | Qmax: 191.1386 | Exploration: 0.125518 | Step: 746 | LR: 0.00150000\n",
      "DDQN Saved\n",
      "| Reward: -5391 | Episode: 60 | Qmax: 191.3326 | Exploration: 0.124514 | Step: 478 | LR: 0.00150000\n",
      "| Reward: -4297 | Episode: 61 | Qmax: 191.7015 | Exploration: 0.123518 | Step: 689 | LR: 0.00150000\n",
      "| Reward: -8501 | Episode: 62 | Qmax: 192.0902 | Exploration: 0.122530 | Step: 843 | LR: 0.00150000\n",
      "| Reward: -4226 | Episode: 63 | Qmax: 193.3455 | Exploration: 0.121550 | Step: 474 | LR: 0.00150000\n",
      "| Reward: -6568 | Episode: 64 | Qmax: 193.5020 | Exploration: 0.120577 | Step: 710 | LR: 0.00150000\n",
      "| Reward: -7255 | Episode: 65 | Qmax: 194.1075 | Exploration: 0.120577 | Step: 999 | LR: 0.00150000\n",
      "| Reward: -2971 | Episode: 66 | Qmax: 193.8177 | Exploration: 0.119613 | Step: 407 | LR: 0.00150000\n",
      "| Reward: -4966 | Episode: 67 | Qmax: 193.8088 | Exploration: 0.118656 | Step: 692 | LR: 0.00150000\n",
      "| Reward: -6985 | Episode: 68 | Qmax: 192.6000 | Exploration: 0.118656 | Step: 999 | LR: 0.00150000\n",
      "| Reward: -5357 | Episode: 69 | Qmax: 193.3556 | Exploration: 0.117706 | Step: 507 | LR: 0.00150000\n",
      "| Reward: -11944 | Episode: 70 | Qmax: 193.1961 | Exploration: 0.117706 | Step: 999 | LR: 0.00150000\n",
      "| Reward: -6050 | Episode: 71 | Qmax: 192.3885 | Exploration: 0.116765 | Step: 759 | LR: 0.00150000\n",
      "| Reward: -10625 | Episode: 72 | Qmax: 192.0554 | Exploration: 0.115831 | Step: 942 | LR: 0.00150000\n",
      "| Reward: -11602 | Episode: 73 | Qmax: 191.8653 | Exploration: 0.115831 | Step: 999 | LR: 0.00150000\n",
      "| Reward: -11161 | Episode: 74 | Qmax: 191.8098 | Exploration: 0.115831 | Step: 999 | LR: 0.00150000\n",
      "| Reward: -12691 | Episode: 75 | Qmax: 191.6473 | Exploration: 0.115831 | Step: 999 | LR: 0.00150000\n",
      "| Reward: -9658 | Episode: 76 | Qmax: 190.9980 | Exploration: 0.115831 | Step: 999 | LR: 0.00150000\n",
      "| Reward: -14410 | Episode: 77 | Qmax: 190.1956 | Exploration: 0.115831 | Step: 999 | LR: 0.00150000\n",
      "| Reward: -4847 | Episode: 78 | Qmax: 190.2544 | Exploration: 0.114904 | Step: 834 | LR: 0.00150000\n",
      "| Reward: -7912 | Episode: 79 | Qmax: 189.7859 | Exploration: 0.114904 | Step: 999 | LR: 0.00150000\n",
      "DDQN Saved\n",
      "| Reward: -11863 | Episode: 80 | Qmax: 189.4695 | Exploration: 0.114904 | Step: 999 | LR: 0.00150000\n",
      "| Reward: -6232 | Episode: 81 | Qmax: 189.7842 | Exploration: 0.113985 | Step: 689 | LR: 0.00150000\n"
     ]
    },
    {
     "name": "stdout",
     "output_type": "stream",
     "text": [
      "| Reward: -8517 | Episode: 82 | Qmax: 189.9244 | Exploration: 0.113073 | Step: 886 | LR: 0.00150000\n",
      "| Reward: -12430 | Episode: 83 | Qmax: 189.0495 | Exploration: 0.113073 | Step: 999 | LR: 0.00150000\n",
      "| Reward: -10524 | Episode: 84 | Qmax: 188.4866 | Exploration: 0.112168 | Step: 931 | LR: 0.00150000\n",
      "| Reward: -11845 | Episode: 85 | Qmax: 189.2306 | Exploration: 0.112168 | Step: 999 | LR: 0.00150000\n",
      "| Reward: -8034 | Episode: 86 | Qmax: 188.9207 | Exploration: 0.111271 | Step: 961 | LR: 0.00150000\n",
      "| Reward: -11665 | Episode: 87 | Qmax: 188.4672 | Exploration: 0.111271 | Step: 999 | LR: 0.00150000\n",
      "| Reward: -5717 | Episode: 88 | Qmax: 188.1728 | Exploration: 0.110381 | Step: 741 | LR: 0.00150000\n",
      "| Reward: -12160 | Episode: 89 | Qmax: 188.4433 | Exploration: 0.110381 | Step: 999 | LR: 0.00150000\n",
      "| Reward: -12115 | Episode: 90 | Qmax: 187.6146 | Exploration: 0.110381 | Step: 999 | LR: 0.00150000\n",
      "| Reward: -10747 | Episode: 91 | Qmax: 187.2917 | Exploration: 0.110381 | Step: 999 | LR: 0.00150000\n",
      "| Reward: -4348 | Episode: 92 | Qmax: 188.4302 | Exploration: 0.109498 | Step: 479 | LR: 0.00150000\n",
      "| Reward: -5938 | Episode: 93 | Qmax: 191.0267 | Exploration: 0.108622 | Step: 836 | LR: 0.00150000\n",
      "| Reward: -8848 | Episode: 94 | Qmax: 192.6422 | Exploration: 0.108622 | Step: 999 | LR: 0.00150000\n",
      "| Reward: -11611 | Episode: 95 | Qmax: 192.7728 | Exploration: 0.108622 | Step: 999 | LR: 0.00150000\n",
      "| Reward: -5248 | Episode: 96 | Qmax: 193.5555 | Exploration: 0.108622 | Step: 999 | LR: 0.00150000\n",
      "| Reward: -6614 | Episode: 97 | Qmax: 195.4349 | Exploration: 0.107753 | Step: 846 | LR: 0.00150000\n",
      "| Reward: -7624 | Episode: 98 | Qmax: 196.2691 | Exploration: 0.107753 | Step: 999 | LR: 0.00150000\n",
      "| Reward: -7515 | Episode: 99 | Qmax: 200.0662 | Exploration: 0.106891 | Step: 991 | LR: 0.00150000\n",
      "DDQN Saved\n",
      "| Reward: -8440 | Episode: 100 | Qmax: 200.6039 | Exploration: 0.106036 | Step: 926 | LR: 0.00150000\n",
      "| Reward: -4969 | Episode: 101 | Qmax: 199.1351 | Exploration: 0.106036 | Step: 999 | LR: 0.00150000\n",
      "| Reward: -10900 | Episode: 102 | Qmax: 198.6853 | Exploration: 0.106036 | Step: 999 | LR: 0.00150000\n",
      "| Reward: -6319 | Episode: 103 | Qmax: 199.6227 | Exploration: 0.106036 | Step: 999 | LR: 0.00150000\n",
      "| Reward: -8911 | Episode: 104 | Qmax: 199.5260 | Exploration: 0.106036 | Step: 999 | LR: 0.00150000\n",
      "| Reward: -2599 | Episode: 105 | Qmax: 198.6402 | Exploration: 0.105187 | Step: 449 | LR: 0.00150000\n",
      "| Reward: -5031 | Episode: 106 | Qmax: 199.8744 | Exploration: 0.104346 | Step: 604 | LR: 0.00150000\n",
      "| Reward: -4713 | Episode: 107 | Qmax: 199.7852 | Exploration: 0.103511 | Step: 592 | LR: 0.00150000\n",
      "| Reward: -6382 | Episode: 108 | Qmax: 202.0265 | Exploration: 0.103511 | Step: 999 | LR: 0.00150000\n"
     ]
    }
   ],
   "source": [
    "config=tf.ConfigProto(log_device_placement=False)\n",
    "config.gpu_options.allow_growth = True\n",
    "with tf.Session(config=config) as sess:\n",
    "       \n",
    "    state_dim = 3\n",
    "    action_dim = 5\n",
    "    \n",
    "    if RESTORE:\n",
    "        Qnet = QNet(sess, state_dim, action_dim, LEARNING_RATE, TAU, MINIBATCH_SIZE, SAVE_DIR, DEVICE)\n",
    "        Qnet.saver.restore(sess, RESTORE_PATH)\n",
    "        train(sess, env, Qnet, prod_planner)\n",
    "        \n",
    "    else:\n",
    "        np.random.seed(RANDOM_SEED)\n",
    "        tf.set_random_seed(RANDOM_SEED)\n",
    "        env.seed(RANDOM_SEED)\n",
    "    \n",
    "        Qnet = QNet(sess, state_dim, action_dim, LEARNING_RATE, TAU, MINIBATCH_SIZE, SAVE_DIR, DEVICE)\n",
    "\n",
    "        train(sess, env, Qnet, prod_planner)"
   ]
  },
  {
   "cell_type": "code",
   "execution_count": null,
   "metadata": {},
   "outputs": [],
   "source": [
    "env.reset()"
   ]
  },
  {
   "cell_type": "code",
   "execution_count": null,
   "metadata": {},
   "outputs": [],
   "source": [
    "env.s"
   ]
  },
  {
   "cell_type": "code",
   "execution_count": null,
   "metadata": {},
   "outputs": [],
   "source": [
    "np.where(np.array(prod_planner.opt_rabin) == 1)[0][0]"
   ]
  },
  {
   "cell_type": "code",
   "execution_count": null,
   "metadata": {},
   "outputs": [],
   "source": [
    "np.unravel_index(env.s,(10,10,5))"
   ]
  },
  {
   "cell_type": "code",
   "execution_count": null,
   "metadata": {},
   "outputs": [],
   "source": [
    "np.unravel_index(env.s,(10,10,5))"
   ]
  },
  {
   "cell_type": "code",
   "execution_count": null,
   "metadata": {},
   "outputs": [],
   "source": [
    "ns,r,_,_ = env.step(1)\n",
    "print np.unravel_index(ns,(10,10,5)),r"
   ]
  },
  {
   "cell_type": "code",
   "execution_count": null,
   "metadata": {},
   "outputs": [],
   "source": [
    "prod_planner.get_global_opt()"
   ]
  },
  {
   "cell_type": "code",
   "execution_count": null,
   "metadata": {
    "scrolled": true
   },
   "outputs": [],
   "source": [
    "env.ap_dict"
   ]
  },
  {
   "cell_type": "code",
   "execution_count": null,
   "metadata": {
    "scrolled": true
   },
   "outputs": [],
   "source": [
    "env.last_ap_dict"
   ]
  },
  {
   "cell_type": "code",
   "execution_count": null,
   "metadata": {},
   "outputs": [],
   "source": [
    "env.last_dynamic_coord_dict[(2,2)]"
   ]
  },
  {
   "cell_type": "code",
   "execution_count": null,
   "metadata": {},
   "outputs": [],
   "source": [
    "env.rabin.coord_dict[(2,2)]"
   ]
  },
  {
   "cell_type": "code",
   "execution_count": null,
   "metadata": {},
   "outputs": [],
   "source": [
    "env.dynamic_coord_dict[(2,2)]"
   ]
  },
  {
   "cell_type": "code",
   "execution_count": null,
   "metadata": {},
   "outputs": [],
   "source": [
    "env.rabin.possible_states(1)"
   ]
  },
  {
   "cell_type": "code",
   "execution_count": null,
   "metadata": {},
   "outputs": [],
   "source": [
    "[env.rabin.graph[str(1)][str(0)][k][\"label\"] for k in range(len(env.rabin.graph[str(1)][str(0)]))]"
   ]
  },
  {
   "cell_type": "code",
   "execution_count": null,
   "metadata": {},
   "outputs": [],
   "source": [
    "env.rabin.check_ap(\"C\", u' !A&!T&C')"
   ]
  },
  {
   "cell_type": "code",
   "execution_count": null,
   "metadata": {},
   "outputs": [],
   "source": [
    "env.rabin.graph[\"0\"][\"0\"]"
   ]
  },
  {
   "cell_type": "code",
   "execution_count": null,
   "metadata": {},
   "outputs": [],
   "source": [
    "env._calculate_transition_prob((4, 3, 1), [0,1])"
   ]
  },
  {
   "cell_type": "code",
   "execution_count": null,
   "metadata": {},
   "outputs": [],
   "source": [
    "np.unravel_index(221,(10,10,5))"
   ]
  },
  {
   "cell_type": "code",
   "execution_count": null,
   "metadata": {},
   "outputs": [],
   "source": [
    "env.shape"
   ]
  },
  {
   "cell_type": "code",
   "execution_count": null,
   "metadata": {},
   "outputs": [],
   "source": [
    "current = (4,3,1)\n",
    "delta=[0,1]\n",
    "delta_list = [[-1, 0], [1, 0], [0, -1], [0, 1], [0, 0]]"
   ]
  },
  {
   "cell_type": "code",
   "execution_count": null,
   "metadata": {},
   "outputs": [],
   "source": [
    "new_position_candidates = [np.array(current[:2]) + np.array(delta)]\n",
    "new_position_candidates += [np.array(current[:2]) + np.array(i) for i in delta_list if i != delta]"
   ]
  },
  {
   "cell_type": "code",
   "execution_count": null,
   "metadata": {},
   "outputs": [],
   "source": [
    "print new_positions"
   ]
  },
  {
   "cell_type": "code",
   "execution_count": null,
   "metadata": {},
   "outputs": [],
   "source": [
    "new_positions = [env._limit_coordinates(i).astype(int) for i in new_position_candidates]"
   ]
  },
  {
   "cell_type": "code",
   "execution_count": null,
   "metadata": {},
   "outputs": [],
   "source": [
    "next_rabin_state = [env.rabin.next_state(current, tuple(i)) for i in new_positions]"
   ]
  },
  {
   "cell_type": "code",
   "execution_count": null,
   "metadata": {},
   "outputs": [],
   "source": [
    "env.rabin.next_state((4,3,1),(4,4))"
   ]
  },
  {
   "cell_type": "code",
   "execution_count": null,
   "metadata": {},
   "outputs": [],
   "source": [
    "env.rabin.coord_dict[(2,7)]"
   ]
  },
  {
   "cell_type": "code",
   "execution_count": null,
   "metadata": {},
   "outputs": [],
   "source": [
    "env.rabin.next_state((4,3,1),[0,1])"
   ]
  },
  {
   "cell_type": "code",
   "execution_count": null,
   "metadata": {},
   "outputs": [],
   "source": [
    "env.rabin.deadlock"
   ]
  },
  {
   "cell_type": "code",
   "execution_count": null,
   "metadata": {},
   "outputs": [],
   "source": [
    "np.where(np.array(prod_planner.opt_rabin) == 8)[0]"
   ]
  },
  {
   "cell_type": "code",
   "execution_count": null,
   "metadata": {},
   "outputs": [],
   "source": [
    "env = CurrentWorld(LTL.lower())"
   ]
  },
  {
   "cell_type": "code",
   "execution_count": null,
   "metadata": {},
   "outputs": [],
   "source": [
    "prod_planner = Prod_Planning(env, LTL.lower())"
   ]
  },
  {
   "cell_type": "code",
   "execution_count": null,
   "metadata": {},
   "outputs": [],
   "source": [
    "prod_planner.update_wfts_ap()"
   ]
  },
  {
   "cell_type": "code",
   "execution_count": null,
   "metadata": {},
   "outputs": [],
   "source": [
    "env.dynamic_coord_dict[(5,5)]"
   ]
  },
  {
   "cell_type": "code",
   "execution_count": null,
   "metadata": {},
   "outputs": [],
   "source": [
    "env.last_dynamic_coord_dict[(5,5)]"
   ]
  },
  {
   "cell_type": "code",
   "execution_count": null,
   "metadata": {},
   "outputs": [],
   "source": [
    "prod_planner.region_list[np.ravel_multi_index((5,5),(10,10))].ap"
   ]
  },
  {
   "cell_type": "code",
   "execution_count": null,
   "metadata": {},
   "outputs": [],
   "source": [
    "env.ap_dict"
   ]
  },
  {
   "cell_type": "code",
   "execution_count": null,
   "metadata": {},
   "outputs": [],
   "source": [
    "env.last_ap_dict"
   ]
  },
  {
   "cell_type": "code",
   "execution_count": null,
   "metadata": {},
   "outputs": [],
   "source": [
    "env.step(1)"
   ]
  }
 ],
 "metadata": {
  "kernelspec": {
   "display_name": "Environment (conda_tensorflow_p27)",
   "language": "python",
   "name": "conda_tensorflow_p27"
  },
  "language_info": {
   "codemirror_mode": {
    "name": "ipython",
    "version": 2
   },
   "file_extension": ".py",
   "mimetype": "text/x-python",
   "name": "python",
   "nbconvert_exporter": "python",
   "pygments_lexer": "ipython2",
   "version": "2.7.15"
  }
 },
 "nbformat": 4,
 "nbformat_minor": 2
}
