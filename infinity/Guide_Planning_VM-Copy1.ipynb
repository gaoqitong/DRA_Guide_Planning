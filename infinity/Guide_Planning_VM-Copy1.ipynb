{
 "cells": [
  {
   "cell_type": "code",
   "execution_count": 1,
   "metadata": {},
   "outputs": [],
   "source": [
    "import sys\n",
    "sys.path.append(\"../\")"
   ]
  },
  {
   "cell_type": "code",
   "execution_count": 2,
   "metadata": {},
   "outputs": [
    {
     "name": "stderr",
     "output_type": "stream",
     "text": [
      "/home/ubuntu/anaconda3/envs/tensorflow_p27/lib/python2.7/site-packages/h5py/__init__.py:36: FutureWarning: Conversion of the second argument of issubdtype from `float` to `np.floating` is deprecated. In future, it will be treated as `np.float64 == np.dtype(float).type`.\n",
      "  from ._conv import register_converters as _register_converters\n"
     ]
    }
   ],
   "source": [
    "from __future__ import division\n",
    "from full_prod_DRA import *\n",
    "from buchi import buchi_from_ltl\n",
    "import numpy as np\n",
    "from env_sensing_error import *\n",
    "import scipy\n",
    "# from plot_path_for_prod import *\n",
    "from graphviz import Source\n",
    "from qnetwork import *\n",
    "from utils import *\n",
    "import matplotlib.pyplot as plt\n",
    "# from Plot_Path import *\n",
    "import tensorflow as tf\n",
    "from dra_planning import *\n",
    "import time"
   ]
  },
  {
   "cell_type": "code",
   "execution_count": 3,
   "metadata": {},
   "outputs": [],
   "source": [
    "def train(sess, env, qnet, prod_planner):\n",
    "    \n",
    "    global EXPLORATION_RATE\n",
    "    global GUIDE_RATE\n",
    "  \n",
    "    summary_ops, summary_vars = build_summaries()\n",
    "    if not RESTORE:\n",
    "        sess.run(tf.global_variables_initializer())\n",
    "    writer = tf.summary.FileWriter(SUMMARY_DIR, sess.graph)\n",
    "    \n",
    "    qnet.update_target()\n",
    "    \n",
    "    replay_buffer = ReplayBuffer(BUFFER_SIZE, RANDOM_SEED)\n",
    "    \n",
    "    while len(prod_planner.opt_path) == 0:\n",
    "        env.step(np.random.randint(0,qnet.action_dim))\n",
    "        prod_planner.update_wfts_ap()\n",
    "        env.update_dynamic_rabin()\n",
    "        prod_planner.get_global_opt()\n",
    "    print \"Global Solution Found\"\n",
    "    prod_planner.get_opt_rabin()\n",
    "    \n",
    "    saved_dra_planners = {}\n",
    "    \n",
    "    for num_epi in range(MAX_EPISODES):\n",
    "        \n",
    "#         print \"Epi: \", num_epi\n",
    "\n",
    "        s = env.reset()\n",
    "        s = list(np.unravel_index(s, env.shape))\n",
    "#         prod_planner.replace_region_list()\n",
    "        prod_planner.update_wfts_ap()\n",
    "\n",
    "        ep_reward = 0\n",
    "        ep_ave_max_q = 0\n",
    "        \n",
    "        reward_list = []\n",
    "        \n",
    "        train_time = 0\n",
    "        batch_time = 0\n",
    "        gym_time = 0\n",
    "        guide_time = 0\n",
    "\n",
    "        for j in range(MAX_EPISODE_LEN):\n",
    "            \n",
    "#             print \"Step: \", j\n",
    "            \n",
    "            gym_start = time.time()\n",
    "\n",
    "            rand_num = np.random.rand(1)\n",
    "    \n",
    "            if rand_num <= EXPLORATION_RATE:\n",
    "                a = np.random.randint(0,qnet.action_dim)\n",
    "                s2, r, terminal, info = env.step(a)\n",
    "                \n",
    "            elif rand_num <= GUIDE_RATE+EXPLORATION_RATE and rand_num > EXPLORATION_RATE:\n",
    "#                 print \"GUIDE\"\n",
    "                guide_start = time.time()\n",
    "                \n",
    "                if rand_num > EXPLORATION_RATE + 0.9*GUIDE_RATE:\n",
    "                # Only update global plan with 0.2 prob for efficiency\n",
    "                    env.update_dynamic_rabin()\n",
    "                    prod_planner.get_global_opt()\n",
    "                    prod_planner.get_opt_rabin()\n",
    "                    \n",
    "                if len(prod_planner.opt_path) > 0:\n",
    "#                     print \"S: \", s\n",
    "#                     print \"last a: \", a\n",
    "                    new_ltl = prod_planner.get_next_ltl(s[-1])\n",
    "                    \n",
    "#                     if new_ltl in saved_dra_planners.keys():\n",
    "                    guide_path = prod_planner.get_local_opt(s[:-1], new_ltl)\n",
    "                    if guide_path != None:\n",
    "#                         print \"GUIDE\"\n",
    "                        a = convert_path_to_action(guide_path)\n",
    "                    else:\n",
    "                        a = np.random.randint(0,qnet.action_dim)\n",
    "#                     else:\n",
    "#                         guide_path = prod_planner.get_local_opt(s[:-1], new_ltl)\n",
    "#                         saved_dra_planners[new_ltl] = prod_planner.dra_full_prod\n",
    "#                         if guide_path != None:\n",
    "#                             a = convert_path_to_action(guide_path)\n",
    "#                         else:\n",
    "#                             a = np.random.randint(0,qnet.action_dim)\n",
    "                        \n",
    "                else:\n",
    "                    a = np.random.randint(0,qnet.action_dim)\n",
    "                \n",
    "                s2, r, terminal, info = env.step(a)\n",
    "                \n",
    "                guide_time += time.time() - guide_start\n",
    "                \n",
    "            else:\n",
    "                a = np.argmax(qnet.predict_q(np.reshape(s, (1, qnet.state_dim))))\n",
    "                s2, r, terminal, info = env.step(a)\n",
    "\n",
    "            prod_planner.update_wfts_ap()\n",
    "                \n",
    "            gym_time += time.time() - gym_start\n",
    "            \n",
    "            batch_start = time.time()\n",
    "            \n",
    "            s2 = list(np.unravel_index(s2, env.shape))\n",
    "\n",
    "            replay_buffer.add(np.reshape(s, (qnet.state_dim,)), np.reshape(a, (1,)), r,\n",
    "                              terminal, np.reshape(s2, (qnet.state_dim,)))\n",
    "            batch_time += time.time() - batch_start\n",
    "\n",
    "            # Keep adding experience to the memory until\n",
    "            # there are at least minibatch size samples\n",
    "            if replay_buffer.size() > MINIBATCH_SIZE:\n",
    "                \n",
    "                batch_start = time.time()\n",
    "                s_batch, a_batch, r_batch, t_batch, s2_batch = replay_buffer.sample_batch(MINIBATCH_SIZE)\n",
    "#                 print \"sbatch: \", s_batch\n",
    "                # Calculate targets\n",
    "                target_q = qnet.predect_target(s2_batch)\n",
    "\n",
    "                y_i = []\n",
    "                for k in range(MINIBATCH_SIZE):\n",
    "                    if t_batch[k]:\n",
    "                        y_i.append(r_batch[k])\n",
    "                    else:\n",
    "                        y_i.append(r_batch[k] + GAMMA * np.amax(target_q[k]))\n",
    "                        \n",
    "                batch_time += time.time() - batch_start\n",
    "\n",
    "                # Update the critic given the targets\n",
    "                train_start = time.time()\n",
    "                predicted_q_value, _ = qnet.train(s_batch, a_batch, np.reshape(y_i, (MINIBATCH_SIZE, 1)), num_epi)\n",
    "\n",
    "                ep_ave_max_q += np.amax(predicted_q_value)\n",
    "                \n",
    "                # Update target networks\n",
    "                qnet.update_target()\n",
    "\n",
    "                train_time += time.time() - train_start\n",
    "\n",
    "            s = s2\n",
    "            ep_reward += r\n",
    "\n",
    "            if terminal or j == MAX_EPISODE_LEN-1:\n",
    "                \n",
    "                if EXPLORATION_RATE > 0.1 and terminal:\n",
    "                    EXPLORATION_RATE = EXPLORATION_RATE*0.992\n",
    "                if GUIDE_RATE > 0.1 and terminal:    \n",
    "                    GUIDE_RATE = GUIDE_RATE*0.992\n",
    "                    \n",
    "                reward_list += [ep_reward]\n",
    "                \n",
    "                if np.average(reward_list[-10:]) > LR_DECAY_TRUNCATION:\n",
    "                    qnet.decay_learning_rate(0.992)\n",
    "\n",
    "                print('| Reward: {:d} | Episode: {:d} | Qmax: {:.4f} | Exploration: {:.6f} | Step: {:d} | LR: {:.8f}'.format(int(ep_reward), \\\n",
    "                        num_epi, (ep_ave_max_q / float(j)), EXPLORATION_RATE, j, qnet.get_learning_rate()))\n",
    "                \n",
    "                f = open(\"stats/\" + file_appendix + \"_stats.txt\", \"ab\")\n",
    "                f.write(\"| Reward: \" + str(int(ep_reward)) \n",
    "                        +\" | Episode: \" + str(num_epi) \n",
    "                        + \" | Qmax: \" + str(ep_ave_max_q / float(j)) \n",
    "                        + \" | Exploration: \" + str(EXPLORATION_RATE)\n",
    "                        + \" | Step: \" + str(j)\n",
    "                        + \" | LR:\" + str(qnet.get_learning_rate()) + \"\\n\")\n",
    "                f.close()\n",
    "                \n",
    "                f = open(\"stats/\" + file_appendix + \"_stats_time.txt\", \"ab\")\n",
    "                f.write(\" | Episode: \" + str(num_epi) \n",
    "                        + \" | Train: \" + str(train_time) \n",
    "                        + \" | Gym: \" + str(gym_time)\n",
    "                        + \" | Batch: \" + str(batch_time) \n",
    "                        + \" | Guide: \" + str(guide_time)\n",
    "                        + \"\\n\")\n",
    "                f.close()\n",
    "                \n",
    "                break\n",
    "                "
   ]
  },
  {
   "cell_type": "code",
   "execution_count": 4,
   "metadata": {},
   "outputs": [],
   "source": [
    "# LTL = \"<>(A && <>(B && <> T)) && []<>A && []<>B\"\n",
    "# LTL = \"[] (p1 -> !(X p1) U (p2 || p3) ) && []<>p1\"\n",
    "# LTL = \"T && []<>A && []<>B\"\n",
    "# LTL = \"<>(A && <>(B && <> T)) && []<>A && []<>B && []!C && []!D\"\n",
    "LTL = \"<>(A && <>(B && <> T)) && []<>A && []<>B && []!C\"\n",
    "# LTL = \"<>(A && <>(B && <> T))\"\n",
    "# LTL = \"<>(A && <>B) && <>[]T && []!C\"\n",
    "# LTL = \"<>(A && <>T) && []!C\"\n",
    "# LTL = \"<>(A && <>(B && <>T)) && []<>(A||T) && []<>B && []!C\"\n",
    "# LTL = \"<>(A && <>(B && <>T)) && []!C\"\n",
    "# LTL = \"<>(A && <>D) && <>(B && <>E) && []<>T && []<>(D || E) && []!C\"\n",
    "\n",
    "LEARNING_RATE = 0.001\n",
    "GAMMA = 0.99\n",
    "# GAMMA = 0.7\n",
    "TAU = 0.001\n",
    "BUFFER_SIZE = 10**6\n",
    "MINIBATCH_SIZE = 64\n",
    "RANDOM_SEED = 191\n",
    "MAX_EPISODES = 50000\n",
    "MAX_EPISODE_LEN = 1000\n",
    "file_appendix = \"Guide_Planning_2_\" + time.ctime()[4:16].replace(\"  \",\"\").replace(\" \",\"_\").replace(\":\",\"-\") + \"_large_\" + LTL\n",
    "# file_appendix = \"Feb8_03-47\"\n",
    "SUMMARY_DIR = './results/tf_ddqn_' + file_appendix\n",
    "SAVE_DIR = \"./saved_model/\" + file_appendix + \"/ddqn.ckpt\"\n",
    "EXPLORATION_RATE = 0.2\n",
    "GUIDE_RATE = 0.3\n",
    "LR_DECAY_TRUNCATION = -1500\n",
    "RESTORE = 0\n",
    "if sys.platform == \"darwin\":\n",
    "    DEVICE = \"/device:CPU:0\"\n",
    "else:\n",
    "    DEVICE = \"/device:GPU:0\""
   ]
  },
  {
   "cell_type": "code",
   "execution_count": 5,
   "metadata": {
    "scrolled": false
   },
   "outputs": [],
   "source": [
    "env = CurrentWorld(LTL)\n",
    "prod_planner = Prod_Planning(env, LTL)\n",
    "# with open(\"my.dot\", \"r\") as dotfile:\n",
    "#     text = dotfile.read()\n",
    "# Source(text)"
   ]
  },
  {
   "cell_type": "code",
   "execution_count": null,
   "metadata": {
    "scrolled": false
   },
   "outputs": [
    {
     "name": "stderr",
     "output_type": "stream",
     "text": [
      "/home/ubuntu/anaconda3/envs/tensorflow_p27/lib/python2.7/site-packages/tensorflow/python/ops/gradients_impl.py:112: UserWarning: Converting sparse IndexedSlices to a dense Tensor of unknown shape. This may consume a large amount of memory.\n",
      "  \"Converting sparse IndexedSlices to a dense Tensor of unknown shape. \"\n"
     ]
    },
    {
     "name": "stdout",
     "output_type": "stream",
     "text": [
      "Global Solution Found\n",
      "DDQN Saved\n",
      "| Reward: -11800 | Episode: 0 | Qmax: 23.6044 | Exploration: 0.200000 | Step: 999 | LR: 0.00100000\n",
      "| Reward: -10720 | Episode: 1 | Qmax: 45.0321 | Exploration: 0.200000 | Step: 999 | LR: 0.00100000\n",
      "| Reward: -10630 | Episode: 2 | Qmax: 50.2555 | Exploration: 0.200000 | Step: 999 | LR: 0.00100000\n",
      "| Reward: -12520 | Episode: 3 | Qmax: 40.2148 | Exploration: 0.200000 | Step: 999 | LR: 0.00100000\n",
      "| Reward: -10630 | Episode: 4 | Qmax: 28.5104 | Exploration: 0.200000 | Step: 999 | LR: 0.00100000\n",
      "| Reward: -10000 | Episode: 5 | Qmax: 17.4403 | Exploration: 0.200000 | Step: 999 | LR: 0.00100000\n",
      "| Reward: -11440 | Episode: 6 | Qmax: 7.9854 | Exploration: 0.200000 | Step: 999 | LR: 0.00100000\n",
      "| Reward: -12340 | Episode: 7 | Qmax: 2.1735 | Exploration: 0.200000 | Step: 999 | LR: 0.00100000\n",
      "| Reward: -9667 | Episode: 8 | Qmax: -0.0313 | Exploration: 0.200000 | Step: 999 | LR: 0.00100000\n",
      "| Reward: -8046 | Episode: 9 | Qmax: 10.0855 | Exploration: 0.198400 | Step: 883 | LR: 0.00100000\n",
      "| Reward: -5860 | Episode: 10 | Qmax: 16.0211 | Exploration: 0.196813 | Step: 641 | LR: 0.00100000\n",
      "| Reward: -8821 | Episode: 11 | Qmax: 17.8245 | Exploration: 0.196813 | Step: 999 | LR: 0.00100000\n",
      "| Reward: -11152 | Episode: 12 | Qmax: 20.0733 | Exploration: 0.196813 | Step: 999 | LR: 0.00100000\n",
      "| Reward: -8056 | Episode: 13 | Qmax: 20.8646 | Exploration: 0.196813 | Step: 999 | LR: 0.00100000\n",
      "| Reward: -9550 | Episode: 14 | Qmax: 24.5343 | Exploration: 0.196813 | Step: 999 | LR: 0.00100000\n",
      "| Reward: -7480 | Episode: 15 | Qmax: 26.6610 | Exploration: 0.196813 | Step: 999 | LR: 0.00100000\n",
      "| Reward: -9199 | Episode: 16 | Qmax: 29.2291 | Exploration: 0.196813 | Step: 999 | LR: 0.00100000\n",
      "| Reward: -10090 | Episode: 17 | Qmax: 32.1413 | Exploration: 0.196813 | Step: 999 | LR: 0.00100000\n",
      "| Reward: -12970 | Episode: 18 | Qmax: 35.1624 | Exploration: 0.196813 | Step: 999 | LR: 0.00100000\n",
      "| Reward: -12610 | Episode: 19 | Qmax: 37.1389 | Exploration: 0.196813 | Step: 999 | LR: 0.00100000\n",
      "DDQN Saved\n",
      "| Reward: -13240 | Episode: 20 | Qmax: 40.1626 | Exploration: 0.196813 | Step: 999 | LR: 0.00100000\n",
      "| Reward: -13600 | Episode: 21 | Qmax: 43.8504 | Exploration: 0.196813 | Step: 999 | LR: 0.00100000\n",
      "| Reward: -13690 | Episode: 22 | Qmax: 49.6857 | Exploration: 0.196813 | Step: 999 | LR: 0.00100000\n",
      "| Reward: -11980 | Episode: 23 | Qmax: 53.1639 | Exploration: 0.196813 | Step: 999 | LR: 0.00100000\n",
      "| Reward: -13510 | Episode: 24 | Qmax: 59.5068 | Exploration: 0.196813 | Step: 999 | LR: 0.00100000\n",
      "| Reward: -11611 | Episode: 25 | Qmax: 64.7211 | Exploration: 0.196813 | Step: 999 | LR: 0.00100000\n",
      "| Reward: -13960 | Episode: 26 | Qmax: 69.2377 | Exploration: 0.196813 | Step: 999 | LR: 0.00100000\n",
      "| Reward: -13510 | Episode: 27 | Qmax: 73.3095 | Exploration: 0.196813 | Step: 999 | LR: 0.00100000\n",
      "| Reward: -12790 | Episode: 28 | Qmax: 75.3311 | Exploration: 0.196813 | Step: 999 | LR: 0.00100000\n",
      "| Reward: -12250 | Episode: 29 | Qmax: 77.7951 | Exploration: 0.196813 | Step: 999 | LR: 0.00100000\n",
      "| Reward: -11620 | Episode: 30 | Qmax: 80.8265 | Exploration: 0.196813 | Step: 999 | LR: 0.00100000\n",
      "| Reward: -14410 | Episode: 31 | Qmax: 82.4498 | Exploration: 0.196813 | Step: 999 | LR: 0.00100000\n",
      "| Reward: -13060 | Episode: 32 | Qmax: 83.5438 | Exploration: 0.196813 | Step: 999 | LR: 0.00100000\n",
      "| Reward: -14320 | Episode: 33 | Qmax: 84.6808 | Exploration: 0.196813 | Step: 999 | LR: 0.00100000\n",
      "| Reward: -12970 | Episode: 34 | Qmax: 86.9556 | Exploration: 0.196813 | Step: 999 | LR: 0.00100000\n",
      "| Reward: -12160 | Episode: 35 | Qmax: 86.8431 | Exploration: 0.196813 | Step: 999 | LR: 0.00100000\n",
      "| Reward: -14050 | Episode: 36 | Qmax: 88.8247 | Exploration: 0.196813 | Step: 999 | LR: 0.00100000\n",
      "| Reward: -11620 | Episode: 37 | Qmax: 89.0981 | Exploration: 0.196813 | Step: 999 | LR: 0.00100000\n",
      "| Reward: -13240 | Episode: 38 | Qmax: 88.5029 | Exploration: 0.196813 | Step: 999 | LR: 0.00100000\n",
      "| Reward: -14050 | Episode: 39 | Qmax: 89.0291 | Exploration: 0.196813 | Step: 999 | LR: 0.00100000\n",
      "DDQN Saved\n",
      "| Reward: -11710 | Episode: 40 | Qmax: 92.1578 | Exploration: 0.196813 | Step: 999 | LR: 0.00100000\n",
      "| Reward: -12907 | Episode: 41 | Qmax: 91.4852 | Exploration: 0.196813 | Step: 999 | LR: 0.00100000\n",
      "| Reward: -11431 | Episode: 42 | Qmax: 94.7005 | Exploration: 0.196813 | Step: 999 | LR: 0.00100000\n",
      "| Reward: -11260 | Episode: 43 | Qmax: 95.5464 | Exploration: 0.196813 | Step: 999 | LR: 0.00100000\n",
      "| Reward: -11413 | Episode: 44 | Qmax: 97.1654 | Exploration: 0.196813 | Step: 999 | LR: 0.00100000\n",
      "| Reward: -10720 | Episode: 45 | Qmax: 98.1445 | Exploration: 0.196813 | Step: 999 | LR: 0.00100000\n",
      "| Reward: -8974 | Episode: 46 | Qmax: 97.1028 | Exploration: 0.196813 | Step: 999 | LR: 0.00100000\n",
      "| Reward: -9766 | Episode: 47 | Qmax: 97.3132 | Exploration: 0.196813 | Step: 999 | LR: 0.00100000\n",
      "| Reward: -8071 | Episode: 48 | Qmax: 98.5605 | Exploration: 0.195238 | Step: 782 | LR: 0.00100000\n",
      "| Reward: -5374 | Episode: 49 | Qmax: 98.8039 | Exploration: 0.193676 | Step: 902 | LR: 0.00100000\n",
      "| Reward: -7450 | Episode: 50 | Qmax: 98.1269 | Exploration: 0.192127 | Step: 872 | LR: 0.00100000\n",
      "| Reward: -8947 | Episode: 51 | Qmax: 98.3372 | Exploration: 0.190590 | Step: 866 | LR: 0.00100000\n",
      "| Reward: -5500 | Episode: 52 | Qmax: 97.8049 | Exploration: 0.190590 | Step: 999 | LR: 0.00100000\n",
      "| Reward: -5713 | Episode: 53 | Qmax: 97.3522 | Exploration: 0.189065 | Step: 647 | LR: 0.00100000\n",
      "| Reward: -8001 | Episode: 54 | Qmax: 97.7008 | Exploration: 0.187553 | Step: 802 | LR: 0.00100000\n",
      "| Reward: -10486 | Episode: 55 | Qmax: 96.0414 | Exploration: 0.187553 | Step: 999 | LR: 0.00100000\n",
      "| Reward: -6968 | Episode: 56 | Qmax: 96.0414 | Exploration: 0.186052 | Step: 858 | LR: 0.00100000\n",
      "| Reward: -6174 | Episode: 57 | Qmax: 97.3240 | Exploration: 0.184564 | Step: 676 | LR: 0.00100000\n",
      "| Reward: -3959 | Episode: 58 | Qmax: 95.7311 | Exploration: 0.183087 | Step: 657 | LR: 0.00100000\n",
      "| Reward: -5986 | Episode: 59 | Qmax: 95.8655 | Exploration: 0.183087 | Step: 999 | LR: 0.00100000\n",
      "DDQN Saved\n",
      "| Reward: -8344 | Episode: 60 | Qmax: 95.0098 | Exploration: 0.183087 | Step: 999 | LR: 0.00100000\n",
      "| Reward: -7354 | Episode: 61 | Qmax: 95.2293 | Exploration: 0.183087 | Step: 999 | LR: 0.00100000\n",
      "| Reward: -7768 | Episode: 62 | Qmax: 94.7623 | Exploration: 0.183087 | Step: 999 | LR: 0.00100000\n",
      "| Reward: -6397 | Episode: 63 | Qmax: 94.9378 | Exploration: 0.181623 | Step: 872 | LR: 0.00100000\n",
      "| Reward: -8245 | Episode: 64 | Qmax: 94.8373 | Exploration: 0.181623 | Step: 999 | LR: 0.00100000\n",
      "| Reward: -7120 | Episode: 65 | Qmax: 94.6053 | Exploration: 0.181623 | Step: 999 | LR: 0.00100000\n",
      "| Reward: -10783 | Episode: 66 | Qmax: 94.2835 | Exploration: 0.181623 | Step: 999 | LR: 0.00100000\n",
      "| Reward: -7372 | Episode: 67 | Qmax: 94.8205 | Exploration: 0.181623 | Step: 999 | LR: 0.00100000\n",
      "| Reward: -8410 | Episode: 68 | Qmax: 94.6791 | Exploration: 0.180170 | Step: 860 | LR: 0.00100000\n",
      "| Reward: -8704 | Episode: 69 | Qmax: 95.5372 | Exploration: 0.180170 | Step: 999 | LR: 0.00100000\n",
      "| Reward: -5813 | Episode: 70 | Qmax: 96.7198 | Exploration: 0.178728 | Step: 855 | LR: 0.00100000\n",
      "| Reward: -6658 | Episode: 71 | Qmax: 98.7793 | Exploration: 0.177299 | Step: 881 | LR: 0.00100000\n",
      "| Reward: -8272 | Episode: 72 | Qmax: 99.5592 | Exploration: 0.177299 | Step: 999 | LR: 0.00100000\n",
      "| Reward: -3178 | Episode: 73 | Qmax: 101.9382 | Exploration: 0.175880 | Step: 587 | LR: 0.00100000\n",
      "| Reward: -6683 | Episode: 74 | Qmax: 101.8355 | Exploration: 0.174473 | Step: 888 | LR: 0.00100000\n",
      "| Reward: -11350 | Episode: 75 | Qmax: 102.9284 | Exploration: 0.174473 | Step: 999 | LR: 0.00100000\n",
      "| Reward: -9334 | Episode: 76 | Qmax: 102.5103 | Exploration: 0.174473 | Step: 999 | LR: 0.00100000\n",
      "| Reward: -7435 | Episode: 77 | Qmax: 106.1186 | Exploration: 0.174473 | Step: 999 | LR: 0.00100000\n",
      "| Reward: -10801 | Episode: 78 | Qmax: 105.9180 | Exploration: 0.174473 | Step: 999 | LR: 0.00100000\n",
      "| Reward: -3774 | Episode: 79 | Qmax: 107.6535 | Exploration: 0.173077 | Step: 481 | LR: 0.00100000\n",
      "DDQN Saved\n",
      "| Reward: -8836 | Episode: 80 | Qmax: 108.5489 | Exploration: 0.171693 | Step: 935 | LR: 0.00100000\n",
      "| Reward: -9208 | Episode: 81 | Qmax: 110.6402 | Exploration: 0.171693 | Step: 999 | LR: 0.00100000\n"
     ]
    },
    {
     "name": "stdout",
     "output_type": "stream",
     "text": [
      "| Reward: -5968 | Episode: 82 | Qmax: 112.1274 | Exploration: 0.171693 | Step: 999 | LR: 0.00100000\n",
      "| Reward: -5077 | Episode: 83 | Qmax: 117.5759 | Exploration: 0.171693 | Step: 999 | LR: 0.00100000\n",
      "| Reward: -6481 | Episode: 84 | Qmax: 119.0657 | Exploration: 0.171693 | Step: 999 | LR: 0.00100000\n",
      "| Reward: -11530 | Episode: 85 | Qmax: 120.7975 | Exploration: 0.171693 | Step: 999 | LR: 0.00100000\n",
      "| Reward: -4359 | Episode: 86 | Qmax: 120.5263 | Exploration: 0.170319 | Step: 481 | LR: 0.00100000\n",
      "| Reward: -4653 | Episode: 87 | Qmax: 121.2413 | Exploration: 0.168957 | Step: 595 | LR: 0.00100000\n",
      "| Reward: -7345 | Episode: 88 | Qmax: 121.6176 | Exploration: 0.168957 | Step: 999 | LR: 0.00100000\n",
      "| Reward: -8380 | Episode: 89 | Qmax: 121.4509 | Exploration: 0.168957 | Step: 999 | LR: 0.00100000\n",
      "| Reward: -6256 | Episode: 90 | Qmax: 122.8661 | Exploration: 0.168957 | Step: 999 | LR: 0.00100000\n",
      "| Reward: -4194 | Episode: 91 | Qmax: 122.6936 | Exploration: 0.167605 | Step: 757 | LR: 0.00100000\n",
      "| Reward: -11440 | Episode: 92 | Qmax: 122.7089 | Exploration: 0.167605 | Step: 999 | LR: 0.00100000\n",
      "| Reward: -8236 | Episode: 93 | Qmax: 122.4388 | Exploration: 0.167605 | Step: 999 | LR: 0.00100000\n",
      "| Reward: -11890 | Episode: 94 | Qmax: 121.9406 | Exploration: 0.167605 | Step: 999 | LR: 0.00100000\n",
      "| Reward: -6686 | Episode: 95 | Qmax: 122.3231 | Exploration: 0.166264 | Step: 846 | LR: 0.00100000\n",
      "| Reward: -10720 | Episode: 96 | Qmax: 121.2437 | Exploration: 0.166264 | Step: 999 | LR: 0.00100000\n",
      "| Reward: -6859 | Episode: 97 | Qmax: 120.4013 | Exploration: 0.166264 | Step: 999 | LR: 0.00100000\n",
      "| Reward: -11179 | Episode: 98 | Qmax: 120.4063 | Exploration: 0.166264 | Step: 999 | LR: 0.00100000\n",
      "| Reward: -10990 | Episode: 99 | Qmax: 119.9856 | Exploration: 0.166264 | Step: 999 | LR: 0.00100000\n",
      "DDQN Saved\n",
      "| Reward: -3967 | Episode: 100 | Qmax: 118.9003 | Exploration: 0.164934 | Step: 539 | LR: 0.00100000\n",
      "| Reward: -10540 | Episode: 101 | Qmax: 118.9072 | Exploration: 0.164934 | Step: 999 | LR: 0.00100000\n",
      "| Reward: -9127 | Episode: 102 | Qmax: 119.3899 | Exploration: 0.164934 | Step: 999 | LR: 0.00100000\n",
      "| Reward: -11260 | Episode: 103 | Qmax: 119.0788 | Exploration: 0.164934 | Step: 999 | LR: 0.00100000\n",
      "| Reward: -11350 | Episode: 104 | Qmax: 118.3620 | Exploration: 0.164934 | Step: 999 | LR: 0.00100000\n",
      "| Reward: -10180 | Episode: 105 | Qmax: 118.6403 | Exploration: 0.164934 | Step: 999 | LR: 0.00100000\n",
      "| Reward: -10369 | Episode: 106 | Qmax: 118.5186 | Exploration: 0.164934 | Step: 999 | LR: 0.00100000\n",
      "| Reward: -11260 | Episode: 107 | Qmax: 117.5811 | Exploration: 0.164934 | Step: 999 | LR: 0.00100000\n",
      "| Reward: -4752 | Episode: 108 | Qmax: 117.6592 | Exploration: 0.163615 | Step: 631 | LR: 0.00100000\n",
      "| Reward: -11080 | Episode: 109 | Qmax: 117.3313 | Exploration: 0.163615 | Step: 999 | LR: 0.00100000\n",
      "| Reward: -11260 | Episode: 110 | Qmax: 116.3841 | Exploration: 0.163615 | Step: 999 | LR: 0.00100000\n",
      "| Reward: -11800 | Episode: 111 | Qmax: 116.1627 | Exploration: 0.163615 | Step: 999 | LR: 0.00100000\n",
      "| Reward: -11350 | Episode: 112 | Qmax: 115.9372 | Exploration: 0.163615 | Step: 999 | LR: 0.00100000\n",
      "| Reward: -10630 | Episode: 113 | Qmax: 115.7395 | Exploration: 0.163615 | Step: 999 | LR: 0.00100000\n",
      "| Reward: -6481 | Episode: 114 | Qmax: 115.5815 | Exploration: 0.162306 | Step: 866 | LR: 0.00100000\n",
      "| Reward: -7849 | Episode: 115 | Qmax: 115.7284 | Exploration: 0.162306 | Step: 999 | LR: 0.00100000\n",
      "| Reward: -11080 | Episode: 116 | Qmax: 116.4765 | Exploration: 0.162306 | Step: 999 | LR: 0.00100000\n",
      "| Reward: -3445 | Episode: 117 | Qmax: 116.0163 | Exploration: 0.161007 | Step: 683 | LR: 0.00100000\n",
      "| Reward: -7561 | Episode: 118 | Qmax: 115.7484 | Exploration: 0.161007 | Step: 999 | LR: 0.00100000\n",
      "| Reward: -10855 | Episode: 119 | Qmax: 116.1171 | Exploration: 0.161007 | Step: 999 | LR: 0.00100000\n",
      "DDQN Saved\n",
      "| Reward: -7039 | Episode: 120 | Qmax: 116.1965 | Exploration: 0.161007 | Step: 999 | LR: 0.00100000\n",
      "| Reward: -8524 | Episode: 121 | Qmax: 116.4713 | Exploration: 0.161007 | Step: 999 | LR: 0.00100000\n",
      "| Reward: -8623 | Episode: 122 | Qmax: 116.9899 | Exploration: 0.161007 | Step: 999 | LR: 0.00100000\n",
      "| Reward: -5047 | Episode: 123 | Qmax: 117.8940 | Exploration: 0.159719 | Step: 512 | LR: 0.00100000\n",
      "| Reward: -6643 | Episode: 124 | Qmax: 117.2624 | Exploration: 0.159719 | Step: 999 | LR: 0.00100000\n",
      "| Reward: -10153 | Episode: 125 | Qmax: 117.6630 | Exploration: 0.159719 | Step: 999 | LR: 0.00100000\n",
      "| Reward: -3740 | Episode: 126 | Qmax: 117.5827 | Exploration: 0.158441 | Step: 969 | LR: 0.00100000\n",
      "| Reward: -3163 | Episode: 127 | Qmax: 118.8776 | Exploration: 0.157174 | Step: 599 | LR: 0.00100000\n",
      "| Reward: -5428 | Episode: 128 | Qmax: 118.4635 | Exploration: 0.157174 | Step: 999 | LR: 0.00100000\n",
      "| Reward: -8753 | Episode: 129 | Qmax: 117.5723 | Exploration: 0.155916 | Step: 888 | LR: 0.00100000\n",
      "| Reward: -3403 | Episode: 130 | Qmax: 117.9059 | Exploration: 0.154669 | Step: 947 | LR: 0.00100000\n",
      "| Reward: -7430 | Episode: 131 | Qmax: 117.8192 | Exploration: 0.153432 | Step: 996 | LR: 0.00100000\n",
      "| Reward: -6886 | Episode: 132 | Qmax: 117.1305 | Exploration: 0.153432 | Step: 999 | LR: 0.00100000\n",
      "| Reward: -5392 | Episode: 133 | Qmax: 116.8359 | Exploration: 0.153432 | Step: 999 | LR: 0.00100000\n",
      "| Reward: -6903 | Episode: 134 | Qmax: 116.0359 | Exploration: 0.152204 | Step: 829 | LR: 0.00100000\n",
      "| Reward: -7084 | Episode: 135 | Qmax: 115.6525 | Exploration: 0.152204 | Step: 999 | LR: 0.00100000\n",
      "| Reward: -2441 | Episode: 136 | Qmax: 115.4296 | Exploration: 0.150987 | Step: 345 | LR: 0.00100000\n",
      "| Reward: -3422 | Episode: 137 | Qmax: 115.4047 | Exploration: 0.149779 | Step: 822 | LR: 0.00100000\n",
      "| Reward: -3522 | Episode: 138 | Qmax: 115.2214 | Exploration: 0.148581 | Step: 517 | LR: 0.00100000\n",
      "| Reward: -3293 | Episode: 139 | Qmax: 114.8272 | Exploration: 0.147392 | Step: 513 | LR: 0.00100000\n",
      "DDQN Saved\n",
      "| Reward: -8776 | Episode: 140 | Qmax: 114.5241 | Exploration: 0.147392 | Step: 999 | LR: 0.00100000\n",
      "| Reward: -3715 | Episode: 141 | Qmax: 114.2767 | Exploration: 0.146213 | Step: 548 | LR: 0.00100000\n",
      "| Reward: -6931 | Episode: 142 | Qmax: 114.3635 | Exploration: 0.146213 | Step: 999 | LR: 0.00100000\n",
      "| Reward: -4830 | Episode: 143 | Qmax: 113.7994 | Exploration: 0.145043 | Step: 997 | LR: 0.00100000\n",
      "| Reward: -9955 | Episode: 144 | Qmax: 113.5673 | Exploration: 0.145043 | Step: 999 | LR: 0.00100000\n",
      "| Reward: -3497 | Episode: 145 | Qmax: 113.8043 | Exploration: 0.143883 | Step: 411 | LR: 0.00100000\n",
      "| Reward: -5351 | Episode: 146 | Qmax: 113.4033 | Exploration: 0.142732 | Step: 816 | LR: 0.00100000\n",
      "| Reward: -3448 | Episode: 147 | Qmax: 113.0152 | Exploration: 0.142732 | Step: 999 | LR: 0.00100000\n",
      "| Reward: -3699 | Episode: 148 | Qmax: 113.1127 | Exploration: 0.141590 | Step: 892 | LR: 0.00100000\n",
      "| Reward: -6097 | Episode: 149 | Qmax: 112.5137 | Exploration: 0.140457 | Step: 950 | LR: 0.00100000\n",
      "| Reward: -3817 | Episode: 150 | Qmax: 112.9436 | Exploration: 0.140457 | Step: 999 | LR: 0.00100000\n",
      "| Reward: -3538 | Episode: 151 | Qmax: 112.7439 | Exploration: 0.140457 | Step: 999 | LR: 0.00100000\n",
      "| Reward: -2959 | Episode: 152 | Qmax: 112.2877 | Exploration: 0.139333 | Step: 710 | LR: 0.00100000\n",
      "| Reward: -3041 | Episode: 153 | Qmax: 112.7820 | Exploration: 0.138219 | Step: 882 | LR: 0.00100000\n",
      "| Reward: -3898 | Episode: 154 | Qmax: 113.1046 | Exploration: 0.138219 | Step: 999 | LR: 0.00100000\n",
      "| Reward: -4320 | Episode: 155 | Qmax: 113.1755 | Exploration: 0.137113 | Step: 748 | LR: 0.00100000\n",
      "| Reward: -5230 | Episode: 156 | Qmax: 112.5392 | Exploration: 0.137113 | Step: 999 | LR: 0.00100000\n",
      "| Reward: -6413 | Episode: 157 | Qmax: 112.3396 | Exploration: 0.136016 | Step: 978 | LR: 0.00100000\n",
      "| Reward: -10225 | Episode: 158 | Qmax: 112.0214 | Exploration: 0.136016 | Step: 999 | LR: 0.00100000\n",
      "| Reward: -4321 | Episode: 159 | Qmax: 112.1079 | Exploration: 0.136016 | Step: 999 | LR: 0.00100000\n",
      "DDQN Saved\n",
      "| Reward: -3583 | Episode: 160 | Qmax: 112.0073 | Exploration: 0.136016 | Step: 999 | LR: 0.00100000\n",
      "| Reward: -3172 | Episode: 161 | Qmax: 111.3709 | Exploration: 0.134928 | Step: 887 | LR: 0.00100000\n",
      "| Reward: -3162 | Episode: 162 | Qmax: 111.5516 | Exploration: 0.133849 | Step: 724 | LR: 0.00100000\n"
     ]
    },
    {
     "name": "stdout",
     "output_type": "stream",
     "text": [
      "| Reward: -4735 | Episode: 163 | Qmax: 110.3854 | Exploration: 0.133849 | Step: 999 | LR: 0.00100000\n",
      "| Reward: -1778 | Episode: 164 | Qmax: 109.9474 | Exploration: 0.132778 | Step: 384 | LR: 0.00100000\n",
      "| Reward: -3733 | Episode: 165 | Qmax: 109.7726 | Exploration: 0.131716 | Step: 926 | LR: 0.00100000\n",
      "| Reward: -2548 | Episode: 166 | Qmax: 109.2191 | Exploration: 0.131716 | Step: 999 | LR: 0.00100000\n",
      "| Reward: -3367 | Episode: 167 | Qmax: 108.7356 | Exploration: 0.131716 | Step: 999 | LR: 0.00100000\n",
      "| Reward: -3322 | Episode: 168 | Qmax: 108.1313 | Exploration: 0.131716 | Step: 999 | LR: 0.00100000\n",
      "| Reward: -2944 | Episode: 169 | Qmax: 107.8335 | Exploration: 0.131716 | Step: 999 | LR: 0.00100000\n",
      "| Reward: -1883 | Episode: 170 | Qmax: 107.7029 | Exploration: 0.130662 | Step: 291 | LR: 0.00100000\n",
      "| Reward: -3328 | Episode: 171 | Qmax: 106.9757 | Exploration: 0.129617 | Step: 827 | LR: 0.00100000\n",
      "| Reward: -3241 | Episode: 172 | Qmax: 106.5626 | Exploration: 0.129617 | Step: 999 | LR: 0.00100000\n",
      "| Reward: -3601 | Episode: 173 | Qmax: 105.5182 | Exploration: 0.129617 | Step: 999 | LR: 0.00100000\n",
      "| Reward: -3133 | Episode: 174 | Qmax: 104.0267 | Exploration: 0.129617 | Step: 999 | LR: 0.00100000\n",
      "| Reward: -2653 | Episode: 175 | Qmax: 103.3659 | Exploration: 0.128580 | Step: 728 | LR: 0.00100000\n",
      "| Reward: -2502 | Episode: 176 | Qmax: 102.4061 | Exploration: 0.127551 | Step: 586 | LR: 0.00100000\n",
      "| Reward: -2122 | Episode: 177 | Qmax: 101.7426 | Exploration: 0.126531 | Step: 476 | LR: 0.00100000\n",
      "| Reward: -2373 | Episode: 178 | Qmax: 101.3814 | Exploration: 0.125518 | Step: 574 | LR: 0.00100000\n",
      "| Reward: -2529 | Episode: 179 | Qmax: 100.8872 | Exploration: 0.124514 | Step: 730 | LR: 0.00100000\n",
      "DDQN Saved\n",
      "| Reward: -3887 | Episode: 180 | Qmax: 100.5317 | Exploration: 0.123518 | Step: 693 | LR: 0.00100000\n",
      "| Reward: -2266 | Episode: 181 | Qmax: 99.4003 | Exploration: 0.122530 | Step: 881 | LR: 0.00100000\n",
      "| Reward: -2615 | Episode: 182 | Qmax: 98.0892 | Exploration: 0.121550 | Step: 708 | LR: 0.00100000\n",
      "| Reward: -3254 | Episode: 183 | Qmax: 96.8814 | Exploration: 0.120577 | Step: 996 | LR: 0.00100000\n",
      "| Reward: -2760 | Episode: 184 | Qmax: 96.1767 | Exploration: 0.119613 | Step: 655 | LR: 0.00100000\n",
      "| Reward: -2744 | Episode: 185 | Qmax: 95.2300 | Exploration: 0.118656 | Step: 882 | LR: 0.00100000\n",
      "| Reward: -3511 | Episode: 186 | Qmax: 93.6724 | Exploration: 0.118656 | Step: 999 | LR: 0.00100000\n",
      "| Reward: -3232 | Episode: 187 | Qmax: 93.1781 | Exploration: 0.118656 | Step: 999 | LR: 0.00100000\n",
      "| Reward: -2720 | Episode: 188 | Qmax: 91.9592 | Exploration: 0.117706 | Step: 534 | LR: 0.00100000\n",
      "| Reward: -2431 | Episode: 189 | Qmax: 91.2248 | Exploration: 0.117706 | Step: 999 | LR: 0.00100000\n",
      "| Reward: -3097 | Episode: 190 | Qmax: 90.3329 | Exploration: 0.117706 | Step: 999 | LR: 0.00100000\n",
      "| Reward: -2971 | Episode: 191 | Qmax: 89.5557 | Exploration: 0.117706 | Step: 999 | LR: 0.00100000\n",
      "| Reward: -2467 | Episode: 192 | Qmax: 88.2249 | Exploration: 0.117706 | Step: 999 | LR: 0.00100000\n",
      "| Reward: -2571 | Episode: 193 | Qmax: 88.1856 | Exploration: 0.116765 | Step: 484 | LR: 0.00100000\n",
      "| Reward: -2998 | Episode: 194 | Qmax: 87.0983 | Exploration: 0.116765 | Step: 999 | LR: 0.00100000\n",
      "| Reward: -2138 | Episode: 195 | Qmax: 86.1760 | Exploration: 0.115831 | Step: 771 | LR: 0.00100000\n",
      "| Reward: -2114 | Episode: 196 | Qmax: 85.9879 | Exploration: 0.114904 | Step: 594 | LR: 0.00100000\n",
      "| Reward: -3331 | Episode: 197 | Qmax: 85.3895 | Exploration: 0.114904 | Step: 999 | LR: 0.00100000\n",
      "| Reward: -2602 | Episode: 198 | Qmax: 84.7901 | Exploration: 0.114904 | Step: 999 | LR: 0.00100000\n",
      "| Reward: -2917 | Episode: 199 | Qmax: 83.6715 | Exploration: 0.114904 | Step: 999 | LR: 0.00100000\n",
      "DDQN Saved\n",
      "| Reward: -2583 | Episode: 200 | Qmax: 84.0109 | Exploration: 0.113985 | Step: 289 | LR: 0.00100000\n",
      "| Reward: -1962 | Episode: 201 | Qmax: 83.1885 | Exploration: 0.113073 | Step: 532 | LR: 0.00100000\n",
      "| Reward: -2395 | Episode: 202 | Qmax: 82.5975 | Exploration: 0.112168 | Step: 560 | LR: 0.00100000\n",
      "| Reward: -2832 | Episode: 203 | Qmax: 82.2582 | Exploration: 0.111271 | Step: 862 | LR: 0.00100000\n",
      "| Reward: -1760 | Episode: 204 | Qmax: 81.9513 | Exploration: 0.110381 | Step: 600 | LR: 0.00100000\n",
      "| Reward: -1945 | Episode: 205 | Qmax: 80.9137 | Exploration: 0.110381 | Step: 999 | LR: 0.00100000\n",
      "| Reward: -2921 | Episode: 206 | Qmax: 80.2279 | Exploration: 0.109498 | Step: 996 | LR: 0.00100000\n",
      "| Reward: -3007 | Episode: 207 | Qmax: 79.3480 | Exploration: 0.109498 | Step: 999 | LR: 0.00100000\n",
      "| Reward: -2107 | Episode: 208 | Qmax: 78.6649 | Exploration: 0.109498 | Step: 999 | LR: 0.00100000\n",
      "| Reward: -3241 | Episode: 209 | Qmax: 78.0254 | Exploration: 0.109498 | Step: 999 | LR: 0.00100000\n",
      "| Reward: -2595 | Episode: 210 | Qmax: 77.0973 | Exploration: 0.108622 | Step: 922 | LR: 0.00100000\n",
      "| Reward: -2359 | Episode: 211 | Qmax: 76.3494 | Exploration: 0.108622 | Step: 999 | LR: 0.00100000\n",
      "| Reward: -2148 | Episode: 212 | Qmax: 75.9230 | Exploration: 0.107753 | Step: 655 | LR: 0.00100000\n",
      "| Reward: -2890 | Episode: 213 | Qmax: 74.9755 | Exploration: 0.107753 | Step: 999 | LR: 0.00100000\n",
      "| Reward: -1865 | Episode: 214 | Qmax: 74.4606 | Exploration: 0.106891 | Step: 678 | LR: 0.00100000\n",
      "| Reward: -2025 | Episode: 215 | Qmax: 74.2433 | Exploration: 0.106036 | Step: 730 | LR: 0.00100000\n",
      "| Reward: -2728 | Episode: 216 | Qmax: 73.3627 | Exploration: 0.106036 | Step: 999 | LR: 0.00100000\n",
      "| Reward: -1942 | Episode: 217 | Qmax: 72.3741 | Exploration: 0.105187 | Step: 602 | LR: 0.00100000\n",
      "| Reward: -2305 | Episode: 218 | Qmax: 71.9041 | Exploration: 0.105187 | Step: 999 | LR: 0.00100000\n",
      "| Reward: -3259 | Episode: 219 | Qmax: 71.3602 | Exploration: 0.105187 | Step: 999 | LR: 0.00100000\n",
      "DDQN Saved\n",
      "| Reward: -2170 | Episode: 220 | Qmax: 71.0028 | Exploration: 0.105187 | Step: 999 | LR: 0.00100000\n",
      "| Reward: -1739 | Episode: 221 | Qmax: 70.1717 | Exploration: 0.104346 | Step: 651 | LR: 0.00100000\n",
      "| Reward: -2521 | Episode: 222 | Qmax: 69.3238 | Exploration: 0.104346 | Step: 999 | LR: 0.00100000\n",
      "| Reward: -3466 | Episode: 223 | Qmax: 68.7813 | Exploration: 0.104346 | Step: 999 | LR: 0.00100000\n",
      "| Reward: -2989 | Episode: 224 | Qmax: 68.2607 | Exploration: 0.104346 | Step: 999 | LR: 0.00100000\n",
      "| Reward: -2836 | Episode: 225 | Qmax: 67.3265 | Exploration: 0.104346 | Step: 999 | LR: 0.00100000\n",
      "| Reward: -2079 | Episode: 226 | Qmax: 66.3847 | Exploration: 0.103511 | Step: 946 | LR: 0.00100000\n",
      "| Reward: -2701 | Episode: 227 | Qmax: 65.8347 | Exploration: 0.103511 | Step: 999 | LR: 0.00100000\n",
      "| Reward: -1915 | Episode: 228 | Qmax: 65.2629 | Exploration: 0.102683 | Step: 629 | LR: 0.00100000\n",
      "| Reward: -1980 | Episode: 229 | Qmax: 64.7588 | Exploration: 0.101862 | Step: 613 | LR: 0.00100000\n",
      "| Reward: -2485 | Episode: 230 | Qmax: 64.3635 | Exploration: 0.101862 | Step: 999 | LR: 0.00100000\n",
      "| Reward: -2431 | Episode: 231 | Qmax: 63.6685 | Exploration: 0.101862 | Step: 999 | LR: 0.00100000\n",
      "| Reward: -2539 | Episode: 232 | Qmax: 62.5561 | Exploration: 0.101862 | Step: 999 | LR: 0.00100000\n",
      "| Reward: -2476 | Episode: 233 | Qmax: 61.4589 | Exploration: 0.101862 | Step: 999 | LR: 0.00100000\n",
      "| Reward: -3394 | Episode: 234 | Qmax: 60.5209 | Exploration: 0.101862 | Step: 999 | LR: 0.00100000\n",
      "| Reward: -2638 | Episode: 235 | Qmax: 59.2777 | Exploration: 0.101862 | Step: 999 | LR: 0.00100000\n",
      "| Reward: -2539 | Episode: 236 | Qmax: 58.3453 | Exploration: 0.101862 | Step: 999 | LR: 0.00100000\n",
      "| Reward: -3286 | Episode: 237 | Qmax: 57.3236 | Exploration: 0.101862 | Step: 999 | LR: 0.00100000\n",
      "| Reward: -3475 | Episode: 238 | Qmax: 56.7754 | Exploration: 0.101862 | Step: 999 | LR: 0.00100000\n",
      "| Reward: -1755 | Episode: 239 | Qmax: 55.7990 | Exploration: 0.101047 | Step: 622 | LR: 0.00100000\n",
      "DDQN Saved\n",
      "| Reward: -1456 | Episode: 240 | Qmax: 55.5370 | Exploration: 0.100238 | Step: 557 | LR: 0.00099200\n",
      "| Reward: -1864 | Episode: 241 | Qmax: 55.0877 | Exploration: 0.099436 | Step: 596 | LR: 0.00099200\n",
      "| Reward: -2063 | Episode: 242 | Qmax: 54.6851 | Exploration: 0.099436 | Step: 372 | LR: 0.00099200\n",
      "| Reward: -1486 | Episode: 243 | Qmax: 54.1963 | Exploration: 0.099436 | Step: 461 | LR: 0.00098406\n",
      "| Reward: -2539 | Episode: 244 | Qmax: 54.3890 | Exploration: 0.099436 | Step: 999 | LR: 0.00098406\n"
     ]
    },
    {
     "name": "stdout",
     "output_type": "stream",
     "text": [
      "| Reward: -2991 | Episode: 245 | Qmax: 54.1274 | Exploration: 0.099436 | Step: 760 | LR: 0.00098406\n",
      "| Reward: -3322 | Episode: 246 | Qmax: 53.1013 | Exploration: 0.099436 | Step: 999 | LR: 0.00098406\n",
      "| Reward: -1645 | Episode: 247 | Qmax: 52.3390 | Exploration: 0.099436 | Step: 656 | LR: 0.00098406\n",
      "| Reward: -2953 | Episode: 248 | Qmax: 52.2513 | Exploration: 0.099436 | Step: 999 | LR: 0.00098406\n",
      "| Reward: -2204 | Episode: 249 | Qmax: 51.4708 | Exploration: 0.099436 | Step: 729 | LR: 0.00098406\n",
      "| Reward: -2601 | Episode: 250 | Qmax: 51.1242 | Exploration: 0.099436 | Step: 928 | LR: 0.00098406\n",
      "| Reward: -2341 | Episode: 251 | Qmax: 51.1413 | Exploration: 0.099436 | Step: 999 | LR: 0.00098406\n",
      "| Reward: -2226 | Episode: 252 | Qmax: 49.8679 | Exploration: 0.099436 | Step: 895 | LR: 0.00098406\n",
      "| Reward: -2728 | Episode: 253 | Qmax: 49.7851 | Exploration: 0.099436 | Step: 999 | LR: 0.00098406\n",
      "| Reward: -2575 | Episode: 254 | Qmax: 49.1409 | Exploration: 0.099436 | Step: 999 | LR: 0.00098406\n",
      "| Reward: -3034 | Episode: 255 | Qmax: 48.8567 | Exploration: 0.099436 | Step: 999 | LR: 0.00098406\n",
      "| Reward: -1815 | Episode: 256 | Qmax: 48.3214 | Exploration: 0.099436 | Step: 331 | LR: 0.00098406\n",
      "| Reward: -2791 | Episode: 257 | Qmax: 48.8473 | Exploration: 0.099436 | Step: 999 | LR: 0.00098406\n",
      "| Reward: -2333 | Episode: 258 | Qmax: 48.6056 | Exploration: 0.099436 | Step: 831 | LR: 0.00098406\n",
      "| Reward: -2170 | Episode: 259 | Qmax: 48.8780 | Exploration: 0.099436 | Step: 999 | LR: 0.00098406\n",
      "DDQN Saved\n",
      "| Reward: -2921 | Episode: 260 | Qmax: 47.7725 | Exploration: 0.099436 | Step: 681 | LR: 0.00098406\n",
      "| Reward: -1584 | Episode: 261 | Qmax: 48.6486 | Exploration: 0.099436 | Step: 343 | LR: 0.00098406\n",
      "| Reward: -3079 | Episode: 262 | Qmax: 47.8868 | Exploration: 0.099436 | Step: 999 | LR: 0.00098406\n",
      "| Reward: -1464 | Episode: 263 | Qmax: 47.7225 | Exploration: 0.099436 | Step: 502 | LR: 0.00097619\n",
      "| Reward: -1531 | Episode: 264 | Qmax: 47.8150 | Exploration: 0.099436 | Step: 299 | LR: 0.00097619\n",
      "| Reward: -2125 | Episode: 265 | Qmax: 47.7781 | Exploration: 0.099436 | Step: 999 | LR: 0.00097619\n",
      "| Reward: -2296 | Episode: 266 | Qmax: 47.3090 | Exploration: 0.099436 | Step: 999 | LR: 0.00097619\n",
      "| Reward: -2296 | Episode: 267 | Qmax: 47.2775 | Exploration: 0.099436 | Step: 999 | LR: 0.00097619\n",
      "| Reward: -2197 | Episode: 268 | Qmax: 46.5679 | Exploration: 0.099436 | Step: 999 | LR: 0.00097619\n",
      "| Reward: -2266 | Episode: 269 | Qmax: 45.6609 | Exploration: 0.099436 | Step: 773 | LR: 0.00097619\n",
      "| Reward: -3214 | Episode: 270 | Qmax: 46.6572 | Exploration: 0.099436 | Step: 999 | LR: 0.00097619\n",
      "| Reward: -1871 | Episode: 271 | Qmax: 47.3261 | Exploration: 0.099436 | Step: 549 | LR: 0.00097619\n",
      "| Reward: -2036 | Episode: 272 | Qmax: 47.0857 | Exploration: 0.099436 | Step: 489 | LR: 0.00097619\n",
      "| Reward: -2764 | Episode: 273 | Qmax: 47.3960 | Exploration: 0.099436 | Step: 999 | LR: 0.00097619\n",
      "| Reward: -2018 | Episode: 274 | Qmax: 46.3721 | Exploration: 0.099436 | Step: 876 | LR: 0.00097619\n",
      "| Reward: -2071 | Episode: 275 | Qmax: 45.4604 | Exploration: 0.099436 | Step: 999 | LR: 0.00097619\n",
      "| Reward: -2179 | Episode: 276 | Qmax: 46.0229 | Exploration: 0.099436 | Step: 999 | LR: 0.00097619\n",
      "| Reward: -3268 | Episode: 277 | Qmax: 46.6001 | Exploration: 0.099436 | Step: 999 | LR: 0.00097619\n",
      "| Reward: -3655 | Episode: 278 | Qmax: 45.5487 | Exploration: 0.099436 | Step: 999 | LR: 0.00097619\n",
      "| Reward: -3079 | Episode: 279 | Qmax: 45.1975 | Exploration: 0.099436 | Step: 999 | LR: 0.00097619\n",
      "DDQN Saved\n",
      "| Reward: -3322 | Episode: 280 | Qmax: 46.2232 | Exploration: 0.099436 | Step: 999 | LR: 0.00097619\n",
      "| Reward: -2735 | Episode: 281 | Qmax: 45.8779 | Exploration: 0.099436 | Step: 567 | LR: 0.00097619\n",
      "| Reward: -3637 | Episode: 282 | Qmax: 45.8970 | Exploration: 0.099436 | Step: 999 | LR: 0.00097619\n",
      "| Reward: -3070 | Episode: 283 | Qmax: 45.5562 | Exploration: 0.099436 | Step: 999 | LR: 0.00097619\n"
     ]
    }
   ],
   "source": [
    "config=tf.ConfigProto(log_device_placement=False)\n",
    "config.gpu_options.allow_growth = True\n",
    "with tf.Session(config=config) as sess:\n",
    "       \n",
    "    state_dim = 3\n",
    "    action_dim = 5\n",
    "    \n",
    "    if RESTORE:\n",
    "        Qnet = QNet(sess, state_dim, action_dim, LEARNING_RATE, TAU, MINIBATCH_SIZE, SAVE_DIR, DEVICE)\n",
    "        Qnet.saver.restore(sess, RESTORE_PATH)\n",
    "        train(sess, env, Qnet, prod_planner)\n",
    "        \n",
    "    else:\n",
    "        np.random.seed(RANDOM_SEED)\n",
    "        tf.set_random_seed(RANDOM_SEED)\n",
    "        env.seed(RANDOM_SEED)\n",
    "    \n",
    "        Qnet = QNet(sess, state_dim, action_dim, LEARNING_RATE, TAU, MINIBATCH_SIZE, SAVE_DIR, DEVICE)\n",
    "\n",
    "        train(sess, env, Qnet, prod_planner)"
   ]
  },
  {
   "cell_type": "code",
   "execution_count": null,
   "metadata": {},
   "outputs": [],
   "source": [
    "env.reset()"
   ]
  },
  {
   "cell_type": "code",
   "execution_count": null,
   "metadata": {},
   "outputs": [],
   "source": [
    "env.s"
   ]
  },
  {
   "cell_type": "code",
   "execution_count": null,
   "metadata": {},
   "outputs": [],
   "source": [
    "np.where(np.array(prod_planner.opt_rabin) == 1)[0][0]"
   ]
  },
  {
   "cell_type": "code",
   "execution_count": null,
   "metadata": {},
   "outputs": [],
   "source": [
    "np.unravel_index(env.s,(10,10,5))"
   ]
  },
  {
   "cell_type": "code",
   "execution_count": null,
   "metadata": {},
   "outputs": [],
   "source": [
    "np.unravel_index(env.s,(10,10,5))"
   ]
  },
  {
   "cell_type": "code",
   "execution_count": null,
   "metadata": {},
   "outputs": [],
   "source": [
    "ns,r,_,_ = env.step(1)\n",
    "print np.unravel_index(ns,(10,10,5)),r"
   ]
  },
  {
   "cell_type": "code",
   "execution_count": null,
   "metadata": {},
   "outputs": [],
   "source": [
    "prod_planner.get_global_opt()"
   ]
  },
  {
   "cell_type": "code",
   "execution_count": null,
   "metadata": {
    "scrolled": true
   },
   "outputs": [],
   "source": [
    "env.ap_dict"
   ]
  },
  {
   "cell_type": "code",
   "execution_count": null,
   "metadata": {
    "scrolled": true
   },
   "outputs": [],
   "source": [
    "env.last_ap_dict"
   ]
  },
  {
   "cell_type": "code",
   "execution_count": null,
   "metadata": {},
   "outputs": [],
   "source": [
    "env.last_dynamic_coord_dict[(2,2)]"
   ]
  },
  {
   "cell_type": "code",
   "execution_count": null,
   "metadata": {},
   "outputs": [],
   "source": [
    "env.rabin.coord_dict[(2,2)]"
   ]
  },
  {
   "cell_type": "code",
   "execution_count": null,
   "metadata": {},
   "outputs": [],
   "source": [
    "env.dynamic_coord_dict[(2,2)]"
   ]
  },
  {
   "cell_type": "code",
   "execution_count": null,
   "metadata": {},
   "outputs": [],
   "source": [
    "env.rabin.possible_states(1)"
   ]
  },
  {
   "cell_type": "code",
   "execution_count": null,
   "metadata": {},
   "outputs": [],
   "source": [
    "[env.rabin.graph[str(1)][str(0)][k][\"label\"] for k in range(len(env.rabin.graph[str(1)][str(0)]))]"
   ]
  },
  {
   "cell_type": "code",
   "execution_count": null,
   "metadata": {},
   "outputs": [],
   "source": [
    "env.rabin.check_ap(\"C\", u' !A&!T&C')"
   ]
  },
  {
   "cell_type": "code",
   "execution_count": null,
   "metadata": {},
   "outputs": [],
   "source": [
    "env.rabin.graph[\"0\"][\"0\"]"
   ]
  },
  {
   "cell_type": "code",
   "execution_count": null,
   "metadata": {},
   "outputs": [],
   "source": [
    "env._calculate_transition_prob((4, 3, 1), [0,1])"
   ]
  },
  {
   "cell_type": "code",
   "execution_count": null,
   "metadata": {},
   "outputs": [],
   "source": [
    "np.unravel_index(221,(10,10,5))"
   ]
  },
  {
   "cell_type": "code",
   "execution_count": null,
   "metadata": {},
   "outputs": [],
   "source": [
    "env.shape"
   ]
  },
  {
   "cell_type": "code",
   "execution_count": null,
   "metadata": {},
   "outputs": [],
   "source": [
    "current = (4,3,1)\n",
    "delta=[0,1]\n",
    "delta_list = [[-1, 0], [1, 0], [0, -1], [0, 1], [0, 0]]"
   ]
  },
  {
   "cell_type": "code",
   "execution_count": null,
   "metadata": {},
   "outputs": [],
   "source": [
    "new_position_candidates = [np.array(current[:2]) + np.array(delta)]\n",
    "new_position_candidates += [np.array(current[:2]) + np.array(i) for i in delta_list if i != delta]"
   ]
  },
  {
   "cell_type": "code",
   "execution_count": null,
   "metadata": {},
   "outputs": [],
   "source": [
    "print new_positions"
   ]
  },
  {
   "cell_type": "code",
   "execution_count": null,
   "metadata": {},
   "outputs": [],
   "source": [
    "new_positions = [env._limit_coordinates(i).astype(int) for i in new_position_candidates]"
   ]
  },
  {
   "cell_type": "code",
   "execution_count": null,
   "metadata": {},
   "outputs": [],
   "source": [
    "next_rabin_state = [env.rabin.next_state(current, tuple(i)) for i in new_positions]"
   ]
  },
  {
   "cell_type": "code",
   "execution_count": null,
   "metadata": {},
   "outputs": [],
   "source": [
    "env.rabin.next_state((4,3,1),(4,4))"
   ]
  },
  {
   "cell_type": "code",
   "execution_count": null,
   "metadata": {},
   "outputs": [],
   "source": [
    "env.rabin.coord_dict[(2,7)]"
   ]
  },
  {
   "cell_type": "code",
   "execution_count": null,
   "metadata": {},
   "outputs": [],
   "source": [
    "env.rabin.next_state((4,3,1),[0,1])"
   ]
  },
  {
   "cell_type": "code",
   "execution_count": null,
   "metadata": {},
   "outputs": [],
   "source": [
    "env.rabin.deadlock"
   ]
  },
  {
   "cell_type": "code",
   "execution_count": null,
   "metadata": {},
   "outputs": [],
   "source": [
    "np.where(np.array(prod_planner.opt_rabin) == 8)[0]"
   ]
  },
  {
   "cell_type": "code",
   "execution_count": null,
   "metadata": {},
   "outputs": [],
   "source": [
    "env = CurrentWorld(LTL.lower())"
   ]
  },
  {
   "cell_type": "code",
   "execution_count": null,
   "metadata": {},
   "outputs": [],
   "source": [
    "prod_planner = Prod_Planning(env, LTL.lower())"
   ]
  },
  {
   "cell_type": "code",
   "execution_count": null,
   "metadata": {},
   "outputs": [],
   "source": [
    "prod_planner.update_wfts_ap()"
   ]
  },
  {
   "cell_type": "code",
   "execution_count": null,
   "metadata": {},
   "outputs": [],
   "source": [
    "env.dynamic_coord_dict[(5,5)]"
   ]
  },
  {
   "cell_type": "code",
   "execution_count": null,
   "metadata": {},
   "outputs": [],
   "source": [
    "env.last_dynamic_coord_dict[(5,5)]"
   ]
  },
  {
   "cell_type": "code",
   "execution_count": null,
   "metadata": {},
   "outputs": [],
   "source": [
    "prod_planner.region_list[np.ravel_multi_index((5,5),(10,10))].ap"
   ]
  },
  {
   "cell_type": "code",
   "execution_count": null,
   "metadata": {},
   "outputs": [],
   "source": [
    "env.ap_dict"
   ]
  },
  {
   "cell_type": "code",
   "execution_count": null,
   "metadata": {},
   "outputs": [],
   "source": [
    "env.last_ap_dict"
   ]
  },
  {
   "cell_type": "code",
   "execution_count": null,
   "metadata": {},
   "outputs": [],
   "source": [
    "env.step(1)"
   ]
  }
 ],
 "metadata": {
  "kernelspec": {
   "display_name": "Environment (conda_tensorflow_p27)",
   "language": "python",
   "name": "conda_tensorflow_p27"
  },
  "language_info": {
   "codemirror_mode": {
    "name": "ipython",
    "version": 2
   },
   "file_extension": ".py",
   "mimetype": "text/x-python",
   "name": "python",
   "nbconvert_exporter": "python",
   "pygments_lexer": "ipython2",
   "version": "2.7.15"
  }
 },
 "nbformat": 4,
 "nbformat_minor": 2
}
