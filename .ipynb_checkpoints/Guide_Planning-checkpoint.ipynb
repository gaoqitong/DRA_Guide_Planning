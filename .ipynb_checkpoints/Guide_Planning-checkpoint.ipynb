{
 "cells": [
  {
   "cell_type": "code",
   "execution_count": 1,
   "metadata": {},
   "outputs": [
    {
     "name": "stderr",
     "output_type": "stream",
     "text": [
      "/Users/gaoqitong/anaconda/envs/py27/lib/python2.7/site-packages/h5py/__init__.py:34: FutureWarning: Conversion of the second argument of issubdtype from `float` to `np.floating` is deprecated. In future, it will be treated as `np.float64 == np.dtype(float).type`.\n",
      "  from ._conv import register_converters as _register_converters\n"
     ]
    }
   ],
   "source": [
    "from __future__ import division\n",
    "from full_prod_DRA import *\n",
    "from buchi import buchi_from_ltl\n",
    "import numpy as np\n",
    "from env_sensing_error import *\n",
    "import scipy\n",
    "# from plot_path_for_prod import *\n",
    "from graphviz import Source\n",
    "from qnetwork import *\n",
    "from utils import *\n",
    "import matplotlib.pyplot as plt\n",
    "# from Plot_Path import *\n",
    "import tensorflow as tf\n",
    "import sys\n",
    "from dra_planning import *\n",
    "import time"
   ]
  },
  {
   "cell_type": "code",
   "execution_count": 2,
   "metadata": {
    "collapsed": true
   },
   "outputs": [],
   "source": [
    "def train(sess, env, qnet, prod_planner):\n",
    "    \n",
    "    global EXPLORATION_RATE\n",
    "    global GUIDE_RATE\n",
    "  \n",
    "    summary_ops, summary_vars = build_summaries()\n",
    "    if not RESTORE:\n",
    "        sess.run(tf.global_variables_initializer())\n",
    "    writer = tf.summary.FileWriter(SUMMARY_DIR, sess.graph)\n",
    "    \n",
    "    qnet.update_target()\n",
    "    \n",
    "    replay_buffer = ReplayBuffer(BUFFER_SIZE, RANDOM_SEED)\n",
    "    \n",
    "    while len(prod_planner.opt_path) == 0:\n",
    "        env.step(np.random.randint(0,qnet.action_dim))\n",
    "        prod_planner.update_wfts_ap()\n",
    "        prod_planner.get_global_opt()\n",
    "    print \"Global Solution Found\"\n",
    "    prod_planner.get_opt_rabin()\n",
    "    \n",
    "    saved_dra_planners = {}\n",
    "    \n",
    "    for num_epi in range(MAX_EPISODES):\n",
    "        \n",
    "#         print \"Epi: \", num_epi\n",
    "\n",
    "        s = env.reset()\n",
    "        s = [list(np.unravel_index(s, env.shape))]\n",
    "        prod_planner.replace_region_list()\n",
    "\n",
    "        ep_reward = 0\n",
    "        ep_ave_max_q = 0\n",
    "        \n",
    "        reward_list = []\n",
    "        \n",
    "        train_time = 0\n",
    "        batch_time = 0\n",
    "        gym_time = 0\n",
    "        guide_time = 0\n",
    "\n",
    "        for j in range(MAX_EPISODE_LEN):\n",
    "            \n",
    "#             print \"Step: \", j\n",
    "            \n",
    "            gym_start = time.time()\n",
    "\n",
    "            rand_num = np.random.rand(1)\n",
    "    \n",
    "            if rand_num <= EXPLORATION_RATE:\n",
    "                a = np.random.randint(0,qnet.action_dim)\n",
    "                s2, r, terminal, info = env.step(a)\n",
    "            elif EXPLORATION_RATE < rand_num <= GUIDE_RATE+EXPLORATION_RATE:\n",
    "#                 print \"GUIDE\"\n",
    "                guide_start = time.time()\n",
    "                \n",
    "                if rand_num > EXPLORATION_RATE + 0.9*GUIDE_RATE:\n",
    "                # Only update global plan with 0.2 prob for efficiency\n",
    "                    prod_planner.get_global_opt()\n",
    "                    prod_planner.get_opt_rabin()\n",
    "                    \n",
    "                if len(prod_planner.opt_path) > 0:\n",
    "                    new_ltl = prod_planner.get_next_ltl(s[-1])\n",
    "                    \n",
    "#                     if new_ltl in saved_dra_planners.keys():\n",
    "                    guide_path = prod_planner.get_local_opt(s[:-1], new_ltl)\n",
    "                    if guide_path != None:\n",
    "                        print \"GUIDE\"\n",
    "                        a = convert_path_to_action(guide_path)\n",
    "                    else:\n",
    "                        a = np.random.randint(0,qnet.action_dim)\n",
    "#                     else:\n",
    "#                         guide_path = prod_planner.get_local_opt(s[:-1], new_ltl)\n",
    "#                         saved_dra_planners[new_ltl] = prod_planner.dra_full_prod\n",
    "#                         if guide_path != None:\n",
    "#                             a = convert_path_to_action(guide_path)\n",
    "#                         else:\n",
    "#                             a = np.random.randint(0,qnet.action_dim)\n",
    "                        \n",
    "                else:\n",
    "                    a = np.random.randint(0,qnet.action_dim)\n",
    "                s2, r, terminal, info = env.step(a)\n",
    "                \n",
    "                guide_time += time.time() - guide_start\n",
    "                \n",
    "            else:\n",
    "                a = np.argmax(qnet.predict_q(np.reshape(s, (1, qnet.state_dim))))\n",
    "                s2, r, terminal, info = env.step(a)\n",
    "\n",
    "            prod_planner.update_wfts_ap()\n",
    "                \n",
    "            gym_time += time.time() - gym_start\n",
    "            \n",
    "            batch_start = time.time()\n",
    "            \n",
    "            s2 = list(np.unravel_index(s2, env.shape))\n",
    "\n",
    "            replay_buffer.add(np.reshape(s, (qnet.state_dim,)), np.reshape(a, (1,)), r,\n",
    "                              terminal, np.reshape(s2, (qnet.state_dim,)))\n",
    "            batch_time += time.time() - batch_start\n",
    "\n",
    "            # Keep adding experience to the memory until\n",
    "            # there are at least minibatch size samples\n",
    "            if replay_buffer.size() > MINIBATCH_SIZE:\n",
    "                \n",
    "                batch_start = time.time()\n",
    "                s_batch, a_batch, r_batch, t_batch, s2_batch = replay_buffer.sample_batch(MINIBATCH_SIZE)\n",
    "\n",
    "                # Calculate targets\n",
    "                target_q = qnet.predect_target(s2_batch)\n",
    "\n",
    "                y_i = []\n",
    "                for k in range(MINIBATCH_SIZE):\n",
    "                    if t_batch[k]:\n",
    "                        y_i.append(r_batch[k])\n",
    "                    else:\n",
    "                        y_i.append(r_batch[k] + GAMMA * np.amax(target_q[k]))\n",
    "                        \n",
    "                batch_time += time.time() - batch_start\n",
    "\n",
    "                # Update the critic given the targets\n",
    "                train_start = time.time()\n",
    "                predicted_q_value, _ = qnet.train(s_batch, a_batch, np.reshape(y_i, (MINIBATCH_SIZE, 1)), num_epi)\n",
    "\n",
    "                ep_ave_max_q += np.amax(predicted_q_value)\n",
    "                \n",
    "                # Update target networks\n",
    "                qnet.update_target()\n",
    "\n",
    "                train_time += time.time() - train_start\n",
    "\n",
    "            s = s2\n",
    "            ep_reward += r\n",
    "\n",
    "            if terminal or j == MAX_EPISODE_LEN-1:\n",
    "                \n",
    "                if EXPLORATION_RATE > 0.02 and terminal:\n",
    "                    EXPLORATION_RATE = EXPLORATION_RATE*0.98\n",
    "                    GUIDE_RATE = GUIDE_RATE*0.98\n",
    "                    \n",
    "                reward_list += [ep_reward]\n",
    "                \n",
    "                if np.average(reward_list[-10:]) > LR_DECAY_TRUNCATION:\n",
    "                    qnet.decay_learning_rate(0.98)\n",
    "\n",
    "                print('| Reward: {:d} | Episode: {:d} | Qmax: {:.4f} | Exploration: {:.6f} | Step: {:d} | LR: {:.8f}'.format(int(ep_reward), \\\n",
    "                        num_epi, (ep_ave_max_q / float(j)), EXPLORATION_RATE, j, qnet.get_learning_rate()))\n",
    "                \n",
    "                f = open(\"stats/\" + file_appendix + \"_stats.txt\", \"ab\")\n",
    "                f.write(\"| Reward: \" + str(int(ep_reward)) \n",
    "                        +\" | Episode: \" + str(num_epi) \n",
    "                        + \" | Qmax: \" + str(ep_ave_max_q / float(j)) \n",
    "                        + \" | Exploration: \" + str(EXPLORATION_RATE)\n",
    "                        + \" | Step: \" + str(j)\n",
    "                        + \" | LR:\" + str(qnet.get_learning_rate()) + \"\\n\")\n",
    "                f.close()\n",
    "                \n",
    "                f = open(\"stats/\" + file_appendix + \"_stats_time.txt\", \"ab\")\n",
    "                f.write(\" | Episode: \" + str(num_epi) \n",
    "                        + \" | Train: \" + str(train_time) \n",
    "                        + \" | Gym: \" + str(gym_time)\n",
    "                        + \" | Batch: \" + str(batch_time) \n",
    "                        + \" | Guide: \" + str(guide_time)\n",
    "                        + \"\\n\")\n",
    "                f.close()\n",
    "                \n",
    "                break\n",
    "                "
   ]
  },
  {
   "cell_type": "code",
   "execution_count": 3,
   "metadata": {
    "collapsed": true
   },
   "outputs": [],
   "source": [
    "# LTL = \"<>(A && <>(B && <> T)) && []<>A && []<>B\"\n",
    "# LTL = \"[] (p1 -> !(X p1) U (p2 || p3) ) && []<>p1\"\n",
    "# LTL = \"T && []<>A && []<>B\"\n",
    "# LTL = \"<>(A && <>(B && <> T)) && []<>A && []<>B && []!C && []!D\"\n",
    "# LTL = \"<>(A && <>(B && <> T)) && []<>A && []<>B && []!C\"\n",
    "# LTL = \"<>(A && <>(B && <> T))\"\n",
    "# LTL = \"<>(A && <>B) && <>[]T && []!C\"\n",
    "LTL = \"<>(A && <>T) && []!C\"\n",
    "# LTL = \"<>(A && <>(B && <>T)) && []<>(A||T) && []<>B && []!C\"\n",
    "# LTL = \"<>(A && <>(B && <>T)) && []!C\"\n",
    "# LTL = \"<>(A && <>D) && <>(B && <>E) && []<>T && []<>(D || E) && []!C\"\n",
    "\n",
    "LEARNING_RATE = 0.00001\n",
    "GAMMA = 0.99\n",
    "# GAMMA = 0.7\n",
    "TAU = 0.001\n",
    "BUFFER_SIZE = 10**6\n",
    "MINIBATCH_SIZE = 1\n",
    "RANDOM_SEED = 210\n",
    "MAX_EPISODES = 50000\n",
    "MAX_EPISODE_LEN = 500\n",
    "file_appendix = \"Guide_Planning_\" + time.ctime()[4:16].replace(\"  \",\"\").replace(\" \",\"_\").replace(\":\",\"-\") + \"_large_\" + LTL\n",
    "# file_appendix = \"Feb8_03-47\"\n",
    "SUMMARY_DIR = './results/tf_ddqn_' + file_appendix\n",
    "SAVE_DIR = \"./saved_model/\" + file_appendix + \"/ddqn.ckpt\"\n",
    "EXPLORATION_RATE = 0.2\n",
    "GUIDE_RATE = 0.6\n",
    "LR_DECAY_TRUNCATION = -200\n",
    "RESTORE = 0\n",
    "if sys.platform == \"darwin\":\n",
    "    DEVICE = \"/device:CPU:0\"\n",
    "else:\n",
    "    DEVICE = \"/device:GPU:0\""
   ]
  },
  {
   "cell_type": "code",
   "execution_count": 4,
   "metadata": {
    "collapsed": true,
    "scrolled": false
   },
   "outputs": [],
   "source": [
    "env = CurrentWorld(LTL.lower())\n",
    "with open(\"my.dot\", \"r\") as dotfile:\n",
    "    text = dotfile.read()\n",
    "Source(text)\n",
    "\n",
    "prod_planner = Prod_Planning(env, LTL.lower())"
   ]
  },
  {
   "cell_type": "code",
   "execution_count": 5,
   "metadata": {
    "scrolled": true
   },
   "outputs": [
    {
     "name": "stderr",
     "output_type": "stream",
     "text": [
      "/Users/gaoqitong/anaconda/envs/py27/lib/python2.7/site-packages/tensorflow/python/ops/gradients_impl.py:112: UserWarning: Converting sparse IndexedSlices to a dense Tensor of unknown shape. This may consume a large amount of memory.\n",
      "  \"Converting sparse IndexedSlices to a dense Tensor of unknown shape. \"\n"
     ]
    },
    {
     "name": "stdout",
     "output_type": "stream",
     "text": [
      "Global Solution Found\n",
      "DDQN Saved\n"
     ]
    },
    {
     "ename": "KeyboardInterrupt",
     "evalue": "",
     "output_type": "error",
     "traceback": [
      "\u001b[0;31m---------------------------------------------------------------------------\u001b[0m",
      "\u001b[0;31mKeyboardInterrupt\u001b[0m                         Traceback (most recent call last)",
      "\u001b[0;32m<ipython-input-5-83bec5df2ef2>\u001b[0m in \u001b[0;36m<module>\u001b[0;34m()\u001b[0m\n\u001b[1;32m     18\u001b[0m         \u001b[0mQnet\u001b[0m \u001b[0;34m=\u001b[0m \u001b[0mQNet\u001b[0m\u001b[0;34m(\u001b[0m\u001b[0msess\u001b[0m\u001b[0;34m,\u001b[0m \u001b[0mstate_dim\u001b[0m\u001b[0;34m,\u001b[0m \u001b[0maction_dim\u001b[0m\u001b[0;34m,\u001b[0m \u001b[0mLEARNING_RATE\u001b[0m\u001b[0;34m,\u001b[0m \u001b[0mTAU\u001b[0m\u001b[0;34m,\u001b[0m \u001b[0mMINIBATCH_SIZE\u001b[0m\u001b[0;34m,\u001b[0m \u001b[0mSAVE_DIR\u001b[0m\u001b[0;34m,\u001b[0m \u001b[0mDEVICE\u001b[0m\u001b[0;34m)\u001b[0m\u001b[0;34m\u001b[0m\u001b[0m\n\u001b[1;32m     19\u001b[0m \u001b[0;34m\u001b[0m\u001b[0m\n\u001b[0;32m---> 20\u001b[0;31m         \u001b[0mtrain\u001b[0m\u001b[0;34m(\u001b[0m\u001b[0msess\u001b[0m\u001b[0;34m,\u001b[0m \u001b[0menv\u001b[0m\u001b[0;34m,\u001b[0m \u001b[0mQnet\u001b[0m\u001b[0;34m,\u001b[0m \u001b[0mprod_planner\u001b[0m\u001b[0;34m)\u001b[0m\u001b[0;34m\u001b[0m\u001b[0m\n\u001b[0m",
      "\u001b[0;32m<ipython-input-2-5d79d4fde2ce>\u001b[0m in \u001b[0;36mtrain\u001b[0;34m(sess, env, qnet, prod_planner)\u001b[0m\n\u001b[1;32m     57\u001b[0m                 \u001b[0;32mif\u001b[0m \u001b[0mrand_num\u001b[0m \u001b[0;34m>\u001b[0m \u001b[0mEXPLORATION_RATE\u001b[0m \u001b[0;34m+\u001b[0m \u001b[0;36m0.9\u001b[0m\u001b[0;34m*\u001b[0m\u001b[0mGUIDE_RATE\u001b[0m\u001b[0;34m:\u001b[0m\u001b[0;34m\u001b[0m\u001b[0m\n\u001b[1;32m     58\u001b[0m                 \u001b[0;31m# Only update global plan with 0.2 prob for efficiency\u001b[0m\u001b[0;34m\u001b[0m\u001b[0;34m\u001b[0m\u001b[0m\n\u001b[0;32m---> 59\u001b[0;31m                     \u001b[0mprod_planner\u001b[0m\u001b[0;34m.\u001b[0m\u001b[0mget_global_opt\u001b[0m\u001b[0;34m(\u001b[0m\u001b[0;34m)\u001b[0m\u001b[0;34m\u001b[0m\u001b[0m\n\u001b[0m\u001b[1;32m     60\u001b[0m                     \u001b[0mprod_planner\u001b[0m\u001b[0;34m.\u001b[0m\u001b[0mget_opt_rabin\u001b[0m\u001b[0;34m(\u001b[0m\u001b[0;34m)\u001b[0m\u001b[0;34m\u001b[0m\u001b[0m\n\u001b[1;32m     61\u001b[0m \u001b[0;34m\u001b[0m\u001b[0m\n",
      "\u001b[0;32m/Users/gaoqitong/Library/Mobile Documents/com~apple~CloudDocs/2018 Visiting Scholar Projects/Guide Learning/Code/DRA_Guide_Planning/dra_planning.py\u001b[0m in \u001b[0;36mget_global_opt\u001b[0;34m(self)\u001b[0m\n\u001b[1;32m    107\u001b[0m         \u001b[0mfull_prod\u001b[0m \u001b[0;34m=\u001b[0m \u001b[0mFullProd\u001b[0m\u001b[0;34m(\u001b[0m\u001b[0mself\u001b[0m\u001b[0;34m.\u001b[0m\u001b[0mwfts\u001b[0m\u001b[0;34m,\u001b[0m \u001b[0mrabin\u001b[0m\u001b[0;34m)\u001b[0m\u001b[0;34m\u001b[0m\u001b[0m\n\u001b[1;32m    108\u001b[0m         \u001b[0mself\u001b[0m\u001b[0;34m.\u001b[0m\u001b[0mfull_prod\u001b[0m \u001b[0;34m=\u001b[0m \u001b[0mfull_prod\u001b[0m\u001b[0;34m\u001b[0m\u001b[0m\n\u001b[0;32m--> 109\u001b[0;31m         \u001b[0mfull_prod\u001b[0m\u001b[0;34m.\u001b[0m\u001b[0mconstruct_fullproduct\u001b[0m\u001b[0;34m(\u001b[0m\u001b[0;34m)\u001b[0m\u001b[0;34m\u001b[0m\u001b[0m\n\u001b[0m\u001b[1;32m    110\u001b[0m         \u001b[0;31m# count = 0\u001b[0m\u001b[0;34m\u001b[0m\u001b[0;34m\u001b[0m\u001b[0m\n\u001b[1;32m    111\u001b[0m         \u001b[0;31m# for i in full_prod.states:\u001b[0m\u001b[0;34m\u001b[0m\u001b[0;34m\u001b[0m\u001b[0m\n",
      "\u001b[0;32m/Users/gaoqitong/Library/Mobile Documents/com~apple~CloudDocs/2018 Visiting Scholar Projects/Guide Learning/Code/DRA_Guide_Planning/full_prod_DRA.py\u001b[0m in \u001b[0;36mconstruct_fullproduct\u001b[0;34m(self)\u001b[0m\n\u001b[1;32m    378\u001b[0m                         \u001b[0;32mif\u001b[0m \u001b[0mq_g\u001b[0m \u001b[0;32mnot\u001b[0m \u001b[0;32min\u001b[0m \u001b[0mself\u001b[0m\u001b[0;34m.\u001b[0m\u001b[0mtransition\u001b[0m\u001b[0;34m.\u001b[0m\u001b[0mkeys\u001b[0m\u001b[0;34m(\u001b[0m\u001b[0;34m)\u001b[0m\u001b[0;34m:\u001b[0m\u001b[0;34m\u001b[0m\u001b[0m\n\u001b[1;32m    379\u001b[0m                             \u001b[0mself\u001b[0m\u001b[0;34m.\u001b[0m\u001b[0mtransition\u001b[0m\u001b[0;34m[\u001b[0m\u001b[0mq_g\u001b[0m\u001b[0;34m]\u001b[0m \u001b[0;34m=\u001b[0m \u001b[0;34m{\u001b[0m\u001b[0;34m}\u001b[0m\u001b[0;34m\u001b[0m\u001b[0m\n\u001b[0;32m--> 380\u001b[0;31m                         \u001b[0md\u001b[0m \u001b[0;34m=\u001b[0m \u001b[0mself\u001b[0m\u001b[0;34m.\u001b[0m\u001b[0mcheck_tran_b\u001b[0m\u001b[0;34m(\u001b[0m\u001b[0mq_m\u001b[0m\u001b[0;34m,\u001b[0m\u001b[0mself\u001b[0m\u001b[0;34m.\u001b[0m\u001b[0mwFTS\u001b[0m\u001b[0;34m.\u001b[0m\u001b[0mL\u001b[0m\u001b[0;34m(\u001b[0m\u001b[0mpi_i\u001b[0m\u001b[0;34m)\u001b[0m\u001b[0;34m,\u001b[0m\u001b[0mq_n\u001b[0m\u001b[0;34m,\u001b[0m\u001b[0mself\u001b[0m\u001b[0;34m.\u001b[0m\u001b[0mRabin\u001b[0m\u001b[0;34m)\u001b[0m\u001b[0;34m\u001b[0m\u001b[0m\n\u001b[0m\u001b[1;32m    381\u001b[0m                         \u001b[0;32mif\u001b[0m \u001b[0md\u001b[0m \u001b[0;34m>=\u001b[0m \u001b[0;36m0\u001b[0m\u001b[0;34m:\u001b[0m\u001b[0;34m\u001b[0m\u001b[0m\n\u001b[1;32m    382\u001b[0m                             \u001b[0mself\u001b[0m\u001b[0;34m.\u001b[0m\u001b[0mtransition\u001b[0m\u001b[0;34m[\u001b[0m\u001b[0mq_s\u001b[0m\u001b[0;34m]\u001b[0m\u001b[0;34m[\u001b[0m\u001b[0mq_g\u001b[0m\u001b[0;34m]\u001b[0m \u001b[0;34m=\u001b[0m \u001b[0mself\u001b[0m\u001b[0;34m.\u001b[0m\u001b[0mwFTS\u001b[0m\u001b[0;34m.\u001b[0m\u001b[0mget_weight\u001b[0m\u001b[0;34m(\u001b[0m\u001b[0mpi_i\u001b[0m\u001b[0;34m,\u001b[0m\u001b[0mpi_j\u001b[0m\u001b[0;34m)\u001b[0m \u001b[0;34m+\u001b[0m \u001b[0malpha\u001b[0m\u001b[0;34m*\u001b[0m\u001b[0md\u001b[0m\u001b[0;34m\u001b[0m\u001b[0m\n",
      "\u001b[0;32m/Users/gaoqitong/Library/Mobile Documents/com~apple~CloudDocs/2018 Visiting Scholar Projects/Guide Learning/Code/DRA_Guide_Planning/full_prod_DRA.py\u001b[0m in \u001b[0;36mcheck_tran_b\u001b[0;34m(self, b_state1, l, b_state2, Rabin)\u001b[0m\n\u001b[1;32m    397\u001b[0m             \u001b[0;31m# conjunction = [l[i]+'&&' if i!=len(l)-1 else l[i] for i in range(len(l))]\u001b[0m\u001b[0;34m\u001b[0m\u001b[0;34m\u001b[0m\u001b[0m\n\u001b[1;32m    398\u001b[0m             \u001b[0mconjunction\u001b[0m \u001b[0;34m=\u001b[0m \u001b[0;34m''\u001b[0m\u001b[0;34m.\u001b[0m\u001b[0mjoin\u001b[0m\u001b[0;34m(\u001b[0m\u001b[0mconjunction\u001b[0m\u001b[0;34m)\u001b[0m\u001b[0;34m\u001b[0m\u001b[0m\n\u001b[0;32m--> 399\u001b[0;31m             \u001b[0;32mif\u001b[0m \u001b[0mb_state2\u001b[0m \u001b[0;32min\u001b[0m \u001b[0mself\u001b[0m\u001b[0;34m.\u001b[0m\u001b[0mRabin\u001b[0m\u001b[0;34m.\u001b[0m\u001b[0mget_transition_through_ap\u001b[0m\u001b[0;34m(\u001b[0m\u001b[0mb_state1\u001b[0m\u001b[0;34m,\u001b[0m \u001b[0mconjunction\u001b[0m\u001b[0;34m)\u001b[0m\u001b[0;34m:\u001b[0m\u001b[0;34m\u001b[0m\u001b[0m\n\u001b[0m\u001b[1;32m    400\u001b[0m                 \u001b[0md\u001b[0m \u001b[0;34m=\u001b[0m \u001b[0;36m0\u001b[0m\u001b[0;34m\u001b[0m\u001b[0m\n\u001b[1;32m    401\u001b[0m                 \u001b[0;32mreturn\u001b[0m \u001b[0md\u001b[0m\u001b[0;34m\u001b[0m\u001b[0m\n",
      "\u001b[0;32m/Users/gaoqitong/Library/Mobile Documents/com~apple~CloudDocs/2018 Visiting Scholar Projects/Guide Learning/Code/DRA_Guide_Planning/full_prod_DRA.py\u001b[0m in \u001b[0;36mget_transition_through_ap\u001b[0;34m(self, state, ap)\u001b[0m\n\u001b[1;32m    216\u001b[0m             \u001b[0mseperated_ap\u001b[0m\u001b[0;34m,\u001b[0m\u001b[0mneg_in_ap\u001b[0m \u001b[0;34m=\u001b[0m \u001b[0mseperate_ap_sentence\u001b[0m\u001b[0;34m(\u001b[0m\u001b[0map\u001b[0m\u001b[0;34m)\u001b[0m\u001b[0;34m\u001b[0m\u001b[0m\n\u001b[1;32m    217\u001b[0m             \u001b[0;32mfor\u001b[0m \u001b[0mi\u001b[0m \u001b[0;32min\u001b[0m \u001b[0mself\u001b[0m\u001b[0;34m.\u001b[0m\u001b[0mtransition\u001b[0m\u001b[0;34m[\u001b[0m\u001b[0mstr\u001b[0m\u001b[0;34m(\u001b[0m\u001b[0mstate\u001b[0m\u001b[0;34m)\u001b[0m\u001b[0;34m]\u001b[0m\u001b[0;34m.\u001b[0m\u001b[0mkeys\u001b[0m\u001b[0;34m(\u001b[0m\u001b[0;34m)\u001b[0m\u001b[0;34m:\u001b[0m\u001b[0;34m\u001b[0m\u001b[0m\n\u001b[0;32m--> 218\u001b[0;31m                 \u001b[0mtransitions_ap\u001b[0m \u001b[0;34m=\u001b[0m \u001b[0mself\u001b[0m\u001b[0;34m.\u001b[0m\u001b[0mget_ap\u001b[0m\u001b[0;34m(\u001b[0m\u001b[0mstate\u001b[0m\u001b[0;34m,\u001b[0m\u001b[0mint\u001b[0m\u001b[0;34m(\u001b[0m\u001b[0mi\u001b[0m\u001b[0;34m)\u001b[0m\u001b[0;34m)\u001b[0m\u001b[0;34m\u001b[0m\u001b[0m\n\u001b[0m\u001b[1;32m    219\u001b[0m                 \u001b[0;32mfor\u001b[0m \u001b[0mj\u001b[0m \u001b[0;32min\u001b[0m \u001b[0mtransitions_ap\u001b[0m\u001b[0;34m:\u001b[0m\u001b[0;34m\u001b[0m\u001b[0m\n\u001b[1;32m    220\u001b[0m                     \u001b[0mseperated_j\u001b[0m\u001b[0;34m,\u001b[0m\u001b[0mneg_in_j\u001b[0m \u001b[0;34m=\u001b[0m \u001b[0mseperate_ap_sentence\u001b[0m\u001b[0;34m(\u001b[0m\u001b[0mj\u001b[0m\u001b[0;34m)\u001b[0m\u001b[0;34m\u001b[0m\u001b[0m\n",
      "\u001b[0;32m/Users/gaoqitong/Library/Mobile Documents/com~apple~CloudDocs/2018 Visiting Scholar Projects/Guide Learning/Code/DRA_Guide_Planning/full_prod_DRA.py\u001b[0m in \u001b[0;36mget_ap\u001b[0;34m(self, state1, state2)\u001b[0m\n\u001b[1;32m    262\u001b[0m             \u001b[0;32mraise\u001b[0m \u001b[0mAttributeError\u001b[0m\u001b[0;34m(\u001b[0m\u001b[0;34m'State2 cannot be reached from State1'\u001b[0m\u001b[0;34m)\u001b[0m\u001b[0;34m\u001b[0m\u001b[0m\n\u001b[1;32m    263\u001b[0m         \u001b[0;32melse\u001b[0m\u001b[0;34m:\u001b[0m\u001b[0;34m\u001b[0m\u001b[0m\n\u001b[0;32m--> 264\u001b[0;31m             \u001b[0mresult\u001b[0m \u001b[0;34m=\u001b[0m \u001b[0;34m[\u001b[0m\u001b[0mself\u001b[0m\u001b[0;34m.\u001b[0m\u001b[0mtransition\u001b[0m\u001b[0;34m[\u001b[0m\u001b[0mstr\u001b[0m\u001b[0;34m(\u001b[0m\u001b[0mstate1\u001b[0m\u001b[0;34m)\u001b[0m\u001b[0;34m]\u001b[0m\u001b[0;34m[\u001b[0m\u001b[0mstr\u001b[0m\u001b[0;34m(\u001b[0m\u001b[0mstate2\u001b[0m\u001b[0;34m)\u001b[0m\u001b[0;34m]\u001b[0m\u001b[0;34m[\u001b[0m\u001b[0mi\u001b[0m\u001b[0;34m]\u001b[0m\u001b[0;34m[\u001b[0m\u001b[0;34m'label'\u001b[0m\u001b[0;34m]\u001b[0m\u001b[0;34m[\u001b[0m\u001b[0;36m1\u001b[0m\u001b[0;34m:\u001b[0m\u001b[0;34m]\u001b[0m \u001b[0;32mfor\u001b[0m \u001b[0mi\u001b[0m \u001b[0;32min\u001b[0m \u001b[0mrange\u001b[0m\u001b[0;34m(\u001b[0m\u001b[0mlen\u001b[0m\u001b[0;34m(\u001b[0m\u001b[0mself\u001b[0m\u001b[0;34m.\u001b[0m\u001b[0mtransition\u001b[0m\u001b[0;34m[\u001b[0m\u001b[0mstr\u001b[0m\u001b[0;34m(\u001b[0m\u001b[0mstate1\u001b[0m\u001b[0;34m)\u001b[0m\u001b[0;34m]\u001b[0m\u001b[0;34m[\u001b[0m\u001b[0mstr\u001b[0m\u001b[0;34m(\u001b[0m\u001b[0mstate2\u001b[0m\u001b[0;34m)\u001b[0m\u001b[0;34m]\u001b[0m\u001b[0;34m)\u001b[0m\u001b[0;34m)\u001b[0m\u001b[0;34m]\u001b[0m\u001b[0;34m\u001b[0m\u001b[0m\n\u001b[0m\u001b[1;32m    265\u001b[0m             \u001b[0;32mreturn\u001b[0m \u001b[0mresult\u001b[0m\u001b[0;34m\u001b[0m\u001b[0m\n\u001b[1;32m    266\u001b[0m             \u001b[0;31m# if len(result) == 1:\u001b[0m\u001b[0;34m\u001b[0m\u001b[0;34m\u001b[0m\u001b[0m\n",
      "\u001b[0;31mKeyboardInterrupt\u001b[0m: "
     ]
    }
   ],
   "source": [
    "config=tf.ConfigProto(log_device_placement=False)\n",
    "config.gpu_options.allow_growth = True\n",
    "with tf.Session(config=config) as sess:\n",
    "       \n",
    "    state_dim = 3\n",
    "    action_dim = 5\n",
    "    \n",
    "    if RESTORE:\n",
    "        Qnet = QNet(sess, state_dim, action_dim, LEARNING_RATE, TAU, MINIBATCH_SIZE, SAVE_DIR, DEVICE)\n",
    "        Qnet.saver.restore(sess, RESTORE_PATH)\n",
    "        train(sess, env, Qnet, prod_planner)\n",
    "        \n",
    "    else:\n",
    "        np.random.seed(RANDOM_SEED)\n",
    "        tf.set_random_seed(RANDOM_SEED)\n",
    "        env.seed(RANDOM_SEED)\n",
    "    \n",
    "        Qnet = QNet(sess, state_dim, action_dim, LEARNING_RATE, TAU, MINIBATCH_SIZE, SAVE_DIR, DEVICE)\n",
    "\n",
    "        train(sess, env, Qnet, prod_planner)"
   ]
  },
  {
   "cell_type": "code",
   "execution_count": 8,
   "metadata": {},
   "outputs": [
    {
     "data": {
      "text/plain": [
       "['r55', 'c']"
      ]
     },
     "execution_count": 8,
     "metadata": {},
     "output_type": "execute_result"
    }
   ],
   "source": [
    "prod_planner.wfts.L(prod_planner.region_list[np.ravel_multi_index((5,5),(10,10))])"
   ]
  },
  {
   "cell_type": "code",
   "execution_count": 11,
   "metadata": {
    "collapsed": true
   },
   "outputs": [],
   "source": [
    "old_planner = deepcopy(prod_planner)"
   ]
  },
  {
   "cell_type": "code",
   "execution_count": 71,
   "metadata": {},
   "outputs": [
    {
     "data": {
      "text/plain": [
       "{'A': [(6, 6), (8, 8)],\n",
       " 'B': [(5, 2)],\n",
       " 'C': [(2, 2), (3, 3), (4, 4), (5, 5), (2, 7)],\n",
       " 'T': []}"
      ]
     },
     "execution_count": 71,
     "metadata": {},
     "output_type": "execute_result"
    }
   ],
   "source": [
    "env.ap_dict"
   ]
  },
  {
   "cell_type": "code",
   "execution_count": 50,
   "metadata": {},
   "outputs": [
    {
     "data": {
      "text/plain": [
       "['A']"
      ]
     },
     "execution_count": 50,
     "metadata": {},
     "output_type": "execute_result"
    }
   ],
   "source": [
    "env.dynamic_coord_dict[(8,8)]"
   ]
  },
  {
   "cell_type": "code",
   "execution_count": 70,
   "metadata": {},
   "outputs": [
    {
     "data": {
      "text/plain": [
       "{'A': [(2, 7), (8, 8)],\n",
       " 'B': [(5, 2)],\n",
       " 'C': [(2, 2), (3, 3), (4, 4), (5, 5), (6, 6)],\n",
       " 'T': []}"
      ]
     },
     "execution_count": 70,
     "metadata": {},
     "output_type": "execute_result"
    }
   ],
   "source": [
    "env.last_ap_dict"
   ]
  },
  {
   "cell_type": "code",
   "execution_count": 16,
   "metadata": {
    "collapsed": true
   },
   "outputs": [],
   "source": [
    "prod_planner.update_wfts_ap()"
   ]
  },
  {
   "cell_type": "code",
   "execution_count": 17,
   "metadata": {
    "collapsed": true
   },
   "outputs": [],
   "source": [
    "prod_planner.get_global_opt()"
   ]
  },
  {
   "cell_type": "code",
   "execution_count": 51,
   "metadata": {},
   "outputs": [
    {
     "ename": "KeyError",
     "evalue": "(r26, 1)",
     "output_type": "error",
     "traceback": [
      "\u001b[0;31m---------------------------------------------------------------------------\u001b[0m",
      "\u001b[0;31mKeyError\u001b[0m                                  Traceback (most recent call last)",
      "\u001b[0;32m<ipython-input-51-be1f5781efca>\u001b[0m in \u001b[0;36m<module>\u001b[0;34m()\u001b[0m\n\u001b[0;32m----> 1\u001b[0;31m \u001b[0mold_planner\u001b[0m\u001b[0;34m.\u001b[0m\u001b[0mfull_prod\u001b[0m\u001b[0;34m.\u001b[0m\u001b[0mtransition\u001b[0m\u001b[0;34m[\u001b[0m\u001b[0;34m(\u001b[0m\u001b[0mold_planner\u001b[0m\u001b[0;34m.\u001b[0m\u001b[0mregion_list\u001b[0m\u001b[0;34m[\u001b[0m\u001b[0mnp\u001b[0m\u001b[0;34m.\u001b[0m\u001b[0mravel_multi_index\u001b[0m\u001b[0;34m(\u001b[0m\u001b[0;34m(\u001b[0m\u001b[0;36m2\u001b[0m\u001b[0;34m,\u001b[0m\u001b[0;36m6\u001b[0m\u001b[0;34m)\u001b[0m\u001b[0;34m,\u001b[0m\u001b[0;34m(\u001b[0m\u001b[0;36m10\u001b[0m\u001b[0;34m,\u001b[0m\u001b[0;36m10\u001b[0m\u001b[0;34m)\u001b[0m\u001b[0;34m)\u001b[0m\u001b[0;34m]\u001b[0m\u001b[0;34m,\u001b[0m\u001b[0;36m1\u001b[0m\u001b[0;34m)\u001b[0m\u001b[0;34m]\u001b[0m\u001b[0;34m\u001b[0m\u001b[0m\n\u001b[0m",
      "\u001b[0;31mKeyError\u001b[0m: (r26, 1)"
     ]
    }
   ],
   "source": [
    "old_planner.full_prod.transition[(old_planner.region_list[np.ravel_multi_index((2,6),(10,10))],1)]"
   ]
  },
  {
   "cell_type": "code",
   "execution_count": 52,
   "metadata": {},
   "outputs": [
    {
     "data": {
      "text/plain": [
       "{(r94, 0),\n",
       " (r94, 1),\n",
       " (r94, 2),\n",
       " (r94, 3),\n",
       " (r94, 4),\n",
       " (r73, 0),\n",
       " (r73, 1),\n",
       " (r73, 2),\n",
       " (r73, 3),\n",
       " (r73, 4),\n",
       " (r85, 0),\n",
       " (r85, 1),\n",
       " (r85, 2),\n",
       " (r85, 3),\n",
       " (r85, 4),\n",
       " (r84, 0),\n",
       " (r84, 1),\n",
       " (r84, 2),\n",
       " (r84, 3),\n",
       " (r84, 4),\n",
       " (r27, 0),\n",
       " (r27, 1),\n",
       " (r27, 2),\n",
       " (r27, 3),\n",
       " (r27, 4),\n",
       " (r13, 0),\n",
       " (r13, 1),\n",
       " (r13, 2),\n",
       " (r13, 3),\n",
       " (r13, 4),\n",
       " (r26, 0),\n",
       " (r26, 1),\n",
       " (r26, 2),\n",
       " (r26, 3),\n",
       " (r26, 4),\n",
       " (r14, 0),\n",
       " (r14, 1),\n",
       " (r14, 2),\n",
       " (r14, 3),\n",
       " (r14, 4),\n",
       " (r28, 0),\n",
       " (r28, 1),\n",
       " (r28, 2),\n",
       " (r28, 3),\n",
       " (r28, 4),\n",
       " (r21, 0),\n",
       " (r21, 1),\n",
       " (r21, 2),\n",
       " (r21, 3),\n",
       " (r21, 4),\n",
       " (r25, 0),\n",
       " (r25, 1),\n",
       " (r25, 2),\n",
       " (r25, 3),\n",
       " (r25, 4),\n",
       " (r22, 0),\n",
       " (r22, 1),\n",
       " (r22, 2),\n",
       " (r22, 3),\n",
       " (r22, 4),\n",
       " (r76, 0),\n",
       " (r76, 1),\n",
       " (r76, 2),\n",
       " (r76, 3),\n",
       " (r76, 4),\n",
       " (r24, 0),\n",
       " (r24, 1),\n",
       " (r24, 2),\n",
       " (r24, 3),\n",
       " (r24, 4),\n",
       " (r74, 0),\n",
       " (r74, 1),\n",
       " (r74, 2),\n",
       " (r74, 3),\n",
       " (r74, 4),\n",
       " (r15, 0),\n",
       " (r15, 1),\n",
       " (r15, 2),\n",
       " (r15, 3),\n",
       " (r15, 4),\n",
       " (r95, 0),\n",
       " (r95, 1),\n",
       " (r95, 2),\n",
       " (r95, 3),\n",
       " (r95, 4),\n",
       " (r23, 0),\n",
       " (r23, 1),\n",
       " (r23, 2),\n",
       " (r23, 3),\n",
       " (r23, 4),\n",
       " (r10, 0),\n",
       " (r10, 1),\n",
       " (r10, 2),\n",
       " (r10, 3),\n",
       " (r10, 4),\n",
       " (r20, 0),\n",
       " (r20, 1),\n",
       " (r20, 2),\n",
       " (r20, 3),\n",
       " (r20, 4),\n",
       " (r2, 0),\n",
       " (r2, 1),\n",
       " (r2, 2),\n",
       " (r2, 3),\n",
       " (r2, 4),\n",
       " (r83, 0),\n",
       " (r83, 1),\n",
       " (r83, 2),\n",
       " (r83, 3),\n",
       " (r83, 4),\n",
       " (r79, 0),\n",
       " (r79, 1),\n",
       " (r79, 2),\n",
       " (r79, 3),\n",
       " (r79, 4),\n",
       " (r82, 0),\n",
       " (r82, 1),\n",
       " (r82, 2),\n",
       " (r82, 3),\n",
       " (r82, 4),\n",
       " (r12, 0),\n",
       " (r12, 1),\n",
       " (r12, 2),\n",
       " (r12, 3),\n",
       " (r12, 4),\n",
       " (r9, 0),\n",
       " (r9, 1),\n",
       " (r9, 2),\n",
       " (r9, 3),\n",
       " (r9, 4),\n",
       " (r8, 0),\n",
       " (r8, 1),\n",
       " (r8, 2),\n",
       " (r8, 3),\n",
       " (r8, 4),\n",
       " (r97, 0),\n",
       " (r97, 1),\n",
       " (r97, 2),\n",
       " (r97, 3),\n",
       " (r97, 4),\n",
       " (r11, 0),\n",
       " (r11, 1),\n",
       " (r11, 2),\n",
       " (r11, 3),\n",
       " (r11, 4),\n",
       " (r19, 0),\n",
       " (r19, 1),\n",
       " (r19, 2),\n",
       " (r19, 3),\n",
       " (r19, 4),\n",
       " (r81, 0),\n",
       " (r81, 1),\n",
       " (r81, 2),\n",
       " (r81, 3),\n",
       " (r81, 4),\n",
       " (r1, 0),\n",
       " (r1, 1),\n",
       " (r1, 2),\n",
       " (r1, 3),\n",
       " (r1, 4),\n",
       " (r16, 0),\n",
       " (r16, 1),\n",
       " (r16, 2),\n",
       " (r16, 3),\n",
       " (r16, 4),\n",
       " (r3, 0),\n",
       " (r3, 1),\n",
       " (r3, 2),\n",
       " (r3, 3),\n",
       " (r3, 4),\n",
       " (r0, 0),\n",
       " (r0, 1),\n",
       " (r0, 2),\n",
       " (r0, 3),\n",
       " (r0, 4),\n",
       " (r78, 0),\n",
       " (r78, 1),\n",
       " (r78, 2),\n",
       " (r78, 3),\n",
       " (r78, 4),\n",
       " (r99, 0),\n",
       " (r99, 1),\n",
       " (r99, 2),\n",
       " (r99, 3),\n",
       " (r99, 4),\n",
       " (r17, 0),\n",
       " (r17, 1),\n",
       " (r17, 2),\n",
       " (r17, 3),\n",
       " (r17, 4),\n",
       " (r80, 0),\n",
       " (r80, 1),\n",
       " (r80, 2),\n",
       " (r80, 3),\n",
       " (r80, 4),\n",
       " (r77, 0),\n",
       " (r77, 1),\n",
       " (r77, 2),\n",
       " (r77, 3),\n",
       " (r77, 4),\n",
       " (r75, 0),\n",
       " (r75, 1),\n",
       " (r75, 2),\n",
       " (r75, 3),\n",
       " (r75, 4),\n",
       " (r96, 0),\n",
       " (r96, 1),\n",
       " (r96, 2),\n",
       " (r96, 3),\n",
       " (r96, 4),\n",
       " (r18, 0),\n",
       " (r18, 1),\n",
       " (r18, 2),\n",
       " (r18, 3),\n",
       " (r18, 4),\n",
       " (r98, 0),\n",
       " (r98, 1),\n",
       " (r98, 2),\n",
       " (r98, 3),\n",
       " (r98, 4),\n",
       " (r29, 0),\n",
       " (r29, 1),\n",
       " (r29, 2),\n",
       " (r29, 3),\n",
       " (r29, 4),\n",
       " (r30, 0),\n",
       " (r30, 1),\n",
       " (r30, 2),\n",
       " (r30, 3),\n",
       " (r30, 4),\n",
       " (r86, 0),\n",
       " (r86, 1),\n",
       " (r86, 2),\n",
       " (r86, 3),\n",
       " (r86, 4),\n",
       " (r31, 0),\n",
       " (r31, 1),\n",
       " (r31, 2),\n",
       " (r31, 3),\n",
       " (r31, 4),\n",
       " (r32, 0),\n",
       " (r32, 1),\n",
       " (r33, 0),\n",
       " (r33, 1),\n",
       " (r33, 2),\n",
       " (r33, 3),\n",
       " (r33, 4),\n",
       " (r7, 0),\n",
       " (r7, 1),\n",
       " (r7, 2),\n",
       " (r7, 3),\n",
       " (r7, 4),\n",
       " (r5, 0),\n",
       " (r5, 1),\n",
       " (r5, 2),\n",
       " (r5, 3),\n",
       " (r5, 4),\n",
       " (r4, 0),\n",
       " (r4, 1),\n",
       " (r4, 2),\n",
       " (r4, 3),\n",
       " (r4, 4),\n",
       " (r6, 0),\n",
       " (r6, 1),\n",
       " (r6, 2),\n",
       " (r6, 3),\n",
       " (r6, 4),\n",
       " (r34, 0),\n",
       " (r34, 1),\n",
       " (r34, 2),\n",
       " (r34, 3),\n",
       " (r34, 4),\n",
       " (r87, 0),\n",
       " (r87, 1),\n",
       " (r87, 2),\n",
       " (r87, 3),\n",
       " (r87, 4),\n",
       " (r88, 0),\n",
       " (r88, 1),\n",
       " (r88, 2),\n",
       " (r88, 3),\n",
       " (r88, 4),\n",
       " (r89, 0),\n",
       " (r89, 1),\n",
       " (r89, 2),\n",
       " (r89, 3),\n",
       " (r89, 4),\n",
       " (r90, 0),\n",
       " (r90, 1),\n",
       " (r90, 2),\n",
       " (r90, 3),\n",
       " (r90, 4),\n",
       " (r91, 0),\n",
       " (r91, 1),\n",
       " (r91, 2),\n",
       " (r91, 3),\n",
       " (r91, 4),\n",
       " (r63, 0),\n",
       " (r63, 1),\n",
       " (r63, 2),\n",
       " (r63, 3),\n",
       " (r63, 4),\n",
       " (r64, 0),\n",
       " (r64, 1),\n",
       " (r64, 2),\n",
       " (r64, 3),\n",
       " (r64, 4),\n",
       " (r65, 0),\n",
       " (r65, 1),\n",
       " (r65, 2),\n",
       " (r65, 3),\n",
       " (r65, 4),\n",
       " (r66, 0),\n",
       " (r66, 1),\n",
       " (r66, 2),\n",
       " (r66, 3),\n",
       " (r66, 4),\n",
       " (r92, 0),\n",
       " (r92, 1),\n",
       " (r92, 2),\n",
       " (r92, 3),\n",
       " (r92, 4),\n",
       " (r67, 0),\n",
       " (r67, 1),\n",
       " (r67, 2),\n",
       " (r67, 3),\n",
       " (r67, 4),\n",
       " (r68, 0),\n",
       " (r68, 1),\n",
       " (r68, 2),\n",
       " (r68, 3),\n",
       " (r68, 4),\n",
       " (r69, 0),\n",
       " (r69, 1),\n",
       " (r69, 2),\n",
       " (r69, 3),\n",
       " (r69, 4),\n",
       " (r70, 0),\n",
       " (r70, 1),\n",
       " (r70, 2),\n",
       " (r70, 3),\n",
       " (r70, 4),\n",
       " (r71, 0),\n",
       " (r71, 1),\n",
       " (r71, 2),\n",
       " (r71, 3),\n",
       " (r71, 4),\n",
       " (r72, 0),\n",
       " (r72, 1),\n",
       " (r72, 2),\n",
       " (r72, 3),\n",
       " (r72, 4),\n",
       " (r93, 0),\n",
       " (r93, 1),\n",
       " (r93, 2),\n",
       " (r93, 3),\n",
       " (r93, 4)}"
      ]
     },
     "execution_count": 52,
     "metadata": {},
     "output_type": "execute_result"
    }
   ],
   "source": [
    "old_planner.full_prod.states"
   ]
  },
  {
   "cell_type": "code",
   "execution_count": 73,
   "metadata": {},
   "outputs": [
    {
     "data": {
      "text/plain": [
       "['a', 'r27']"
      ]
     },
     "execution_count": 73,
     "metadata": {},
     "output_type": "execute_result"
    }
   ],
   "source": [
    "sorted(list(old_planner.wfts.states), key=lambda x: int(x.__repr__()[1:]))[27].ap"
   ]
  },
  {
   "cell_type": "code",
   "execution_count": 89,
   "metadata": {
    "collapsed": true
   },
   "outputs": [],
   "source": [
    "wfts_state = deepcopy(old_planner.wfts.states)"
   ]
  },
  {
   "cell_type": "code",
   "execution_count": 92,
   "metadata": {},
   "outputs": [],
   "source": [
    "wfts_state.update([prod_planner.region_list[27]])"
   ]
  },
  {
   "cell_type": "code",
   "execution_count": 74,
   "metadata": {},
   "outputs": [
    {
     "data": {
      "text/plain": [
       "['r27', 'c']"
      ]
     },
     "execution_count": 74,
     "metadata": {},
     "output_type": "execute_result"
    }
   ],
   "source": [
    "prod_planner.region_list[27]"
   ]
  },
  {
   "cell_type": "code",
   "execution_count": 85,
   "metadata": {
    "collapsed": true
   },
   "outputs": [],
   "source": [
    "a = set([1,2,3])"
   ]
  },
  {
   "cell_type": "code",
   "execution_count": 88,
   "metadata": {},
   "outputs": [
    {
     "ename": "TypeError",
     "evalue": "'int' object is not iterable",
     "output_type": "error",
     "traceback": [
      "\u001b[0;31m---------------------------------------------------------------------------\u001b[0m",
      "\u001b[0;31mTypeError\u001b[0m                                 Traceback (most recent call last)",
      "\u001b[0;32m<ipython-input-88-f71d217416bb>\u001b[0m in \u001b[0;36m<module>\u001b[0;34m()\u001b[0m\n\u001b[0;32m----> 1\u001b[0;31m \u001b[0ma\u001b[0m\u001b[0;34m.\u001b[0m\u001b[0mupdate\u001b[0m\u001b[0;34m(\u001b[0m\u001b[0;36m1\u001b[0m\u001b[0;34m)\u001b[0m\u001b[0;34m\u001b[0m\u001b[0m\n\u001b[0m",
      "\u001b[0;31mTypeError\u001b[0m: 'int' object is not iterable"
     ]
    }
   ],
   "source": [
    "a.update()"
   ]
  },
  {
   "cell_type": "code",
   "execution_count": 87,
   "metadata": {},
   "outputs": [
    {
     "data": {
      "text/plain": [
       "{1, 2, 3}"
      ]
     },
     "execution_count": 87,
     "metadata": {},
     "output_type": "execute_result"
    }
   ],
   "source": [
    "a"
   ]
  },
  {
   "cell_type": "code",
   "execution_count": 95,
   "metadata": {
    "scrolled": true
   },
   "outputs": [
    {
     "data": {
      "text/plain": [
       "{r94: 1, r84: 1, r95: 1, r93: 1}"
      ]
     },
     "execution_count": 95,
     "metadata": {},
     "output_type": "execute_result"
    }
   ],
   "source": [
    "old_planner.wfts.transition[list(old_planner.wfts.states)[0]]"
   ]
  },
  {
   "cell_type": "code",
   "execution_count": 136,
   "metadata": {
    "collapsed": true
   },
   "outputs": [],
   "source": [
    "class region0(object):\n",
    "    def __init__(self):\n",
    "        self.ap = 1"
   ]
  },
  {
   "cell_type": "code",
   "execution_count": 148,
   "metadata": {
    "collapsed": true
   },
   "outputs": [],
   "source": [
    "class wfts0(object):\n",
    "    def __init__(self, r_l):\n",
    "        self.r_l = r_l\n",
    "        self.transition = {}\n",
    "        for i in r_l:\n",
    "            if i not in self.transition.keys():\n",
    "                self.transition[i] = {}\n",
    "            self.transition[i][i] = 1\n",
    "    def add_s(self, new):\n",
    "        self.r_l += [new]"
   ]
  },
  {
   "cell_type": "code",
   "execution_count": 138,
   "metadata": {
    "collapsed": true
   },
   "outputs": [],
   "source": [
    "class Test0(object):\n",
    "    def __init__(self):\n",
    "        region_list = [region0() for i in range(10)]\n",
    "        self.wfts = wfts0(region_list)\n",
    "        self.region_list = region_list"
   ]
  },
  {
   "cell_type": "code",
   "execution_count": 141,
   "metadata": {},
   "outputs": [],
   "source": [
    "a = Test0()"
   ]
  },
  {
   "cell_type": "code",
   "execution_count": 147,
   "metadata": {},
   "outputs": [
    {
     "data": {
      "text/plain": [
       "{<__main__.region0 at 0x12d364bd0>: 1}"
      ]
     },
     "execution_count": 147,
     "metadata": {},
     "output_type": "execute_result"
    }
   ],
   "source": [
    "a.wfts.transition[a.region_list[0]]"
   ]
  },
  {
   "cell_type": "code",
   "execution_count": 152,
   "metadata": {
    "collapsed": true
   },
   "outputs": [],
   "source": [
    "a = [[1,2,3]]"
   ]
  },
  {
   "cell_type": "code",
   "execution_count": 115,
   "metadata": {
    "collapsed": true
   },
   "outputs": [],
   "source": [
    "a.region_list[0]=10"
   ]
  },
  {
   "cell_type": "code",
   "execution_count": 144,
   "metadata": {},
   "outputs": [],
   "source": [
    "a.region_list[0].ap =100"
   ]
  },
  {
   "cell_type": "code",
   "execution_count": 118,
   "metadata": {},
   "outputs": [
    {
     "data": {
      "text/plain": [
       "{0: {1: 1},\n",
       " 1: {2: 1},\n",
       " 2: {3: 1},\n",
       " 3: {4: 1},\n",
       " 4: {5: 1},\n",
       " 5: {6: 1},\n",
       " 6: {7: 1},\n",
       " 7: {8: 1},\n",
       " 8: {9: 1},\n",
       " 9: {10: 1}}"
      ]
     },
     "execution_count": 118,
     "metadata": {},
     "output_type": "execute_result"
    }
   ],
   "source": [
    "a.wfts.transition"
   ]
  },
  {
   "cell_type": "code",
   "execution_count": 122,
   "metadata": {
    "collapsed": true
   },
   "outputs": [],
   "source": [
    "a = range(10)"
   ]
  },
  {
   "cell_type": "code",
   "execution_count": 123,
   "metadata": {
    "collapsed": true
   },
   "outputs": [],
   "source": [
    "a.remove(a[0])"
   ]
  },
  {
   "cell_type": "code",
   "execution_count": 124,
   "metadata": {},
   "outputs": [
    {
     "data": {
      "text/plain": [
       "[1, 2, 3, 4, 5, 6, 7, 8, 9]"
      ]
     },
     "execution_count": 124,
     "metadata": {},
     "output_type": "execute_result"
    }
   ],
   "source": [
    "a"
   ]
  }
 ],
 "metadata": {
  "kernelspec": {
   "display_name": "Python 2",
   "language": "python",
   "name": "python2"
  },
  "language_info": {
   "codemirror_mode": {
    "name": "ipython",
    "version": 2
   },
   "file_extension": ".py",
   "mimetype": "text/x-python",
   "name": "python",
   "nbconvert_exporter": "python",
   "pygments_lexer": "ipython2",
   "version": "2.7.13"
  }
 },
 "nbformat": 4,
 "nbformat_minor": 2
}
