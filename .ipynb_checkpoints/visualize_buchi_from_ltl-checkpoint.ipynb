{
 "cells": [
  {
   "cell_type": "code",
   "execution_count": 1,
   "metadata": {},
   "outputs": [
    {
     "name": "stdout",
     "output_type": "stream",
     "text": [
      "Graph Successfully Plotted\n"
     ]
    }
   ],
   "source": [
    "import sys\n",
    "sys.path.append('/Users/gaoqitong/Master_Project/Thesis_Code/')\n",
    "sys.path.append('/Users/gaoqitong/Master_Project/P_MAS_TG-master/')\n",
    "\n",
    "import networkx as nx\n",
    "import pydot as pd\n",
    "from P_MAS_TG.buchi import buchi_from_ltl\n",
    "\n",
    "def plot_buchi(buchi,filename):\n",
    "    filename = './'+ filename +'_dot.txt'\n",
    "    pngname = filename.replace('.txt','.png')\n",
    "    dotfile = nx.write_dot(buchi, filename)\n",
    "    with open(filename,'r') as readdot:\n",
    "        modified_dot = readdot.read().replace('\\n','').replace('guard_formula','label')\n",
    "    with open(filename,'w') as write_new_dot:\n",
    "        write_new_dot.write(modified_dot)\n",
    "    \n",
    "    graph = pd.graph_from_dot_file(filename)\n",
    "    graph = graph.pop()\n",
    "    graph.write_png(pngname)\n",
    "    \n",
    "    print 'Graph Successfully Plotted'\n",
    "    \n",
    "if __name__ == \"__main__\":\n",
    "    input_ltl = '<>(rball && <>basket) && <>[]r1'\n",
    "    buchi = buchi_from_ltl(input_ltl,None)\n",
    "    plot_buchi(buchi,'current_ltl')"
   ]
  }
 ],
 "metadata": {
  "kernelspec": {
   "display_name": "Python 2",
   "language": "python",
   "name": "python2"
  },
  "language_info": {
   "codemirror_mode": {
    "name": "ipython",
    "version": 2
   },
   "file_extension": ".py",
   "mimetype": "text/x-python",
   "name": "python",
   "nbconvert_exporter": "python",
   "pygments_lexer": "ipython2",
   "version": "2.7.13"
  }
 },
 "nbformat": 4,
 "nbformat_minor": 2
}
