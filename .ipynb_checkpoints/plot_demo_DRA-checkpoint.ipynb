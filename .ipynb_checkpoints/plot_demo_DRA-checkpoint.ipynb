{
 "cells": [
  {
   "cell_type": "code",
   "execution_count": null,
   "metadata": {
    "collapsed": true
   },
   "outputs": [],
   "source": [
    "%load_ext autoreload\n",
    "%autoreload 2"
   ]
  },
  {
   "cell_type": "code",
   "execution_count": 12,
   "metadata": {
    "collapsed": true
   },
   "outputs": [],
   "source": [
    "%matplotlib osx"
   ]
  },
  {
   "cell_type": "code",
   "execution_count": 1,
   "metadata": {},
   "outputs": [
    {
     "name": "stderr",
     "output_type": "stream",
     "text": [
      "/Users/gaoqitong/anaconda/envs/py27/lib/python2.7/site-packages/h5py/__init__.py:34: FutureWarning: Conversion of the second argument of issubdtype from `float` to `np.floating` is deprecated. In future, it will be treated as `np.float64 == np.dtype(float).type`.\n",
      "  from ._conv import register_converters as _register_converters\n"
     ]
    }
   ],
   "source": [
    "from full_prod_DRA import *\n",
    "from buchi import buchi_from_ltl\n",
    "# from Visualize import plot_buchi\n",
    "import numpy as np\n",
    "from env_sensing_error import CurrentWorld\n",
    "import scipy\n",
    "from plot_path_for_prod import *\n",
    "from graphviz import Source\n",
    "from Plot_Path import *"
   ]
  },
  {
   "cell_type": "code",
   "execution_count": null,
   "metadata": {
    "collapsed": true
   },
   "outputs": [],
   "source": [
    "def get_global_opt(ltl, env, wfts, region_list):\n",
    "    ltl = ltl.lower()\n",
    "\n",
    "    region_list = update_wfts_ap(region_list)\n",
    "\n",
    "    wfts.add_initial(region_list[np.ravel_multi_index(env.start_coord, env.shape[:-1])])\n",
    "\n",
    "\n",
    "    # buchi = buchi_from_ltl(ltl,None)\n",
    "    # my_buchi = Buchi_Automaton(buchi)\n",
    "\n",
    "    rabin = env.rabin\n",
    "\n",
    "    full_prod = FullProd(wfts, rabin)\n",
    "    full_prod.construct_fullproduct()\n",
    "    count = 0\n",
    "    for i in full_prod.states:\n",
    "        for j in full_prod.transition[i].keys():\n",
    "            if full_prod.transition[i][j] is not None:\n",
    "                count += 1 \n",
    "\n",
    "    opt=search_opt_run(full_prod)\n",
    "    opt_path = [tuple(list(opt[0][i][0].coord) + [opt[0][i][1]]) for i in range(len(opt[0]))]\n",
    "    print 'Plan synthesized:'+str(opt_path)\n",
    "    return opt_path, region_list, wfts\n",
    "\n",
    "def update_wfts_ap(region_list):\n",
    "    # Update sensed ap for all regions\n",
    "    \n",
    "    last_coord_dict_extra = set((k,tuple(v)) for k,v in env.last_dynamic_coord_dict.items()) - set((k,tuple(v)) for k,v in env.dynamic_coord_dict.items())\n",
    "    new_coord_dict_extra = set((k,tuple(v)) for k,v in env.dynamic_coord_dict.items()) - set((k,tuple(v)) for k,v in env.last_dynamic_coord_dict.items())\n",
    "    \n",
    "    for k,v in last_coord_dict_extra:\n",
    "        print \"k\",k\n",
    "        for i in v:\n",
    "            print \"i\",i\n",
    "            region_list[np.ravel_multi_index(k, (10,10))].app.remove(i.lower())\n",
    "            region_list[np.ravel_multi_index(k, (10,10))].ap.remove(i.lower())\n",
    "\n",
    "    for k,v in new_coord_dict_extra:\n",
    "        for i in v:\n",
    "            region_list[np.ravel_multi_index(k, (10,10))].app += [i.lower()]\n",
    "            region_list[np.ravel_multi_index(k, (10,10))].ap += [i.lower()]\n",
    "    return region_list\n",
    "\n",
    "def get_opt_rabin(opt_path):\n",
    "    opt_rabin = []\n",
    "    for i in opt_path:\n",
    "        if len(opt_rabin) == 0:\n",
    "            opt_rabin += [i[-1]]\n",
    "        if i[-1] != opt_rabin[-1]:\n",
    "            opt_rabin += [i[-1]]\n",
    "    return opt_rabin\n",
    "\n",
    "def get_next_ltl(current_rabin, opt_rabin):\n",
    "    # input 'current_rabin' is with type int\n",
    "    current_rabin = str(current_rabin)\n",
    "    current_idx = np.where(np.array(opt_rabin) == np.int(current_rabin))[0][0]\n",
    "    next_rabin = str(opt_rabin[current_idx+1])\n",
    "    ltl_list = [i[\"label\"][1:] for i in env.rabin.graph[current_rabin][next_rabin].values()]\n",
    "    ltl = \")||<>(\".join(ltl_list)\n",
    "    ltl = \"<>(\" + ltl + \")\"\n",
    "    return ltl"
   ]
  },
  {
   "cell_type": "code",
   "execution_count": null,
   "metadata": {
    "collapsed": true,
    "scrolled": true
   },
   "outputs": [],
   "source": [
    "# Example Used in DQN Paper\n",
    "\n",
    "# ltl = \"<>(A && <>(B && <>T)) && []<>A && []<>B && []!C\".lower()\n",
    "# ltl = \"<>(A && <>(B && <>T)) && []!C\".lower()\n",
    "ltl = \"<>(A && <>B) && []!C\".lower()\n",
    "env = CurrentWorld(ltl)\n",
    "\n",
    "region_list = [\"r\"+str(i) for i in range(100)]\n",
    "for i in range(len(region_list)):\n",
    "    coord = np.unravel_index(i, (10,10))\n",
    "    # Use static dict here for original DQN paper example\n",
    "    if len(env.dynamic_coord_dict[coord]) > 0:\n",
    "        region_list[i] = Region(coord, [ap.lower() for ap in env.dynamic_coord_dict[coord]], region_list[i])\n",
    "    else:\n",
    "        region_list[i] = Region(coord, [], region_list[i])\n",
    "    \n",
    "\n",
    "wfts = wFTS(set(), {}, set())\n",
    "for i in region_list:\n",
    "    wfts.add_states(i)\n",
    "    \n",
    "for i in region_list:\n",
    "    current_coord = list(i.coord)\n",
    "    candidates = [np.array(current_coord), np.add(current_coord,[0,1]), np.add(current_coord,[0,-1]), \n",
    "                  np.add(current_coord,[1,0]), np.add(current_coord,[-1,0])]\n",
    "    candidates = [np.ravel_multi_index(c, env.shape[:-1]) for c in candidates if c[0]>=0 and c[1]>=0 and c[0]<env.shape[0] and c[1]<env.shape[1]]\n",
    "    for c in candidates:\n",
    "        wfts.add_transition(i, region_list[c], 1)\n",
    "            \n",
    "wfts.add_initial(region_list[np.ravel_multi_index(env.start_coord, env.shape[:-1])])\n",
    "    \n",
    "\n",
    "# buchi = buchi_from_ltl(ltl,None)\n",
    "# my_buchi = Buchi_Automaton(buchi)\n",
    "\n",
    "rabin = env.rabin\n",
    "\n",
    "full_prod = FullProd(wfts, rabin)\n",
    "full_prod.construct_fullproduct()\n",
    "count = 0\n",
    "for i in full_prod.states:\n",
    "    for j in full_prod.transition[i].keys():\n",
    "        if full_prod.transition[i][j] is not None:\n",
    "            count += 1 \n",
    "\n",
    "opt=search_opt_run(full_prod)\n",
    "opt_path = [tuple(list(opt[0][i][0].coord) + [opt[0][i][1]]) for i in range(len(opt[0]))]\n",
    "print 'Plan synthesized:'+str(opt_path)"
   ]
  },
  {
   "cell_type": "code",
   "execution_count": 15,
   "metadata": {},
   "outputs": [
    {
     "name": "stdout",
     "output_type": "stream",
     "text": [
      "0\n",
      "0\n",
      "reset\n"
     ]
    }
   ],
   "source": [
    "ltl = \"<>(A && <>B) && []!C\".lower()\n",
    "env = CurrentWorld(ltl)\n",
    "prod_plan = Prod_Planning(env, ltl)"
   ]
  },
  {
   "cell_type": "code",
   "execution_count": null,
   "metadata": {
    "collapsed": true,
    "scrolled": true
   },
   "outputs": [],
   "source": [
    "prod_plan.full_prod.states"
   ]
  },
  {
   "cell_type": "code",
   "execution_count": null,
   "metadata": {
    "collapsed": true
   },
   "outputs": [],
   "source": [
    "prod_plan.env.rabin.states"
   ]
  },
  {
   "cell_type": "code",
   "execution_count": 20,
   "metadata": {},
   "outputs": [
    {
     "name": "stdout",
     "output_type": "stream",
     "text": [
      "Plan synthesized:[(4, 1, 1), (3, 1, 1), (2, 1, 1), (1, 1, 1), (1, 2, 1), (1, 3, 1), (2, 3, 1), (2, 4, 1), (2, 5, 1), (2, 6, 1), (2, 7, 1), (3, 7, 2), (4, 7, 2), (5, 7, 2), (6, 7, 2), (7, 7, 2), (7, 6, 2), (7, 5, 2), (6, 5, 2), (6, 4, 2), (6, 3, 2), (6, 2, 2), (5, 2, 2), (5, 3, 3), (5, 3, 4), (5, 3, 4), (5, 3, 4)]\n",
      "None\n"
     ]
    }
   ],
   "source": [
    "print prod_plan.get_global_opt()"
   ]
  },
  {
   "cell_type": "code",
   "execution_count": 17,
   "metadata": {
    "collapsed": true
   },
   "outputs": [],
   "source": [
    "prod_plan.get_opt_rabin()"
   ]
  },
  {
   "cell_type": "code",
   "execution_count": 18,
   "metadata": {},
   "outputs": [
    {
     "name": "stdout",
     "output_type": "stream",
     "text": [
      "[1, 2, 3, 4]\n"
     ]
    }
   ],
   "source": [
    "print prod_plan.opt_rabin"
   ]
  },
  {
   "cell_type": "code",
   "execution_count": 11,
   "metadata": {},
   "outputs": [
    {
     "name": "stdout",
     "output_type": "stream",
     "text": [
      "<>(!a&b&!c)||<>(a&b&!c)\n"
     ]
    }
   ],
   "source": [
    "print prod_plan.get_next_ltl(2)"
   ]
  },
  {
   "cell_type": "code",
   "execution_count": 23,
   "metadata": {},
   "outputs": [
    {
     "name": "stdout",
     "output_type": "stream",
     "text": [
      "0\n",
      "0\n",
      "Local Plan synthesized:[(5, 7, 0), (5, 6, 0), (5, 5, 0), (5, 4, 0), (5, 3, 0), (5, 2, 0), (6, 2, 1), (6, 2, 1), (6, 2, 1)]\n"
     ]
    },
    {
     "data": {
      "text/plain": [
       "0"
      ]
     },
     "execution_count": 23,
     "metadata": {},
     "output_type": "execute_result"
    }
   ],
   "source": [
    "convert_path_to_action(prod_plan.get_local_opt((5,7), \"<>(!a&b&!c)||<>(a&b&!c)\"))"
   ]
  },
  {
   "cell_type": "code",
   "execution_count": null,
   "metadata": {
    "collapsed": true
   },
   "outputs": [],
   "source": [
    "prod_plan.region_list[np.ravel_multi_index((5,2),(10,10))].ap"
   ]
  },
  {
   "cell_type": "code",
   "execution_count": null,
   "metadata": {
    "collapsed": true
   },
   "outputs": [],
   "source": [
    "prod_plan.env.last_ap_dict"
   ]
  },
  {
   "cell_type": "code",
   "execution_count": null,
   "metadata": {
    "collapsed": true
   },
   "outputs": [],
   "source": [
    "prod_plan.env.ap_dict"
   ]
  },
  {
   "cell_type": "code",
   "execution_count": 22,
   "metadata": {
    "collapsed": true
   },
   "outputs": [],
   "source": [
    "def convert_path_to_action(path):\n",
    "    current_coord = path[0]\n",
    "    next_coord = path[1]\n",
    "    if current_coord[0] == next_coord[0] and current_coord[1]-1 == next_coord[1]:\n",
    "        return 0\n",
    "    if current_coord[0]+1 == next_coord[0] and current_coord[1] == next_coord[1]:\n",
    "        return 1\n",
    "    if current_coord[0] == next_coord[0] and current_coord[1]+1 == next_coord[1]:\n",
    "        return 2\n",
    "    if current_coord[0]-1 == next_coord[0] and current_coord[1] == next_coord[1]:\n",
    "        return 3\n",
    "    if current_coord[0] == next_coord[0] and current_coord[1] == next_coord[1]:\n",
    "        return 4\n",
    "    "
   ]
  },
  {
   "cell_type": "code",
   "execution_count": 14,
   "metadata": {
    "collapsed": true
   },
   "outputs": [],
   "source": [
    "class Prod_Planning(object):\n",
    "    def __init__(self, env, ltl):\n",
    "        self.ltl = ltl.lower()\n",
    "        self.env = env\n",
    "        \n",
    "        region_list = [\"r\"+str(i) for i in range(100)]\n",
    "        for i in range(len(region_list)):\n",
    "            coord = np.unravel_index(i, (env.shape[0],env.shape[1]))\n",
    "            if len(env.dynamic_coord_dict[coord]) >0:\n",
    "                region_list[i] = Region(coord, [ap.lower() for ap in env.dynamic_coord_dict[coord]], region_list[i])\n",
    "            else:\n",
    "                region_list[i] = Region(coord, [], region_list[i])\n",
    "                \n",
    "        wfts = wFTS(set(), {}, set())\n",
    "        for i in region_list:\n",
    "            wfts.add_states(i)\n",
    "\n",
    "        for i in region_list:\n",
    "            current_coord = list(i.coord)\n",
    "            candidates = [np.array(current_coord), np.add(current_coord,[0,1]), np.add(current_coord,[0,-1]), \n",
    "                          np.add(current_coord,[1,0]), np.add(current_coord,[-1,0])]\n",
    "            candidates = [np.ravel_multi_index(c, env.shape[:-1]) for c in candidates if c[0]>=0 and c[1]>=0 and c[0]<env.shape[0] and c[1]<env.shape[1]]\n",
    "            for c in candidates:\n",
    "                wfts.add_transition(i, region_list[c], 1)\n",
    "\n",
    "        wfts.add_initial(region_list[np.ravel_multi_index(env.start_coord, env.shape[:-1])])\n",
    "        \n",
    "        self.region_list = region_list\n",
    "        self.wfts = wfts\n",
    "        self.opt_path = []\n",
    "        \n",
    "    def update_wfts_ap(self):\n",
    "        last_coord_dict_extra = set((k,tuple(v)) for k,v in self.env.last_dynamic_coord_dict.items()) - set((k,tuple(v)) for k,v in self.env.dynamic_coord_dict.items())\n",
    "        new_coord_dict_extra = set((k,tuple(v)) for k,v in self.env.dynamic_coord_dict.items()) - set((k,tuple(v)) for k,v in self.env.last_dynamic_coord_dict.items())\n",
    "#         print \"last_extra: \", last_coord_dict_extra\n",
    "#         print \"new_extra: \", new_coord_dict_extra\n",
    "        for k,v in last_coord_dict_extra:\n",
    "            print \"k\",k\n",
    "            for i in v:\n",
    "                print \"i\",i\n",
    "                self.region_list[np.ravel_multi_index(k, (10,10))].app.remove(i.lower())\n",
    "                self.region_list[np.ravel_multi_index(k, (10,10))].ap.remove(i.lower())\n",
    "\n",
    "        for k,v in new_coord_dict_extra:\n",
    "            for i in v:\n",
    "                self.region_list[np.ravel_multi_index(k, (10,10))].app += [i.lower()]\n",
    "                self.region_list[np.ravel_multi_index(k, (10,10))].ap += [i.lower()]\n",
    "    \n",
    "    def get_global_opt(self):\n",
    "        opt_path = []\n",
    "\n",
    "#         self.region_list = self.update_wfts_ap()\n",
    "        self.wfts.replace_initial(self.region_list[np.ravel_multi_index(self.env.start_coord, self.env.shape[:-1])])\n",
    "        \n",
    "        rabin = self.env.rabin\n",
    "        \n",
    "        full_prod = FullProd(self.wfts, rabin)\n",
    "        self.full_prod = full_prod\n",
    "        full_prod.construct_fullproduct()\n",
    "        count = 0\n",
    "        for i in full_prod.states:\n",
    "            for j in full_prod.transition[i].keys():\n",
    "                if full_prod.transition[i][j] is not None:\n",
    "                    count += 1 \n",
    "                    \n",
    "        # while len(opt_path) == 0:\n",
    "        try:\n",
    "            opt=search_opt_run(full_prod)\n",
    "            opt_path = [tuple(list(opt[0][i][0].coord) + [opt[0][i][1]]) for i in range(len(opt[0]))]\n",
    "            self.opt_path = opt_path\n",
    "        except:\n",
    "            pass\n",
    "        \n",
    "        # print 'Plan synthesized:'+str(opt_path)\n",
    "#         return self.opt_path, self.region_list, self.wfts\n",
    "\n",
    "    def get_opt_rabin(self):\n",
    "        opt_rabin = []\n",
    "        for i in self.opt_path:\n",
    "            if len(opt_rabin) == 0:\n",
    "                opt_rabin += [i[-1]]\n",
    "            if i[-1] != opt_rabin[-1]:\n",
    "                opt_rabin += [i[-1]]\n",
    "#         return opt_rabin\n",
    "        self.opt_rabin = opt_rabin\n",
    "    \n",
    "    def get_next_ltl(self, current_rabin):\n",
    "        # input 'current_rabin' is with type int\n",
    "        current_rabin = str(current_rabin)\n",
    "        current_idx = np.where(np.array(self.opt_rabin) == np.int(current_rabin))[0][0]\n",
    "        next_rabin = str(self.opt_rabin[current_idx+1])\n",
    "        ltl_list = [i[\"label\"][1:] for i in self.env.rabin.graph[current_rabin][next_rabin].values()]\n",
    "        next_ltl = \")||<>(\".join(ltl_list)\n",
    "        next_ltl = \"<>(\" + next_ltl + \")\"\n",
    "        return next_ltl\n",
    "    \n",
    "    def get_local_opt(self, new_start_coord, new_ltl):\n",
    "        opt_local_path = []\n",
    "\n",
    "        rabin = Rabin_Automaton(new_ltl, env.dynamic_coord_dict)\n",
    "        self.wfts.replace_initial(self.region_list[np.ravel_multi_index(new_start_coord, env.shape[:-1])])\n",
    "        \n",
    "        full_prod = FullProd(self.wfts, rabin)\n",
    "        full_prod.construct_fullproduct()\n",
    "        count = 0\n",
    "        for i in full_prod.states:\n",
    "            for j in full_prod.transition[i].keys():\n",
    "                if full_prod.transition[i][j] is not None:\n",
    "                    count += 1 \n",
    "                    \n",
    "        # while len(opt_local_path) == 0:\n",
    "        try:\n",
    "            opt=search_opt_run(full_prod)\n",
    "            opt_local_path = [tuple(list(opt[0][i][0].coord) + [opt[0][i][1]]) for i in range(len(opt[0]))]\n",
    "            return opt_local_path\n",
    "        except:\n",
    "            return None\n",
    "        # print 'Local Plan synthesized:'+str(opt_local_path)"
   ]
  },
  {
   "cell_type": "code",
   "execution_count": null,
   "metadata": {
    "collapsed": true,
    "scrolled": true
   },
   "outputs": [],
   "source": [
    "get_global_opt(ltl,env,wfts,region_list)"
   ]
  },
  {
   "cell_type": "code",
   "execution_count": null,
   "metadata": {
    "collapsed": true
   },
   "outputs": [],
   "source": [
    "env.step()"
   ]
  },
  {
   "cell_type": "code",
   "execution_count": null,
   "metadata": {
    "collapsed": true
   },
   "outputs": [],
   "source": [
    "# For Guide Learning\n",
    "\n",
    "# wfts.replace_initial(region_list[np.ravel_multi_index(ns[:2],(10,10))])\n",
    "    \n",
    "# buchi = buchi_from_ltl(ltl,None)\n",
    "# my_buchi = Buchi_Automaton(buchi)\n",
    "new_ltl = get_next_ltl(\"2\", get_opt_rabin(opt_path))\n",
    "\n",
    "rabin = Rabin_Automaton(new_ltl, env.dynamic_coord_dict)\n",
    "\n",
    "full_prod = FullProd(wfts, rabin)\n",
    "full_prod.construct_fullproduct()\n",
    "count = 0\n",
    "for i in full_prod.states:\n",
    "    for j in full_prod.transition[i].keys():\n",
    "        if full_prod.transition[i][j] is not None:\n",
    "            count += 1 \n",
    "\n",
    "opt=search_opt_run(full_prod)\n",
    "opt_path = [tuple(list(opt[0][i][0].coord) + [opt[0][i][1]]) for i in range(len(opt[0]))]\n",
    "print 'Plan synthesized:'+str(opt_path)"
   ]
  },
  {
   "cell_type": "code",
   "execution_count": null,
   "metadata": {
    "collapsed": true
   },
   "outputs": [],
   "source": [
    "plt.close(\"all\")"
   ]
  },
  {
   "cell_type": "code",
   "execution_count": null,
   "metadata": {
    "collapsed": true
   },
   "outputs": [],
   "source": [
    "env.last_ap_dict"
   ]
  },
  {
   "cell_type": "code",
   "execution_count": null,
   "metadata": {
    "collapsed": true
   },
   "outputs": [],
   "source": [
    "env.ap_dict"
   ]
  },
  {
   "cell_type": "code",
   "execution_count": null,
   "metadata": {
    "collapsed": true
   },
   "outputs": [],
   "source": [
    "env.last_dynamic_coord_dict[(2,7)]"
   ]
  },
  {
   "cell_type": "code",
   "execution_count": null,
   "metadata": {
    "collapsed": true
   },
   "outputs": [],
   "source": [
    "env.dynamic_coord_dict[(2,7)]"
   ]
  },
  {
   "cell_type": "code",
   "execution_count": null,
   "metadata": {
    "collapsed": true
   },
   "outputs": [],
   "source": [
    "region_list[np.ravel_multi_index((6,6),(10,10))].ap"
   ]
  },
  {
   "cell_type": "code",
   "execution_count": null,
   "metadata": {
    "collapsed": true
   },
   "outputs": [],
   "source": [
    "set((k,tuple(v)) for k,v in env.last_dynamic_coord_dict.items()) - set((k,tuple(v)) for k,v in env.dynamic_coord_dict.items())"
   ]
  },
  {
   "cell_type": "code",
   "execution_count": null,
   "metadata": {
    "collapsed": true
   },
   "outputs": [],
   "source": [
    "env.reset()"
   ]
  },
  {
   "cell_type": "code",
   "execution_count": null,
   "metadata": {
    "collapsed": true
   },
   "outputs": [],
   "source": [
    "ltl = \"<>(A && <>B) && []!C\".lower()\n",
    "env = CurrentWorld(ltl)\n",
    "region_list = [\"r\"+str(i) for i in range(100)]\n",
    "for i in range(len(region_list)):\n",
    "    coord = np.unravel_index(i, (10,10))\n",
    "    # Use static dict here for original DQN paper example\n",
    "    if len(env.dynamic_coord_dict[coord]) > 0:\n",
    "        region_list[i] = Region(coord, [ap.lower() for ap in env.dynamic_coord_dict[coord]], region_list[i])\n",
    "    else:\n",
    "        region_list[i] = Region(coord, [], region_list[i])\n",
    "env.reset()\n",
    "region_list = update_wfts_ap(region_list)"
   ]
  },
  {
   "cell_type": "code",
   "execution_count": null,
   "metadata": {
    "collapsed": true
   },
   "outputs": [],
   "source": [
    "plt.close(\"all\")"
   ]
  },
  {
   "cell_type": "code",
   "execution_count": null,
   "metadata": {
    "collapsed": true,
    "scrolled": true
   },
   "outputs": [],
   "source": [
    "env.reset()\n",
    "region_list = update_wfts_ap(region_list)\n",
    "np.random.seed(100)\n",
    "for i in range(10):\n",
    "    a = np.random.randint(env.nA)\n",
    "    ns,r,d,_ = env.step(a)\n",
    "    ns = np.unravel_index(ns,(10,10,5))\n",
    "    ns_plot = ns[:2]\n",
    "    render(env,ns_plot,a)\n",
    "    region_list = update_wfts_ap(region_list)\n",
    "    "
   ]
  },
  {
   "cell_type": "code",
   "execution_count": null,
   "metadata": {
    "collapsed": true
   },
   "outputs": [],
   "source": [
    "env.dynamic_coord_dict[(6,6)]"
   ]
  },
  {
   "cell_type": "code",
   "execution_count": null,
   "metadata": {
    "collapsed": true
   },
   "outputs": [],
   "source": [
    "env.ap_dict"
   ]
  },
  {
   "cell_type": "code",
   "execution_count": null,
   "metadata": {
    "collapsed": true
   },
   "outputs": [],
   "source": [
    "new_ltl = get_next_ltl(\"2\",get_opt_rabin(opt_path))"
   ]
  },
  {
   "cell_type": "code",
   "execution_count": null,
   "metadata": {
    "collapsed": true
   },
   "outputs": [],
   "source": [
    "new_ltl"
   ]
  },
  {
   "cell_type": "code",
   "execution_count": null,
   "metadata": {
    "collapsed": true
   },
   "outputs": [],
   "source": [
    "locate_next_rabin(\"2\")"
   ]
  },
  {
   "cell_type": "code",
   "execution_count": null,
   "metadata": {
    "collapsed": true
   },
   "outputs": [],
   "source": [
    "[i[\"label\"] for i in env.rabin.graph[\"2\"][\"3\"].values()]"
   ]
  },
  {
   "cell_type": "code",
   "execution_count": null,
   "metadata": {
    "collapsed": true
   },
   "outputs": [],
   "source": [
    "from collections import defaultdict"
   ]
  },
  {
   "cell_type": "code",
   "execution_count": null,
   "metadata": {
    "collapsed": true
   },
   "outputs": [],
   "source": [
    "# Generate Policy from Opt Path\n",
    "\n",
    "dra_policy = {}\n",
    "for i in opt_path:\n",
    "    # blocks in down/left/up/right position\n",
    "    dra_policy[tuple(np.add(list(i), [1,0,0]))] = 0\n",
    "    dra_policy[tuple(np.add(list(i), [0,-1,0]))] = 1\n",
    "    dra_policy[tuple(np.add(list(i), [-1,0,0]))] = 2\n",
    "    dra_policy[tuple(np.add(list(i), [0,1,0]))] = 3\n",
    "    # blocks in down-right/down-left/up-left/up-right position\n",
    "    dra_policy[tuple(np.add(list(i), [1,1,0]))] = 0\n",
    "    dra_policy[tuple(np.add(list(i), [1,-1,0]))] = 1\n",
    "    dra_policy[tuple(np.add(list(i), [-1,-1,0]))] = 2\n",
    "    dra_policy[tuple(np.add(list(i), [-1,1,0]))] = 3"
   ]
  },
  {
   "cell_type": "code",
   "execution_count": null,
   "metadata": {
    "collapsed": true
   },
   "outputs": [],
   "source": [
    "print region_list[0].apr[0]"
   ]
  },
  {
   "cell_type": "code",
   "execution_count": null,
   "metadata": {
    "collapsed": true,
    "scrolled": true
   },
   "outputs": [],
   "source": [
    "dra_policy.keys()"
   ]
  },
  {
   "cell_type": "code",
   "execution_count": null,
   "metadata": {
    "collapsed": true
   },
   "outputs": [],
   "source": [
    "with open(\"current_buchi_dot.txt\", \"r\") as dotfile:\n",
    "    text = dotfile.read()\n",
    "Source(text)"
   ]
  },
  {
   "cell_type": "code",
   "execution_count": null,
   "metadata": {
    "collapsed": true
   },
   "outputs": [],
   "source": [
    "with open(\"my.dot\", \"r\") as dotfile:\n",
    "    text = dotfile.read()\n",
    "Source(text)"
   ]
  },
  {
   "cell_type": "code",
   "execution_count": null,
   "metadata": {
    "collapsed": true
   },
   "outputs": [],
   "source": [
    "import pydot as pd\n",
    "graph = pd.graph_from_dot_file(\"my.dot\")\n",
    "graph = graph.pop()\n",
    "graph.write_pdf(\"mydot.pdf\")"
   ]
  },
  {
   "cell_type": "code",
   "execution_count": null,
   "metadata": {
    "collapsed": true
   },
   "outputs": [],
   "source": [
    "plot_path_for_prod(env, ltl, opt_path)"
   ]
  },
  {
   "cell_type": "code",
   "execution_count": null,
   "metadata": {
    "collapsed": true
   },
   "outputs": [],
   "source": [
    "plt.close(\"all\")"
   ]
  },
  {
   "cell_type": "code",
   "execution_count": null,
   "metadata": {
    "collapsed": true
   },
   "outputs": [],
   "source": [
    "# Example\n",
    "\n",
    "r4 = Region((0,2),['basket'],'r4')\n",
    "r5 = Region((1,2),['rball'],'r5')\n",
    "r6 = Region((2,2),[],'r6')\n",
    "c1 = Region((0,1),[],'c1')\n",
    "c2 = Region((1,1),[],'c2')\n",
    "c3 = Region((2,1),[],'c3')\n",
    "r1 = Region((0,0),[],'r1')\n",
    "r2 = Region((1,0),['basket'],'r2')\n",
    "r3 = Region((2,0),['gball'],'r3')\n",
    "\n",
    "region_list = [r1, r2, r3, r4, r5, r6, c1, c2, c3]\n",
    "\n",
    "wfts = wFTS()\n",
    "\n",
    "for i in region_list:\n",
    "    wfts.add_states(i)\n",
    "    \n",
    "wfts.add_transition(r1,c1,1)\n",
    "wfts.add_transition(c1,c2,1)\n",
    "wfts.add_transition(c1,r4,1)\n",
    "wfts.add_transition(c2,c3,1)\n",
    "wfts.add_transition(c2,r2,1)\n",
    "wfts.add_transition(c2,r5,1)\n",
    "wfts.add_transition(c3,r6,1)\n",
    "wfts.add_transition(c3,r3,1)\n",
    "\n",
    "wfts.add_initial(r1)\n",
    "\n",
    "formula = '<>(rball && <>basket) && <>[]r1'\n",
    "buchi = buchi_from_ltl(formula,None)\n",
    "my_buchi = Buchi_Automaton(buchi)\n",
    "\n",
    "full_prod = FullProd(wfts,my_buchi)\n",
    "full_prod.construct_fullproduct()\n",
    "count = 0\n",
    "for i in full_prod.states:\n",
    "    for j in full_prod.transition[i].keys():\n",
    "        if full_prod.transition[i][j] is not None:\n",
    "            count += 1 \n",
    "\n",
    "opt=search_opt_run(full_prod)\n",
    "print 'Plan synthesized:'+str([opt[0][i][0] for i in range(len(opt[0]))])"
   ]
  },
  {
   "cell_type": "code",
   "execution_count": null,
   "metadata": {
    "collapsed": true
   },
   "outputs": [],
   "source": [
    "#plot buchi\n",
    "my_buchi.plot()\n",
    "\n",
    "#plot full product\n",
    "full_prod_graph = full_prod.return_graph()\n",
    "plot(full_prod_graph,'full_prod')"
   ]
  }
 ],
 "metadata": {
  "kernelspec": {
   "display_name": "Python 2",
   "language": "python",
   "name": "python2"
  },
  "language_info": {
   "codemirror_mode": {
    "name": "ipython",
    "version": 2
   },
   "file_extension": ".py",
   "mimetype": "text/x-python",
   "name": "python",
   "nbconvert_exporter": "python",
   "pygments_lexer": "ipython2",
   "version": "2.7.13"
  }
 },
 "nbformat": 4,
 "nbformat_minor": 2
}
