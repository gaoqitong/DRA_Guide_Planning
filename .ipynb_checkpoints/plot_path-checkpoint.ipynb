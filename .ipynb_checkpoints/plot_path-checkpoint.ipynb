{
 "cells": [
  {
   "cell_type": "code",
   "execution_count": 1,
   "metadata": {
    "collapsed": true
   },
   "outputs": [],
   "source": [
    "%matplotlib osx"
   ]
  },
  {
   "cell_type": "code",
   "execution_count": 2,
   "metadata": {},
   "outputs": [
    {
     "name": "stderr",
     "output_type": "stream",
     "text": [
      "/Users/gaoqitong/anaconda/envs/py27/lib/python2.7/site-packages/h5py/__init__.py:34: FutureWarning: Conversion of the second argument of issubdtype from `float` to `np.floating` is deprecated. In future, it will be treated as `np.float64 == np.dtype(float).type`.\n",
      "  from ._conv import register_converters as _register_converters\n"
     ]
    }
   ],
   "source": [
    "from __future__ import division\n",
    "import numpy as np\n",
    "from graphviz import Source\n",
    "from qnetwork import *\n",
    "from utils import *\n",
    "import matplotlib.pyplot as plt\n",
    "from env_dynamic_ap import *\n",
    "from Plot_Path import *\n",
    "import tensorflow as tf\n",
    "import sys\n",
    "from dra_planning import gen_dra_policy"
   ]
  },
  {
   "cell_type": "code",
   "execution_count": 3,
   "metadata": {},
   "outputs": [
    {
     "name": "stdout",
     "output_type": "stream",
     "text": [
      "0\n",
      "0\n"
     ]
    }
   ],
   "source": [
    "if sys.platform == \"darwin\":\n",
    "    DEVICE = \"/device:CPU:0\"\n",
    "else:\n",
    "    DEVICE = \"/device:GPU:0\"\n",
    "\n",
    "LTL = \"<>(A && <>(B && <>T))\"\n",
    "\n",
    "LEARNING_RATE = 0.0015\n",
    "GAMMA = 0.99\n",
    "# GAMMA = 0.7\n",
    "TAU = 0.001\n",
    "BUFFER_SIZE = 10**6\n",
    "MINIBATCH_SIZE = 64\n",
    "RANDOM_SEED = 210\n",
    "MAX_EPISODES = 30000\n",
    "MAX_EPISODE_LEN = 2000\n",
    "file_appendix = \"GuideLearning_\" + time.ctime()[4:16].replace(\"  \",\"\").replace(\" \",\"_\").replace(\":\",\"-\") + LTL\n",
    "SUMMARY_DIR = './results/' + file_appendix\n",
    "SAVE_DIR = \"./saved_model/\" + file_appendix + \"/guide_learning.ckpt\"\n",
    "EXPLORATION_RATE = 0.7\n",
    "LR_DECAY_TRUNCATION = -200\n",
    "\n",
    "env = CurrentWorld(LTL)\n",
    "\n",
    "config=tf.ConfigProto(log_device_placement=True)\n",
    "config.gpu_options.allow_growth = True"
   ]
  },
  {
   "cell_type": "code",
   "execution_count": 4,
   "metadata": {
    "scrolled": true
   },
   "outputs": [
    {
     "name": "stderr",
     "output_type": "stream",
     "text": [
      "/Users/gaoqitong/anaconda/envs/py27/lib/python2.7/site-packages/tensorflow/python/ops/gradients_impl.py:100: UserWarning: Converting sparse IndexedSlices to a dense Tensor of unknown shape. This may consume a large amount of memory.\n",
      "  \"Converting sparse IndexedSlices to a dense Tensor of unknown shape. \"\n"
     ]
    },
    {
     "name": "stdout",
     "output_type": "stream",
     "text": [
      "INFO:tensorflow:Restoring parameters from ./saved_model/Nov3_17-01/guide_learning.ckpt\n",
      "INFO:tensorflow:Restoring parameters from ./saved_model/Nov3_17-01/guide_learning.ckpt\n",
      "INFO:tensorflow:Restoring parameters from ./saved_model/Nov3_17-01/guide_learning.ckpt\n",
      "INFO:tensorflow:Restoring parameters from ./saved_model/Nov3_17-01/guide_learning.ckpt\n",
      "INFO:tensorflow:Restoring parameters from ./saved_model/Nov3_17-01/guide_learning.ckpt\n",
      "INFO:tensorflow:Restoring parameters from ./saved_model/Nov3_17-01/guide_learning.ckpt\n",
      "INFO:tensorflow:Restoring parameters from ./saved_model/Nov3_17-01/guide_learning.ckpt\n",
      "INFO:tensorflow:Restoring parameters from ./saved_model/Nov3_17-01/guide_learning.ckpt\n",
      "INFO:tensorflow:Restoring parameters from ./saved_model/Nov3_17-01/guide_learning.ckpt\n",
      "INFO:tensorflow:Restoring parameters from ./saved_model/Nov3_17-01/guide_learning.ckpt\n",
      "INFO:tensorflow:Restoring parameters from ./saved_model/Nov3_17-01/guide_learning.ckpt\n",
      "INFO:tensorflow:Restoring parameters from ./saved_model/Nov3_17-01/guide_learning.ckpt\n",
      "INFO:tensorflow:Restoring parameters from ./saved_model/Nov3_17-01/guide_learning.ckpt\n",
      "INFO:tensorflow:Restoring parameters from ./saved_model/Nov3_17-01/guide_learning.ckpt\n",
      "INFO:tensorflow:Restoring parameters from ./saved_model/Nov3_17-01/guide_learning.ckpt\n",
      "INFO:tensorflow:Restoring parameters from ./saved_model/Nov3_17-01/guide_learning.ckpt\n",
      "INFO:tensorflow:Restoring parameters from ./saved_model/Nov3_17-01/guide_learning.ckpt\n",
      "INFO:tensorflow:Restoring parameters from ./saved_model/Nov3_17-01/guide_learning.ckpt\n",
      "INFO:tensorflow:Restoring parameters from ./saved_model/Nov3_17-01/guide_learning.ckpt\n",
      "INFO:tensorflow:Restoring parameters from ./saved_model/Nov3_17-01/guide_learning.ckpt\n",
      "INFO:tensorflow:Restoring parameters from ./saved_model/Nov3_17-01/guide_learning.ckpt\n",
      "INFO:tensorflow:Restoring parameters from ./saved_model/Nov3_17-01/guide_learning.ckpt\n",
      "INFO:tensorflow:Restoring parameters from ./saved_model/Nov3_17-01/guide_learning.ckpt\n",
      "INFO:tensorflow:Restoring parameters from ./saved_model/Nov3_17-01/guide_learning.ckpt\n",
      "INFO:tensorflow:Restoring parameters from ./saved_model/Nov3_17-01/guide_learning.ckpt\n",
      "INFO:tensorflow:Restoring parameters from ./saved_model/Nov3_17-01/guide_learning.ckpt\n",
      "INFO:tensorflow:Restoring parameters from ./saved_model/Nov3_17-01/guide_learning.ckpt\n",
      "INFO:tensorflow:Restoring parameters from ./saved_model/Nov3_17-01/guide_learning.ckpt\n",
      "INFO:tensorflow:Restoring parameters from ./saved_model/Nov3_17-01/guide_learning.ckpt\n",
      "INFO:tensorflow:Restoring parameters from ./saved_model/Nov3_17-01/guide_learning.ckpt\n",
      "INFO:tensorflow:Restoring parameters from ./saved_model/Nov3_17-01/guide_learning.ckpt\n",
      "INFO:tensorflow:Restoring parameters from ./saved_model/Nov3_17-01/guide_learning.ckpt\n",
      "INFO:tensorflow:Restoring parameters from ./saved_model/Nov3_17-01/guide_learning.ckpt\n",
      "INFO:tensorflow:Restoring parameters from ./saved_model/Nov3_17-01/guide_learning.ckpt\n",
      "INFO:tensorflow:Restoring parameters from ./saved_model/Nov3_17-01/guide_learning.ckpt\n",
      "INFO:tensorflow:Restoring parameters from ./saved_model/Nov3_17-01/guide_learning.ckpt\n",
      "INFO:tensorflow:Restoring parameters from ./saved_model/Nov3_17-01/guide_learning.ckpt\n",
      "INFO:tensorflow:Restoring parameters from ./saved_model/Nov3_17-01/guide_learning.ckpt\n",
      "INFO:tensorflow:Restoring parameters from ./saved_model/Nov3_17-01/guide_learning.ckpt\n",
      "INFO:tensorflow:Restoring parameters from ./saved_model/Nov3_17-01/guide_learning.ckpt\n",
      "INFO:tensorflow:Restoring parameters from ./saved_model/Nov3_17-01/guide_learning.ckpt\n",
      "INFO:tensorflow:Restoring parameters from ./saved_model/Nov3_17-01/guide_learning.ckpt\n",
      "INFO:tensorflow:Restoring parameters from ./saved_model/Nov3_17-01/guide_learning.ckpt\n",
      "INFO:tensorflow:Restoring parameters from ./saved_model/Nov3_17-01/guide_learning.ckpt\n",
      "INFO:tensorflow:Restoring parameters from ./saved_model/Nov3_17-01/guide_learning.ckpt\n",
      "INFO:tensorflow:Restoring parameters from ./saved_model/Nov3_17-01/guide_learning.ckpt\n",
      "INFO:tensorflow:Restoring parameters from ./saved_model/Nov3_17-01/guide_learning.ckpt\n",
      "INFO:tensorflow:Restoring parameters from ./saved_model/Nov3_17-01/guide_learning.ckpt\n",
      "INFO:tensorflow:Restoring parameters from ./saved_model/Nov3_17-01/guide_learning.ckpt\n",
      "INFO:tensorflow:Restoring parameters from ./saved_model/Nov3_17-01/guide_learning.ckpt\n",
      "INFO:tensorflow:Restoring parameters from ./saved_model/Nov3_17-01/guide_learning.ckpt\n",
      "INFO:tensorflow:Restoring parameters from ./saved_model/Nov3_17-01/guide_learning.ckpt\n",
      "INFO:tensorflow:Restoring parameters from ./saved_model/Nov3_17-01/guide_learning.ckpt\n",
      "INFO:tensorflow:Restoring parameters from ./saved_model/Nov3_17-01/guide_learning.ckpt\n",
      "INFO:tensorflow:Restoring parameters from ./saved_model/Nov3_17-01/guide_learning.ckpt\n",
      "INFO:tensorflow:Restoring parameters from ./saved_model/Nov3_17-01/guide_learning.ckpt\n",
      "INFO:tensorflow:Restoring parameters from ./saved_model/Nov3_17-01/guide_learning.ckpt\n",
      "INFO:tensorflow:Restoring parameters from ./saved_model/Nov3_17-01/guide_learning.ckpt\n",
      "INFO:tensorflow:Restoring parameters from ./saved_model/Nov3_17-01/guide_learning.ckpt\n",
      "INFO:tensorflow:Restoring parameters from ./saved_model/Nov3_17-01/guide_learning.ckpt\n",
      "INFO:tensorflow:Restoring parameters from ./saved_model/Nov3_17-01/guide_learning.ckpt\n",
      "INFO:tensorflow:Restoring parameters from ./saved_model/Nov3_17-01/guide_learning.ckpt\n",
      "INFO:tensorflow:Restoring parameters from ./saved_model/Nov3_17-01/guide_learning.ckpt\n",
      "INFO:tensorflow:Restoring parameters from ./saved_model/Nov3_17-01/guide_learning.ckpt\n",
      "INFO:tensorflow:Restoring parameters from ./saved_model/Nov3_17-01/guide_learning.ckpt\n",
      "INFO:tensorflow:Restoring parameters from ./saved_model/Nov3_17-01/guide_learning.ckpt\n",
      "INFO:tensorflow:Restoring parameters from ./saved_model/Nov3_17-01/guide_learning.ckpt\n",
      "INFO:tensorflow:Restoring parameters from ./saved_model/Nov3_17-01/guide_learning.ckpt\n",
      "INFO:tensorflow:Restoring parameters from ./saved_model/Nov3_17-01/guide_learning.ckpt\n",
      "INFO:tensorflow:Restoring parameters from ./saved_model/Nov3_17-01/guide_learning.ckpt\n",
      "INFO:tensorflow:Restoring parameters from ./saved_model/Nov3_17-01/guide_learning.ckpt\n",
      "INFO:tensorflow:Restoring parameters from ./saved_model/Nov3_17-01/guide_learning.ckpt\n",
      "INFO:tensorflow:Restoring parameters from ./saved_model/Nov3_17-01/guide_learning.ckpt\n",
      "INFO:tensorflow:Restoring parameters from ./saved_model/Nov3_17-01/guide_learning.ckpt\n",
      "INFO:tensorflow:Restoring parameters from ./saved_model/Nov3_17-01/guide_learning.ckpt\n",
      "INFO:tensorflow:Restoring parameters from ./saved_model/Nov3_17-01/guide_learning.ckpt\n",
      "INFO:tensorflow:Restoring parameters from ./saved_model/Nov3_17-01/guide_learning.ckpt\n",
      "INFO:tensorflow:Restoring parameters from ./saved_model/Nov3_17-01/guide_learning.ckpt\n",
      "INFO:tensorflow:Restoring parameters from ./saved_model/Nov3_17-01/guide_learning.ckpt\n",
      "INFO:tensorflow:Restoring parameters from ./saved_model/Nov3_17-01/guide_learning.ckpt\n",
      "INFO:tensorflow:Restoring parameters from ./saved_model/Nov3_17-01/guide_learning.ckpt\n",
      "INFO:tensorflow:Restoring parameters from ./saved_model/Nov3_17-01/guide_learning.ckpt\n",
      "INFO:tensorflow:Restoring parameters from ./saved_model/Nov3_17-01/guide_learning.ckpt\n",
      "INFO:tensorflow:Restoring parameters from ./saved_model/Nov3_17-01/guide_learning.ckpt\n",
      "INFO:tensorflow:Restoring parameters from ./saved_model/Nov3_17-01/guide_learning.ckpt\n",
      "INFO:tensorflow:Restoring parameters from ./saved_model/Nov3_17-01/guide_learning.ckpt\n",
      "INFO:tensorflow:Restoring parameters from ./saved_model/Nov3_17-01/guide_learning.ckpt\n",
      "INFO:tensorflow:Restoring parameters from ./saved_model/Nov3_17-01/guide_learning.ckpt\n",
      "INFO:tensorflow:Restoring parameters from ./saved_model/Nov3_17-01/guide_learning.ckpt\n",
      "INFO:tensorflow:Restoring parameters from ./saved_model/Nov3_17-01/guide_learning.ckpt\n",
      "INFO:tensorflow:Restoring parameters from ./saved_model/Nov3_17-01/guide_learning.ckpt\n",
      "INFO:tensorflow:Restoring parameters from ./saved_model/Nov3_17-01/guide_learning.ckpt\n",
      "INFO:tensorflow:Restoring parameters from ./saved_model/Nov3_17-01/guide_learning.ckpt\n",
      "INFO:tensorflow:Restoring parameters from ./saved_model/Nov3_17-01/guide_learning.ckpt\n"
     ]
    },
    {
     "ename": "KeyboardInterrupt",
     "evalue": "",
     "output_type": "error",
     "traceback": [
      "\u001b[0;31m---------------------------------------------------------------------------\u001b[0m",
      "\u001b[0;31mKeyboardInterrupt\u001b[0m                         Traceback (most recent call last)",
      "\u001b[0;32m<ipython-input-4-5a950aa1cd98>\u001b[0m in \u001b[0;36m<module>\u001b[0;34m()\u001b[0m\n\u001b[0;32m----> 1\u001b[0;31m \u001b[0mplot_path\u001b[0m\u001b[0;34m(\u001b[0m\u001b[0menv\u001b[0m\u001b[0;34m,\u001b[0m \u001b[0mLTL\u001b[0m\u001b[0;34m,\u001b[0m \u001b[0;34m\"./saved_model/Nov3_17-01/guide_learning.ckpt\"\u001b[0m\u001b[0;34m,\u001b[0m \u001b[0mLEARNING_RATE\u001b[0m\u001b[0;34m,\u001b[0m \u001b[0mTAU\u001b[0m\u001b[0;34m,\u001b[0m \u001b[0mMINIBATCH_SIZE\u001b[0m\u001b[0;34m,\u001b[0m \u001b[0mSAVE_DIR\u001b[0m\u001b[0;34m,\u001b[0m \u001b[0mDEVICE\u001b[0m\u001b[0;34m)\u001b[0m\u001b[0;34m\u001b[0m\u001b[0m\n\u001b[0m",
      "\u001b[0;32m/Users/gaoqitong/Library/Mobile Documents/com~apple~CloudDocs/2018 Visiting Scholar Projects/Guide Learning/DRA_Planning/Plot_Path.pyc\u001b[0m in \u001b[0;36mplot_path\u001b[0;34m(env, LTL, saved_path, learning_rate, tau, minibatch_size, save_dir, device)\u001b[0m\n\u001b[1;32m     27\u001b[0m             \u001b[0maction\u001b[0m \u001b[0;34m=\u001b[0m \u001b[0mQnet\u001b[0m\u001b[0;34m.\u001b[0m\u001b[0mpredict_a_from_save\u001b[0m\u001b[0;34m(\u001b[0m\u001b[0mstate\u001b[0m\u001b[0;34m,\u001b[0m \u001b[0msaved_path\u001b[0m\u001b[0;34m)\u001b[0m\u001b[0;34m\u001b[0m\u001b[0m\n\u001b[1;32m     28\u001b[0m             \u001b[0mnext_state\u001b[0m\u001b[0;34m,\u001b[0m\u001b[0m_\u001b[0m\u001b[0;34m,\u001b[0m\u001b[0mdone\u001b[0m\u001b[0;34m,\u001b[0m\u001b[0m_\u001b[0m \u001b[0;34m=\u001b[0m \u001b[0menv\u001b[0m\u001b[0;34m.\u001b[0m\u001b[0mstep\u001b[0m\u001b[0;34m(\u001b[0m\u001b[0maction\u001b[0m\u001b[0;34m[\u001b[0m\u001b[0;36m0\u001b[0m\u001b[0;34m]\u001b[0m\u001b[0;34m)\u001b[0m\u001b[0;34m\u001b[0m\u001b[0m\n\u001b[0;32m---> 29\u001b[0;31m             \u001b[0mrender\u001b[0m\u001b[0;34m(\u001b[0m\u001b[0menv\u001b[0m\u001b[0;34m,\u001b[0m \u001b[0mstate_for_plot\u001b[0m\u001b[0;34m,\u001b[0m \u001b[0maction\u001b[0m\u001b[0;34m[\u001b[0m\u001b[0;36m0\u001b[0m\u001b[0;34m]\u001b[0m\u001b[0;34m)\u001b[0m\u001b[0;34m\u001b[0m\u001b[0m\n\u001b[0m\u001b[1;32m     30\u001b[0m             \u001b[0mstate\u001b[0m \u001b[0;34m=\u001b[0m \u001b[0mnext_state\u001b[0m\u001b[0;34m\u001b[0m\u001b[0m\n\u001b[1;32m     31\u001b[0m             \u001b[0;32mif\u001b[0m \u001b[0mt\u001b[0m\u001b[0;34m%\u001b[0m\u001b[0;36m20\u001b[0m \u001b[0;34m==\u001b[0m \u001b[0;36m0\u001b[0m\u001b[0;34m:\u001b[0m\u001b[0;34m\u001b[0m\u001b[0m\n",
      "\u001b[0;32m/Users/gaoqitong/Library/Mobile Documents/com~apple~CloudDocs/2018 Visiting Scholar Projects/Guide Learning/DRA_Planning/Plot_Path.pyc\u001b[0m in \u001b[0;36mrender\u001b[0;34m(env, state, action)\u001b[0m\n\u001b[1;32m     50\u001b[0m     \u001b[0max\u001b[0m\u001b[0;34m.\u001b[0m\u001b[0mannotate\u001b[0m\u001b[0;34m(\u001b[0m\u001b[0;34m\"R\"\u001b[0m\u001b[0;34m,\u001b[0m \u001b[0mxy\u001b[0m\u001b[0;34m=\u001b[0m\u001b[0;34m(\u001b[0m\u001b[0mstate\u001b[0m\u001b[0;34m[\u001b[0m\u001b[0;36m1\u001b[0m\u001b[0;34m]\u001b[0m \u001b[0;34m-\u001b[0m \u001b[0;36m0.13\u001b[0m\u001b[0;34m,\u001b[0m \u001b[0mstate\u001b[0m\u001b[0;34m[\u001b[0m\u001b[0;36m0\u001b[0m\u001b[0;34m]\u001b[0m \u001b[0;34m+\u001b[0m \u001b[0;36m0.13\u001b[0m\u001b[0;34m)\u001b[0m\u001b[0;34m,\u001b[0m \u001b[0mfontsize\u001b[0m\u001b[0;34m=\u001b[0m\u001b[0;36m20\u001b[0m\u001b[0;34m,\u001b[0m \u001b[0mcolor\u001b[0m\u001b[0;34m=\u001b[0m\u001b[0;34m(\u001b[0m\u001b[0;36m1\u001b[0m\u001b[0;34m,\u001b[0m\u001b[0;36m0\u001b[0m\u001b[0;34m,\u001b[0m\u001b[0;36m0\u001b[0m\u001b[0;34m)\u001b[0m\u001b[0;34m)\u001b[0m\u001b[0;34m\u001b[0m\u001b[0m\n\u001b[1;32m     51\u001b[0m     \u001b[0mplt\u001b[0m\u001b[0;34m.\u001b[0m\u001b[0mtitle\u001b[0m\u001b[0;34m(\u001b[0m\u001b[0;34m\"ACTION = \"\u001b[0m \u001b[0;34m+\u001b[0m \u001b[0maction_dict\u001b[0m\u001b[0;34m[\u001b[0m\u001b[0maction\u001b[0m\u001b[0;34m]\u001b[0m\u001b[0;34m)\u001b[0m\u001b[0;34m\u001b[0m\u001b[0m\n\u001b[0;32m---> 52\u001b[0;31m     \u001b[0mplt\u001b[0m\u001b[0;34m.\u001b[0m\u001b[0mpause\u001b[0m\u001b[0;34m(\u001b[0m\u001b[0;36m0.0001\u001b[0m\u001b[0;34m)\u001b[0m\u001b[0;34m\u001b[0m\u001b[0m\n\u001b[0m",
      "\u001b[0;32m/Users/gaoqitong/anaconda/envs/py27/lib/python2.7/site-packages/matplotlib/pyplot.pyc\u001b[0m in \u001b[0;36mpause\u001b[0;34m(interval)\u001b[0m\n\u001b[1;32m    298\u001b[0m                 \u001b[0mcanvas\u001b[0m\u001b[0;34m.\u001b[0m\u001b[0mdraw\u001b[0m\u001b[0;34m(\u001b[0m\u001b[0;34m)\u001b[0m\u001b[0;34m\u001b[0m\u001b[0m\n\u001b[1;32m    299\u001b[0m             \u001b[0mshow\u001b[0m\u001b[0;34m(\u001b[0m\u001b[0mblock\u001b[0m\u001b[0;34m=\u001b[0m\u001b[0mFalse\u001b[0m\u001b[0;34m)\u001b[0m\u001b[0;34m\u001b[0m\u001b[0m\n\u001b[0;32m--> 300\u001b[0;31m             \u001b[0mcanvas\u001b[0m\u001b[0;34m.\u001b[0m\u001b[0mstart_event_loop\u001b[0m\u001b[0;34m(\u001b[0m\u001b[0minterval\u001b[0m\u001b[0;34m)\u001b[0m\u001b[0;34m\u001b[0m\u001b[0m\n\u001b[0m\u001b[1;32m    301\u001b[0m             \u001b[0;32mreturn\u001b[0m\u001b[0;34m\u001b[0m\u001b[0m\n\u001b[1;32m    302\u001b[0m \u001b[0;34m\u001b[0m\u001b[0m\n",
      "\u001b[0;31mKeyboardInterrupt\u001b[0m: "
     ]
    }
   ],
   "source": [
    "plot_path(env, LTL, \"./saved_model/Nov3_17-01/guide_learning.ckpt\", LEARNING_RATE, TAU, MINIBATCH_SIZE, SAVE_DIR, DEVICE)"
   ]
  },
  {
   "cell_type": "code",
   "execution_count": 5,
   "metadata": {
    "collapsed": true
   },
   "outputs": [],
   "source": [
    "plt.close(\"all\")"
   ]
  },
  {
   "cell_type": "code",
   "execution_count": null,
   "metadata": {
    "collapsed": true
   },
   "outputs": [],
   "source": [
    "with open(\"my.dot\", \"r\") as dotfile:\n",
    "    text = dotfile.read()\n",
    "Source(text)"
   ]
  }
 ],
 "metadata": {
  "kernelspec": {
   "display_name": "Python 2",
   "language": "python",
   "name": "python2"
  },
  "language_info": {
   "codemirror_mode": {
    "name": "ipython",
    "version": 2
   },
   "file_extension": ".py",
   "mimetype": "text/x-python",
   "name": "python",
   "nbconvert_exporter": "python",
   "pygments_lexer": "ipython2",
   "version": "2.7.13"
  }
 },
 "nbformat": 4,
 "nbformat_minor": 2
}
