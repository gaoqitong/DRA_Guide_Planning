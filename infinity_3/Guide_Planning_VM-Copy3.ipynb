{
 "cells": [
  {
   "cell_type": "code",
   "execution_count": 1,
   "metadata": {},
   "outputs": [],
   "source": [
    "import sys\n",
    "sys.path.append(\"../\")"
   ]
  },
  {
   "cell_type": "code",
   "execution_count": 2,
   "metadata": {},
   "outputs": [
    {
     "name": "stderr",
     "output_type": "stream",
     "text": [
      "/home/ubuntu/anaconda3/envs/tensorflow_p27/lib/python2.7/site-packages/h5py/__init__.py:36: FutureWarning: Conversion of the second argument of issubdtype from `float` to `np.floating` is deprecated. In future, it will be treated as `np.float64 == np.dtype(float).type`.\n",
      "  from ._conv import register_converters as _register_converters\n"
     ]
    }
   ],
   "source": [
    "from __future__ import division\n",
    "from full_prod_DRA import *\n",
    "from buchi import buchi_from_ltl\n",
    "import numpy as np\n",
    "from env_sensing_error import *\n",
    "import scipy\n",
    "# from plot_path_for_prod import *\n",
    "from graphviz import Source\n",
    "from qnetwork import *\n",
    "from utils import *\n",
    "import matplotlib.pyplot as plt\n",
    "# from Plot_Path import *\n",
    "import tensorflow as tf\n",
    "from dra_planning import *\n",
    "import time"
   ]
  },
  {
   "cell_type": "code",
   "execution_count": 3,
   "metadata": {},
   "outputs": [],
   "source": [
    "def train(sess, env, qnet, prod_planner):\n",
    "    \n",
    "    global EXPLORATION_RATE\n",
    "    global GUIDE_RATE\n",
    "  \n",
    "    summary_ops, summary_vars = build_summaries()\n",
    "    if not RESTORE:\n",
    "        sess.run(tf.global_variables_initializer())\n",
    "    writer = tf.summary.FileWriter(SUMMARY_DIR, sess.graph)\n",
    "    \n",
    "    qnet.update_target()\n",
    "    \n",
    "    replay_buffer = ReplayBuffer(BUFFER_SIZE, RANDOM_SEED)\n",
    "    \n",
    "    while len(prod_planner.opt_path) == 0:\n",
    "        env.step(np.random.randint(0,qnet.action_dim))\n",
    "        prod_planner.update_wfts_ap()\n",
    "        env.update_dynamic_rabin()\n",
    "        prod_planner.get_global_opt()\n",
    "    print \"Global Solution Found\"\n",
    "    prod_planner.get_opt_rabin()\n",
    "    \n",
    "    saved_dra_planners = {}\n",
    "    \n",
    "    for num_epi in range(MAX_EPISODES):\n",
    "        \n",
    "#         print \"Epi: \", num_epi\n",
    "\n",
    "        s = env.reset()\n",
    "        s = list(np.unravel_index(s, env.shape))\n",
    "#         prod_planner.replace_region_list()\n",
    "        prod_planner.update_wfts_ap()\n",
    "\n",
    "        ep_reward = 0\n",
    "        ep_ave_max_q = 0\n",
    "        \n",
    "        reward_list = []\n",
    "        \n",
    "        train_time = 0\n",
    "        batch_time = 0\n",
    "        gym_time = 0\n",
    "        guide_time = 0\n",
    "\n",
    "        for j in range(MAX_EPISODE_LEN):\n",
    "            \n",
    "#             print \"Step: \", j\n",
    "            \n",
    "            gym_start = time.time()\n",
    "\n",
    "            rand_num = np.random.rand(1)\n",
    "    \n",
    "            if rand_num <= EXPLORATION_RATE:\n",
    "                a = np.random.randint(0,qnet.action_dim)\n",
    "                s2, r, terminal, info = env.step(a)\n",
    "                \n",
    "            elif rand_num <= GUIDE_RATE+EXPLORATION_RATE and rand_num > EXPLORATION_RATE:\n",
    "#                 print \"GUIDE\"\n",
    "                guide_start = time.time()\n",
    "                \n",
    "                if rand_num > EXPLORATION_RATE + 0.9*GUIDE_RATE:\n",
    "                # Only update global plan with 0.2 prob for efficiency\n",
    "                    env.update_dynamic_rabin()\n",
    "                    prod_planner.get_global_opt()\n",
    "                    prod_planner.get_opt_rabin()\n",
    "                    \n",
    "                if len(prod_planner.opt_path) > 0:\n",
    "#                     print \"S: \", s\n",
    "#                     print \"last a: \", a\n",
    "                    new_ltl = prod_planner.get_next_ltl(s[-1])\n",
    "                    \n",
    "#                     if new_ltl in saved_dra_planners.keys():\n",
    "                    guide_path = prod_planner.get_local_opt(s[:-1], new_ltl)\n",
    "                    if guide_path != None:\n",
    "#                         print \"GUIDE\"\n",
    "                        a = convert_path_to_action(guide_path)\n",
    "                    else:\n",
    "                        a = np.random.randint(0,qnet.action_dim)\n",
    "#                     else:\n",
    "#                         guide_path = prod_planner.get_local_opt(s[:-1], new_ltl)\n",
    "#                         saved_dra_planners[new_ltl] = prod_planner.dra_full_prod\n",
    "#                         if guide_path != None:\n",
    "#                             a = convert_path_to_action(guide_path)\n",
    "#                         else:\n",
    "#                             a = np.random.randint(0,qnet.action_dim)\n",
    "                        \n",
    "                else:\n",
    "                    a = np.random.randint(0,qnet.action_dim)\n",
    "                \n",
    "                s2, r, terminal, info = env.step(a)\n",
    "                \n",
    "                guide_time += time.time() - guide_start\n",
    "                \n",
    "            else:\n",
    "                a = np.argmax(qnet.predict_q(np.reshape(s, (1, qnet.state_dim))))\n",
    "                s2, r, terminal, info = env.step(a)\n",
    "\n",
    "            prod_planner.update_wfts_ap()\n",
    "                \n",
    "            gym_time += time.time() - gym_start\n",
    "            \n",
    "            batch_start = time.time()\n",
    "            \n",
    "            s2 = list(np.unravel_index(s2, env.shape))\n",
    "\n",
    "            replay_buffer.add(np.reshape(s, (qnet.state_dim,)), np.reshape(a, (1,)), r,\n",
    "                              terminal, np.reshape(s2, (qnet.state_dim,)))\n",
    "            batch_time += time.time() - batch_start\n",
    "\n",
    "            # Keep adding experience to the memory until\n",
    "            # there are at least minibatch size samples\n",
    "            if replay_buffer.size() > MINIBATCH_SIZE:\n",
    "                \n",
    "                batch_start = time.time()\n",
    "                s_batch, a_batch, r_batch, t_batch, s2_batch = replay_buffer.sample_batch(MINIBATCH_SIZE)\n",
    "#                 print \"sbatch: \", s_batch\n",
    "                # Calculate targets\n",
    "                target_q = qnet.predect_target(s2_batch)\n",
    "\n",
    "                y_i = []\n",
    "                for k in range(MINIBATCH_SIZE):\n",
    "                    if t_batch[k]:\n",
    "                        y_i.append(r_batch[k])\n",
    "                    else:\n",
    "                        y_i.append(r_batch[k] + GAMMA * np.amax(target_q[k]))\n",
    "                        \n",
    "                batch_time += time.time() - batch_start\n",
    "\n",
    "                # Update the critic given the targets\n",
    "                train_start = time.time()\n",
    "                predicted_q_value, _ = qnet.train(s_batch, a_batch, np.reshape(y_i, (MINIBATCH_SIZE, 1)), num_epi)\n",
    "\n",
    "                ep_ave_max_q += np.amax(predicted_q_value)\n",
    "                \n",
    "                # Update target networks\n",
    "                qnet.update_target()\n",
    "\n",
    "                train_time += time.time() - train_start\n",
    "\n",
    "            s = s2\n",
    "            ep_reward += r\n",
    "\n",
    "            if terminal or j == MAX_EPISODE_LEN-1:\n",
    "                \n",
    "                if EXPLORATION_RATE > 0.1 and terminal:\n",
    "                    EXPLORATION_RATE = EXPLORATION_RATE*0.992\n",
    "                if GUIDE_RATE > 0.1 and terminal:    \n",
    "                    GUIDE_RATE = GUIDE_RATE*0.992\n",
    "                    \n",
    "                reward_list += [ep_reward]\n",
    "                \n",
    "                if np.average(reward_list[-10:]) > LR_DECAY_TRUNCATION:\n",
    "                    qnet.decay_learning_rate(0.992)\n",
    "\n",
    "                print('| Reward: {:d} | Episode: {:d} | Qmax: {:.4f} | Exploration: {:.6f} | Step: {:d} | LR: {:.8f}'.format(int(ep_reward), \\\n",
    "                        num_epi, (ep_ave_max_q / float(j)), EXPLORATION_RATE, j, qnet.get_learning_rate()))\n",
    "                \n",
    "                f = open(\"stats/\" + file_appendix + \"_stats.txt\", \"ab\")\n",
    "                f.write(\"| Reward: \" + str(int(ep_reward)) \n",
    "                        +\" | Episode: \" + str(num_epi) \n",
    "                        + \" | Qmax: \" + str(ep_ave_max_q / float(j)) \n",
    "                        + \" | Exploration: \" + str(EXPLORATION_RATE)\n",
    "                        + \" | Step: \" + str(j)\n",
    "                        + \" | LR:\" + str(qnet.get_learning_rate()) + \"\\n\")\n",
    "                f.close()\n",
    "                \n",
    "                f = open(\"stats/\" + file_appendix + \"_stats_time.txt\", \"ab\")\n",
    "                f.write(\" | Episode: \" + str(num_epi) \n",
    "                        + \" | Train: \" + str(train_time) \n",
    "                        + \" | Gym: \" + str(gym_time)\n",
    "                        + \" | Batch: \" + str(batch_time) \n",
    "                        + \" | Guide: \" + str(guide_time)\n",
    "                        + \"\\n\")\n",
    "                f.close()\n",
    "                \n",
    "                break\n",
    "                "
   ]
  },
  {
   "cell_type": "code",
   "execution_count": 4,
   "metadata": {},
   "outputs": [],
   "source": [
    "# LTL = \"<>(A && <>(B && <> T)) && []<>A && []<>B\"\n",
    "# LTL = \"[] (p1 -> !(X p1) U (p2 || p3) ) && []<>p1\"\n",
    "# LTL = \"T && []<>A && []<>B\"\n",
    "# LTL = \"<>(A && <>(B && <> T)) && []<>A && []<>B && []!C && []!D\"\n",
    "LTL = \"<>(A && <>(B && <> T)) && []<>A && []<>B && []!C\"\n",
    "# LTL = \"<>(A && <>(B && <> T))\"\n",
    "# LTL = \"<>(A && <>B) && <>[]T && []!C\"\n",
    "# LTL = \"<>(A && <>T) && []!C\"\n",
    "# LTL = \"<>(A && <>(B && <>T)) && []<>(A||T) && []<>B && []!C\"\n",
    "# LTL = \"<>(A && <>(B && <>T)) && []!C\"\n",
    "# LTL = \"<>(A && <>D) && <>(B && <>E) && []<>T && []<>(D || E) && []!C\"\n",
    "\n",
    "LEARNING_RATE = 0.0005\n",
    "GAMMA = 0.99\n",
    "# GAMMA = 0.7\n",
    "TAU = 0.001\n",
    "BUFFER_SIZE = 10**6\n",
    "MINIBATCH_SIZE = 64\n",
    "RANDOM_SEED = 358\n",
    "MAX_EPISODES = 50000\n",
    "MAX_EPISODE_LEN = 1000\n",
    "file_appendix = \"Guide_Planning_2_\" + time.ctime()[4:16].replace(\"  \",\"\").replace(\" \",\"_\").replace(\":\",\"-\") + \"_large_\" + LTL\n",
    "# file_appendix = \"Feb8_03-47\"\n",
    "SUMMARY_DIR = './results/tf_ddqn_' + file_appendix\n",
    "SAVE_DIR = \"./saved_model/\" + file_appendix + \"/ddqn.ckpt\"\n",
    "EXPLORATION_RATE = 0.2\n",
    "GUIDE_RATE = 0.3\n",
    "LR_DECAY_TRUNCATION = -800\n",
    "RESTORE = 0\n",
    "if sys.platform == \"darwin\":\n",
    "    DEVICE = \"/device:CPU:0\"\n",
    "else:\n",
    "    DEVICE = \"/device:GPU:0\""
   ]
  },
  {
   "cell_type": "code",
   "execution_count": 5,
   "metadata": {
    "scrolled": false
   },
   "outputs": [],
   "source": [
    "env = CurrentWorld(LTL)\n",
    "prod_planner = Prod_Planning(env, LTL)\n",
    "# with open(\"my.dot\", \"r\") as dotfile:\n",
    "#     text = dotfile.read()\n",
    "# Source(text)"
   ]
  },
  {
   "cell_type": "code",
   "execution_count": null,
   "metadata": {
    "scrolled": false
   },
   "outputs": [
    {
     "name": "stderr",
     "output_type": "stream",
     "text": [
      "/home/ubuntu/anaconda3/envs/tensorflow_p27/lib/python2.7/site-packages/tensorflow/python/ops/gradients_impl.py:112: UserWarning: Converting sparse IndexedSlices to a dense Tensor of unknown shape. This may consume a large amount of memory.\n",
      "  \"Converting sparse IndexedSlices to a dense Tensor of unknown shape. \"\n"
     ]
    },
    {
     "name": "stdout",
     "output_type": "stream",
     "text": [
      "Global Solution Found\n",
      "DDQN Saved\n",
      "| Reward: -13510 | Episode: 0 | Qmax: -0.3637 | Exploration: 0.200000 | Step: 999 | LR: 0.00050000\n",
      "| Reward: -12790 | Episode: 1 | Qmax: -15.6729 | Exploration: 0.200000 | Step: 999 | LR: 0.00050000\n",
      "| Reward: -7885 | Episode: 2 | Qmax: -28.1194 | Exploration: 0.200000 | Step: 999 | LR: 0.00050000\n",
      "| Reward: -12727 | Episode: 3 | Qmax: -33.0771 | Exploration: 0.200000 | Step: 999 | LR: 0.00050000\n",
      "| Reward: -10630 | Episode: 4 | Qmax: -35.5844 | Exploration: 0.200000 | Step: 999 | LR: 0.00050000\n",
      "| Reward: -7759 | Episode: 5 | Qmax: -34.6030 | Exploration: 0.200000 | Step: 999 | LR: 0.00050000\n",
      "| Reward: -5023 | Episode: 6 | Qmax: -32.4879 | Exploration: 0.198400 | Step: 560 | LR: 0.00050000\n",
      "| Reward: -9442 | Episode: 7 | Qmax: -30.2309 | Exploration: 0.198400 | Step: 999 | LR: 0.00050000\n",
      "| Reward: -11917 | Episode: 8 | Qmax: -26.6358 | Exploration: 0.198400 | Step: 999 | LR: 0.00050000\n",
      "| Reward: -11980 | Episode: 9 | Qmax: -23.2607 | Exploration: 0.198400 | Step: 999 | LR: 0.00050000\n",
      "| Reward: -13060 | Episode: 10 | Qmax: -19.8005 | Exploration: 0.198400 | Step: 999 | LR: 0.00050000\n",
      "| Reward: -13510 | Episode: 11 | Qmax: -15.4820 | Exploration: 0.198400 | Step: 999 | LR: 0.00050000\n",
      "| Reward: -12844 | Episode: 12 | Qmax: -12.2199 | Exploration: 0.198400 | Step: 999 | LR: 0.00050000\n",
      "| Reward: -13330 | Episode: 13 | Qmax: -9.3548 | Exploration: 0.198400 | Step: 999 | LR: 0.00050000\n",
      "| Reward: -13420 | Episode: 14 | Qmax: -4.6767 | Exploration: 0.198400 | Step: 999 | LR: 0.00050000\n",
      "| Reward: -12340 | Episode: 15 | Qmax: -1.2280 | Exploration: 0.198400 | Step: 999 | LR: 0.00050000\n",
      "| Reward: -12880 | Episode: 16 | Qmax: 1.6991 | Exploration: 0.198400 | Step: 999 | LR: 0.00050000\n",
      "| Reward: -11179 | Episode: 17 | Qmax: 4.4720 | Exploration: 0.198400 | Step: 999 | LR: 0.00050000\n",
      "| Reward: -10900 | Episode: 18 | Qmax: 10.0740 | Exploration: 0.198400 | Step: 999 | LR: 0.00050000\n",
      "| Reward: -11440 | Episode: 19 | Qmax: 13.7914 | Exploration: 0.198400 | Step: 999 | LR: 0.00050000\n",
      "DDQN Saved\n",
      "| Reward: -12880 | Episode: 20 | Qmax: 16.7154 | Exploration: 0.198400 | Step: 999 | LR: 0.00050000\n",
      "| Reward: -12340 | Episode: 21 | Qmax: 20.0415 | Exploration: 0.198400 | Step: 999 | LR: 0.00050000\n",
      "| Reward: -10450 | Episode: 22 | Qmax: 23.4217 | Exploration: 0.198400 | Step: 999 | LR: 0.00050000\n",
      "| Reward: -11170 | Episode: 23 | Qmax: 24.7894 | Exploration: 0.198400 | Step: 999 | LR: 0.00050000\n",
      "| Reward: -11170 | Episode: 24 | Qmax: 26.2987 | Exploration: 0.198400 | Step: 999 | LR: 0.00050000\n",
      "| Reward: -10720 | Episode: 25 | Qmax: 27.6046 | Exploration: 0.198400 | Step: 999 | LR: 0.00050000\n",
      "| Reward: -10630 | Episode: 26 | Qmax: 29.3747 | Exploration: 0.198400 | Step: 999 | LR: 0.00050000\n",
      "| Reward: -10090 | Episode: 27 | Qmax: 31.0588 | Exploration: 0.198400 | Step: 999 | LR: 0.00050000\n",
      "| Reward: -10540 | Episode: 28 | Qmax: 31.0940 | Exploration: 0.198400 | Step: 999 | LR: 0.00050000\n",
      "| Reward: -10360 | Episode: 29 | Qmax: 31.7283 | Exploration: 0.198400 | Step: 999 | LR: 0.00050000\n",
      "| Reward: -11260 | Episode: 30 | Qmax: 32.3718 | Exploration: 0.198400 | Step: 999 | LR: 0.00050000\n",
      "| Reward: -10090 | Episode: 31 | Qmax: 34.2501 | Exploration: 0.198400 | Step: 999 | LR: 0.00050000\n",
      "| Reward: -10270 | Episode: 32 | Qmax: 35.9659 | Exploration: 0.198400 | Step: 999 | LR: 0.00050000\n",
      "| Reward: -10270 | Episode: 33 | Qmax: 36.5972 | Exploration: 0.198400 | Step: 999 | LR: 0.00050000\n",
      "| Reward: -11170 | Episode: 34 | Qmax: 39.0448 | Exploration: 0.198400 | Step: 999 | LR: 0.00050000\n",
      "| Reward: -11260 | Episode: 35 | Qmax: 40.5473 | Exploration: 0.198400 | Step: 999 | LR: 0.00050000\n",
      "| Reward: -10990 | Episode: 36 | Qmax: 38.9115 | Exploration: 0.198400 | Step: 999 | LR: 0.00050000\n",
      "| Reward: -10522 | Episode: 37 | Qmax: 41.7068 | Exploration: 0.198400 | Step: 999 | LR: 0.00050000\n",
      "| Reward: -11350 | Episode: 38 | Qmax: 43.8150 | Exploration: 0.198400 | Step: 999 | LR: 0.00050000\n",
      "| Reward: -10450 | Episode: 39 | Qmax: 43.0054 | Exploration: 0.198400 | Step: 999 | LR: 0.00050000\n",
      "DDQN Saved\n",
      "| Reward: -10099 | Episode: 40 | Qmax: 45.1286 | Exploration: 0.198400 | Step: 999 | LR: 0.00050000\n",
      "| Reward: -8092 | Episode: 41 | Qmax: 48.5800 | Exploration: 0.198400 | Step: 999 | LR: 0.00050000\n",
      "| Reward: -10810 | Episode: 42 | Qmax: 51.6924 | Exploration: 0.198400 | Step: 999 | LR: 0.00050000\n",
      "| Reward: -12700 | Episode: 43 | Qmax: 51.7021 | Exploration: 0.198400 | Step: 999 | LR: 0.00050000\n",
      "| Reward: -10081 | Episode: 44 | Qmax: 53.0396 | Exploration: 0.198400 | Step: 999 | LR: 0.00050000\n",
      "| Reward: -10072 | Episode: 45 | Qmax: 56.0428 | Exploration: 0.198400 | Step: 999 | LR: 0.00050000\n",
      "| Reward: -11350 | Episode: 46 | Qmax: 55.4892 | Exploration: 0.198400 | Step: 999 | LR: 0.00050000\n",
      "| Reward: -9406 | Episode: 47 | Qmax: 56.9512 | Exploration: 0.198400 | Step: 999 | LR: 0.00050000\n",
      "| Reward: -10918 | Episode: 48 | Qmax: 56.9207 | Exploration: 0.198400 | Step: 999 | LR: 0.00050000\n",
      "| Reward: -10720 | Episode: 49 | Qmax: 58.4499 | Exploration: 0.198400 | Step: 999 | LR: 0.00050000\n",
      "| Reward: -11836 | Episode: 50 | Qmax: 58.3630 | Exploration: 0.198400 | Step: 999 | LR: 0.00050000\n",
      "| Reward: -11710 | Episode: 51 | Qmax: 58.5877 | Exploration: 0.198400 | Step: 999 | LR: 0.00050000\n",
      "| Reward: -8821 | Episode: 52 | Qmax: 58.1220 | Exploration: 0.198400 | Step: 999 | LR: 0.00050000\n",
      "| Reward: -8911 | Episode: 53 | Qmax: 61.3420 | Exploration: 0.198400 | Step: 999 | LR: 0.00050000\n",
      "| Reward: -10360 | Episode: 54 | Qmax: 63.4224 | Exploration: 0.198400 | Step: 999 | LR: 0.00050000\n",
      "| Reward: -10900 | Episode: 55 | Qmax: 64.8108 | Exploration: 0.198400 | Step: 999 | LR: 0.00050000\n",
      "| Reward: -9112 | Episode: 56 | Qmax: 64.6663 | Exploration: 0.196813 | Step: 878 | LR: 0.00050000\n",
      "| Reward: -10432 | Episode: 57 | Qmax: 66.5887 | Exploration: 0.196813 | Step: 999 | LR: 0.00050000\n",
      "| Reward: -9298 | Episode: 58 | Qmax: 66.3798 | Exploration: 0.196813 | Step: 999 | LR: 0.00050000\n",
      "| Reward: -10720 | Episode: 59 | Qmax: 68.8573 | Exploration: 0.196813 | Step: 999 | LR: 0.00050000\n",
      "DDQN Saved\n",
      "| Reward: -6373 | Episode: 60 | Qmax: 70.3638 | Exploration: 0.196813 | Step: 999 | LR: 0.00050000\n",
      "| Reward: -11647 | Episode: 61 | Qmax: 72.3279 | Exploration: 0.196813 | Step: 999 | LR: 0.00050000\n",
      "| Reward: -10648 | Episode: 62 | Qmax: 72.3324 | Exploration: 0.196813 | Step: 999 | LR: 0.00050000\n",
      "| Reward: -10612 | Episode: 63 | Qmax: 73.8351 | Exploration: 0.196813 | Step: 999 | LR: 0.00050000\n",
      "| Reward: -8830 | Episode: 64 | Qmax: 73.9078 | Exploration: 0.196813 | Step: 999 | LR: 0.00050000\n",
      "| Reward: -10540 | Episode: 65 | Qmax: 75.2686 | Exploration: 0.196813 | Step: 999 | LR: 0.00050000\n",
      "| Reward: -8974 | Episode: 66 | Qmax: 76.3743 | Exploration: 0.196813 | Step: 999 | LR: 0.00050000\n",
      "| Reward: -10225 | Episode: 67 | Qmax: 77.7836 | Exploration: 0.196813 | Step: 999 | LR: 0.00050000\n",
      "| Reward: -11620 | Episode: 68 | Qmax: 78.7047 | Exploration: 0.196813 | Step: 999 | LR: 0.00050000\n",
      "| Reward: -11440 | Episode: 69 | Qmax: 79.7765 | Exploration: 0.196813 | Step: 999 | LR: 0.00050000\n",
      "| Reward: -10873 | Episode: 70 | Qmax: 80.1465 | Exploration: 0.196813 | Step: 999 | LR: 0.00050000\n",
      "| Reward: -9622 | Episode: 71 | Qmax: 81.6963 | Exploration: 0.196813 | Step: 999 | LR: 0.00050000\n",
      "| Reward: -10585 | Episode: 72 | Qmax: 82.8918 | Exploration: 0.196813 | Step: 999 | LR: 0.00050000\n",
      "| Reward: -10918 | Episode: 73 | Qmax: 83.3349 | Exploration: 0.196813 | Step: 999 | LR: 0.00050000\n",
      "| Reward: -7948 | Episode: 74 | Qmax: 84.8683 | Exploration: 0.196813 | Step: 999 | LR: 0.00050000\n",
      "| Reward: -9010 | Episode: 75 | Qmax: 86.4328 | Exploration: 0.196813 | Step: 999 | LR: 0.00050000\n",
      "| Reward: -10810 | Episode: 76 | Qmax: 87.6686 | Exploration: 0.196813 | Step: 999 | LR: 0.00050000\n",
      "| Reward: -11710 | Episode: 77 | Qmax: 88.3601 | Exploration: 0.196813 | Step: 999 | LR: 0.00050000\n",
      "| Reward: -10900 | Episode: 78 | Qmax: 88.9385 | Exploration: 0.196813 | Step: 999 | LR: 0.00050000\n",
      "| Reward: -7192 | Episode: 79 | Qmax: 90.9553 | Exploration: 0.196813 | Step: 999 | LR: 0.00050000\n",
      "DDQN Saved\n",
      "| Reward: -6787 | Episode: 80 | Qmax: 91.4458 | Exploration: 0.196813 | Step: 999 | LR: 0.00050000\n",
      "| Reward: -11701 | Episode: 81 | Qmax: 93.0269 | Exploration: 0.196813 | Step: 999 | LR: 0.00050000\n"
     ]
    },
    {
     "name": "stdout",
     "output_type": "stream",
     "text": [
      "| Reward: -10900 | Episode: 82 | Qmax: 93.9790 | Exploration: 0.196813 | Step: 999 | LR: 0.00050000\n",
      "| Reward: -7507 | Episode: 83 | Qmax: 95.0430 | Exploration: 0.196813 | Step: 999 | LR: 0.00050000\n",
      "| Reward: -8452 | Episode: 84 | Qmax: 96.1832 | Exploration: 0.196813 | Step: 999 | LR: 0.00050000\n",
      "| Reward: -11800 | Episode: 85 | Qmax: 96.8667 | Exploration: 0.196813 | Step: 999 | LR: 0.00050000\n",
      "| Reward: -12880 | Episode: 86 | Qmax: 97.8602 | Exploration: 0.196813 | Step: 999 | LR: 0.00050000\n",
      "| Reward: -10621 | Episode: 87 | Qmax: 98.2354 | Exploration: 0.196813 | Step: 999 | LR: 0.00050000\n",
      "| Reward: -11980 | Episode: 88 | Qmax: 99.3208 | Exploration: 0.196813 | Step: 999 | LR: 0.00050000\n",
      "| Reward: -11233 | Episode: 89 | Qmax: 100.3191 | Exploration: 0.196813 | Step: 999 | LR: 0.00050000\n",
      "| Reward: -9793 | Episode: 90 | Qmax: 100.7530 | Exploration: 0.196813 | Step: 999 | LR: 0.00050000\n",
      "| Reward: -10198 | Episode: 91 | Qmax: 102.7743 | Exploration: 0.196813 | Step: 999 | LR: 0.00050000\n",
      "| Reward: -5752 | Episode: 92 | Qmax: 103.4145 | Exploration: 0.196813 | Step: 999 | LR: 0.00050000\n",
      "| Reward: -8668 | Episode: 93 | Qmax: 103.8403 | Exploration: 0.196813 | Step: 999 | LR: 0.00050000\n",
      "| Reward: -3214 | Episode: 94 | Qmax: 105.2585 | Exploration: 0.195238 | Step: 362 | LR: 0.00050000\n",
      "| Reward: -7714 | Episode: 95 | Qmax: 106.0919 | Exploration: 0.195238 | Step: 999 | LR: 0.00050000\n",
      "| Reward: -11953 | Episode: 96 | Qmax: 106.6827 | Exploration: 0.195238 | Step: 999 | LR: 0.00050000\n",
      "| Reward: -11314 | Episode: 97 | Qmax: 107.2104 | Exploration: 0.195238 | Step: 999 | LR: 0.00050000\n",
      "| Reward: -11260 | Episode: 98 | Qmax: 107.7900 | Exploration: 0.195238 | Step: 999 | LR: 0.00050000\n",
      "| Reward: -6787 | Episode: 99 | Qmax: 108.5198 | Exploration: 0.195238 | Step: 999 | LR: 0.00050000\n",
      "DDQN Saved\n",
      "| Reward: -9298 | Episode: 100 | Qmax: 109.0128 | Exploration: 0.195238 | Step: 999 | LR: 0.00050000\n",
      "| Reward: -7966 | Episode: 101 | Qmax: 109.5226 | Exploration: 0.195238 | Step: 999 | LR: 0.00050000\n",
      "| Reward: -11350 | Episode: 102 | Qmax: 109.9015 | Exploration: 0.195238 | Step: 999 | LR: 0.00050000\n",
      "| Reward: -11530 | Episode: 103 | Qmax: 110.1448 | Exploration: 0.195238 | Step: 999 | LR: 0.00050000\n",
      "| Reward: -8347 | Episode: 104 | Qmax: 110.8980 | Exploration: 0.193676 | Step: 878 | LR: 0.00050000\n",
      "| Reward: -5905 | Episode: 105 | Qmax: 111.3870 | Exploration: 0.193676 | Step: 999 | LR: 0.00050000\n",
      "| Reward: -5680 | Episode: 106 | Qmax: 112.0500 | Exploration: 0.193676 | Step: 999 | LR: 0.00050000\n",
      "| Reward: -7264 | Episode: 107 | Qmax: 112.9421 | Exploration: 0.193676 | Step: 999 | LR: 0.00050000\n",
      "| Reward: -11080 | Episode: 108 | Qmax: 113.3352 | Exploration: 0.193676 | Step: 999 | LR: 0.00050000\n",
      "| Reward: -10720 | Episode: 109 | Qmax: 113.7564 | Exploration: 0.193676 | Step: 999 | LR: 0.00050000\n",
      "| Reward: -12718 | Episode: 110 | Qmax: 113.8339 | Exploration: 0.193676 | Step: 999 | LR: 0.00050000\n",
      "| Reward: -10873 | Episode: 111 | Qmax: 114.3853 | Exploration: 0.193676 | Step: 999 | LR: 0.00050000\n",
      "| Reward: -6049 | Episode: 112 | Qmax: 114.1876 | Exploration: 0.193676 | Step: 999 | LR: 0.00050000\n",
      "| Reward: -10990 | Episode: 113 | Qmax: 114.5475 | Exploration: 0.193676 | Step: 999 | LR: 0.00050000\n",
      "| Reward: -10045 | Episode: 114 | Qmax: 115.0055 | Exploration: 0.193676 | Step: 999 | LR: 0.00050000\n",
      "| Reward: -11872 | Episode: 115 | Qmax: 115.7385 | Exploration: 0.193676 | Step: 999 | LR: 0.00050000\n",
      "| Reward: -9784 | Episode: 116 | Qmax: 115.8037 | Exploration: 0.193676 | Step: 999 | LR: 0.00050000\n",
      "| Reward: -7363 | Episode: 117 | Qmax: 116.5822 | Exploration: 0.193676 | Step: 999 | LR: 0.00050000\n",
      "| Reward: -11962 | Episode: 118 | Qmax: 116.7273 | Exploration: 0.193676 | Step: 999 | LR: 0.00050000\n",
      "| Reward: -11422 | Episode: 119 | Qmax: 117.2460 | Exploration: 0.193676 | Step: 999 | LR: 0.00050000\n",
      "DDQN Saved\n",
      "| Reward: -7525 | Episode: 120 | Qmax: 117.2717 | Exploration: 0.193676 | Step: 999 | LR: 0.00050000\n",
      "| Reward: -11044 | Episode: 121 | Qmax: 117.5554 | Exploration: 0.193676 | Step: 999 | LR: 0.00050000\n",
      "| Reward: -8893 | Episode: 122 | Qmax: 118.3408 | Exploration: 0.193676 | Step: 999 | LR: 0.00050000\n",
      "| Reward: -11269 | Episode: 123 | Qmax: 118.6468 | Exploration: 0.193676 | Step: 999 | LR: 0.00050000\n",
      "| Reward: -6886 | Episode: 124 | Qmax: 119.0257 | Exploration: 0.193676 | Step: 999 | LR: 0.00050000\n",
      "| Reward: -10900 | Episode: 125 | Qmax: 119.0539 | Exploration: 0.193676 | Step: 999 | LR: 0.00050000\n",
      "| Reward: -10180 | Episode: 126 | Qmax: 119.2277 | Exploration: 0.193676 | Step: 999 | LR: 0.00050000\n",
      "| Reward: -8920 | Episode: 127 | Qmax: 120.1460 | Exploration: 0.193676 | Step: 999 | LR: 0.00050000\n",
      "| Reward: -11350 | Episode: 128 | Qmax: 119.4801 | Exploration: 0.193676 | Step: 999 | LR: 0.00050000\n",
      "| Reward: -5104 | Episode: 129 | Qmax: 120.3432 | Exploration: 0.193676 | Step: 999 | LR: 0.00050000\n",
      "| Reward: -10999 | Episode: 130 | Qmax: 120.0648 | Exploration: 0.193676 | Step: 999 | LR: 0.00050000\n",
      "| Reward: -11260 | Episode: 131 | Qmax: 120.2885 | Exploration: 0.193676 | Step: 999 | LR: 0.00050000\n",
      "| Reward: -8767 | Episode: 132 | Qmax: 120.2355 | Exploration: 0.193676 | Step: 999 | LR: 0.00050000\n",
      "| Reward: -5500 | Episode: 133 | Qmax: 120.6736 | Exploration: 0.193676 | Step: 999 | LR: 0.00050000\n",
      "| Reward: -12160 | Episode: 134 | Qmax: 120.5424 | Exploration: 0.193676 | Step: 999 | LR: 0.00050000\n",
      "| Reward: -10810 | Episode: 135 | Qmax: 120.7820 | Exploration: 0.193676 | Step: 999 | LR: 0.00050000\n",
      "| Reward: -9460 | Episode: 136 | Qmax: 120.3790 | Exploration: 0.193676 | Step: 999 | LR: 0.00050000\n",
      "| Reward: -9109 | Episode: 137 | Qmax: 120.4490 | Exploration: 0.193676 | Step: 999 | LR: 0.00050000\n",
      "| Reward: -10612 | Episode: 138 | Qmax: 120.1417 | Exploration: 0.193676 | Step: 999 | LR: 0.00050000\n",
      "| Reward: -10810 | Episode: 139 | Qmax: 119.5226 | Exploration: 0.193676 | Step: 999 | LR: 0.00050000\n",
      "DDQN Saved\n",
      "| Reward: -8875 | Episode: 140 | Qmax: 119.6938 | Exploration: 0.193676 | Step: 999 | LR: 0.00050000\n",
      "| Reward: -10900 | Episode: 141 | Qmax: 119.3176 | Exploration: 0.193676 | Step: 999 | LR: 0.00050000\n",
      "| Reward: -13330 | Episode: 142 | Qmax: 118.6423 | Exploration: 0.193676 | Step: 999 | LR: 0.00050000\n",
      "| Reward: -6661 | Episode: 143 | Qmax: 118.8201 | Exploration: 0.193676 | Step: 999 | LR: 0.00050000\n",
      "| Reward: -3926 | Episode: 144 | Qmax: 118.8662 | Exploration: 0.192127 | Step: 426 | LR: 0.00050000\n",
      "| Reward: -11260 | Episode: 145 | Qmax: 118.0815 | Exploration: 0.192127 | Step: 999 | LR: 0.00050000\n",
      "| Reward: -11530 | Episode: 146 | Qmax: 117.6178 | Exploration: 0.192127 | Step: 999 | LR: 0.00050000\n",
      "| Reward: -10270 | Episode: 147 | Qmax: 117.7697 | Exploration: 0.192127 | Step: 999 | LR: 0.00050000\n",
      "| Reward: -11431 | Episode: 148 | Qmax: 117.3892 | Exploration: 0.192127 | Step: 999 | LR: 0.00050000\n",
      "| Reward: -11080 | Episode: 149 | Qmax: 116.9104 | Exploration: 0.192127 | Step: 999 | LR: 0.00050000\n",
      "| Reward: -4914 | Episode: 150 | Qmax: 116.4884 | Exploration: 0.190590 | Step: 730 | LR: 0.00050000\n",
      "| Reward: -9433 | Episode: 151 | Qmax: 116.7831 | Exploration: 0.190590 | Step: 999 | LR: 0.00050000\n",
      "| Reward: -9595 | Episode: 152 | Qmax: 116.5434 | Exploration: 0.190590 | Step: 999 | LR: 0.00050000\n",
      "| Reward: -6976 | Episode: 153 | Qmax: 116.5460 | Exploration: 0.190590 | Step: 999 | LR: 0.00050000\n",
      "| Reward: -10594 | Episode: 154 | Qmax: 116.2207 | Exploration: 0.190590 | Step: 999 | LR: 0.00050000\n",
      "| Reward: -10810 | Episode: 155 | Qmax: 115.9593 | Exploration: 0.190590 | Step: 999 | LR: 0.00050000\n"
     ]
    }
   ],
   "source": [
    "config=tf.ConfigProto(log_device_placement=False)\n",
    "config.gpu_options.allow_growth = True\n",
    "with tf.Session(config=config) as sess:\n",
    "       \n",
    "    state_dim = 3\n",
    "    action_dim = 5\n",
    "    \n",
    "    if RESTORE:\n",
    "        Qnet = QNet(sess, state_dim, action_dim, LEARNING_RATE, TAU, MINIBATCH_SIZE, SAVE_DIR, DEVICE)\n",
    "        Qnet.saver.restore(sess, RESTORE_PATH)\n",
    "        train(sess, env, Qnet, prod_planner)\n",
    "        \n",
    "    else:\n",
    "        np.random.seed(RANDOM_SEED)\n",
    "        tf.set_random_seed(RANDOM_SEED)\n",
    "        env.seed(RANDOM_SEED)\n",
    "    \n",
    "        Qnet = QNet(sess, state_dim, action_dim, LEARNING_RATE, TAU, MINIBATCH_SIZE, SAVE_DIR, DEVICE)\n",
    "\n",
    "        train(sess, env, Qnet, prod_planner)"
   ]
  },
  {
   "cell_type": "code",
   "execution_count": null,
   "metadata": {},
   "outputs": [],
   "source": [
    "env.reset()"
   ]
  },
  {
   "cell_type": "code",
   "execution_count": null,
   "metadata": {},
   "outputs": [],
   "source": [
    "env.s"
   ]
  },
  {
   "cell_type": "code",
   "execution_count": null,
   "metadata": {},
   "outputs": [],
   "source": [
    "np.where(np.array(prod_planner.opt_rabin) == 1)[0][0]"
   ]
  },
  {
   "cell_type": "code",
   "execution_count": null,
   "metadata": {},
   "outputs": [],
   "source": [
    "np.unravel_index(env.s,(10,10,5))"
   ]
  },
  {
   "cell_type": "code",
   "execution_count": null,
   "metadata": {},
   "outputs": [],
   "source": [
    "np.unravel_index(env.s,(10,10,5))"
   ]
  },
  {
   "cell_type": "code",
   "execution_count": null,
   "metadata": {},
   "outputs": [],
   "source": [
    "ns,r,_,_ = env.step(1)\n",
    "print np.unravel_index(ns,(10,10,5)),r"
   ]
  },
  {
   "cell_type": "code",
   "execution_count": null,
   "metadata": {},
   "outputs": [],
   "source": [
    "prod_planner.get_global_opt()"
   ]
  },
  {
   "cell_type": "code",
   "execution_count": null,
   "metadata": {
    "scrolled": true
   },
   "outputs": [],
   "source": [
    "env.ap_dict"
   ]
  },
  {
   "cell_type": "code",
   "execution_count": null,
   "metadata": {
    "scrolled": true
   },
   "outputs": [],
   "source": [
    "env.last_ap_dict"
   ]
  },
  {
   "cell_type": "code",
   "execution_count": null,
   "metadata": {},
   "outputs": [],
   "source": [
    "env.last_dynamic_coord_dict[(2,2)]"
   ]
  },
  {
   "cell_type": "code",
   "execution_count": null,
   "metadata": {},
   "outputs": [],
   "source": [
    "env.rabin.coord_dict[(2,2)]"
   ]
  },
  {
   "cell_type": "code",
   "execution_count": null,
   "metadata": {},
   "outputs": [],
   "source": [
    "env.dynamic_coord_dict[(2,2)]"
   ]
  },
  {
   "cell_type": "code",
   "execution_count": null,
   "metadata": {},
   "outputs": [],
   "source": [
    "env.rabin.possible_states(1)"
   ]
  },
  {
   "cell_type": "code",
   "execution_count": null,
   "metadata": {},
   "outputs": [],
   "source": [
    "[env.rabin.graph[str(1)][str(0)][k][\"label\"] for k in range(len(env.rabin.graph[str(1)][str(0)]))]"
   ]
  },
  {
   "cell_type": "code",
   "execution_count": null,
   "metadata": {},
   "outputs": [],
   "source": [
    "env.rabin.check_ap(\"C\", u' !A&!T&C')"
   ]
  },
  {
   "cell_type": "code",
   "execution_count": null,
   "metadata": {},
   "outputs": [],
   "source": [
    "env.rabin.graph[\"0\"][\"0\"]"
   ]
  },
  {
   "cell_type": "code",
   "execution_count": null,
   "metadata": {},
   "outputs": [],
   "source": [
    "env._calculate_transition_prob((4, 3, 1), [0,1])"
   ]
  },
  {
   "cell_type": "code",
   "execution_count": null,
   "metadata": {},
   "outputs": [],
   "source": [
    "np.unravel_index(221,(10,10,5))"
   ]
  },
  {
   "cell_type": "code",
   "execution_count": null,
   "metadata": {},
   "outputs": [],
   "source": [
    "env.shape"
   ]
  },
  {
   "cell_type": "code",
   "execution_count": null,
   "metadata": {},
   "outputs": [],
   "source": [
    "current = (4,3,1)\n",
    "delta=[0,1]\n",
    "delta_list = [[-1, 0], [1, 0], [0, -1], [0, 1], [0, 0]]"
   ]
  },
  {
   "cell_type": "code",
   "execution_count": null,
   "metadata": {},
   "outputs": [],
   "source": [
    "new_position_candidates = [np.array(current[:2]) + np.array(delta)]\n",
    "new_position_candidates += [np.array(current[:2]) + np.array(i) for i in delta_list if i != delta]"
   ]
  },
  {
   "cell_type": "code",
   "execution_count": null,
   "metadata": {},
   "outputs": [],
   "source": [
    "print new_positions"
   ]
  },
  {
   "cell_type": "code",
   "execution_count": null,
   "metadata": {},
   "outputs": [],
   "source": [
    "new_positions = [env._limit_coordinates(i).astype(int) for i in new_position_candidates]"
   ]
  },
  {
   "cell_type": "code",
   "execution_count": null,
   "metadata": {},
   "outputs": [],
   "source": [
    "next_rabin_state = [env.rabin.next_state(current, tuple(i)) for i in new_positions]"
   ]
  },
  {
   "cell_type": "code",
   "execution_count": null,
   "metadata": {},
   "outputs": [],
   "source": [
    "env.rabin.next_state((4,3,1),(4,4))"
   ]
  },
  {
   "cell_type": "code",
   "execution_count": null,
   "metadata": {},
   "outputs": [],
   "source": [
    "env.rabin.coord_dict[(2,7)]"
   ]
  },
  {
   "cell_type": "code",
   "execution_count": null,
   "metadata": {},
   "outputs": [],
   "source": [
    "env.rabin.next_state((4,3,1),[0,1])"
   ]
  },
  {
   "cell_type": "code",
   "execution_count": null,
   "metadata": {},
   "outputs": [],
   "source": [
    "env.rabin.deadlock"
   ]
  },
  {
   "cell_type": "code",
   "execution_count": null,
   "metadata": {},
   "outputs": [],
   "source": [
    "np.where(np.array(prod_planner.opt_rabin) == 8)[0]"
   ]
  },
  {
   "cell_type": "code",
   "execution_count": null,
   "metadata": {},
   "outputs": [],
   "source": [
    "env = CurrentWorld(LTL.lower())"
   ]
  },
  {
   "cell_type": "code",
   "execution_count": null,
   "metadata": {},
   "outputs": [],
   "source": [
    "prod_planner = Prod_Planning(env, LTL.lower())"
   ]
  },
  {
   "cell_type": "code",
   "execution_count": null,
   "metadata": {},
   "outputs": [],
   "source": [
    "prod_planner.update_wfts_ap()"
   ]
  },
  {
   "cell_type": "code",
   "execution_count": null,
   "metadata": {},
   "outputs": [],
   "source": [
    "env.dynamic_coord_dict[(5,5)]"
   ]
  },
  {
   "cell_type": "code",
   "execution_count": null,
   "metadata": {},
   "outputs": [],
   "source": [
    "env.last_dynamic_coord_dict[(5,5)]"
   ]
  },
  {
   "cell_type": "code",
   "execution_count": null,
   "metadata": {},
   "outputs": [],
   "source": [
    "prod_planner.region_list[np.ravel_multi_index((5,5),(10,10))].ap"
   ]
  },
  {
   "cell_type": "code",
   "execution_count": null,
   "metadata": {},
   "outputs": [],
   "source": [
    "env.ap_dict"
   ]
  },
  {
   "cell_type": "code",
   "execution_count": null,
   "metadata": {},
   "outputs": [],
   "source": [
    "env.last_ap_dict"
   ]
  },
  {
   "cell_type": "code",
   "execution_count": null,
   "metadata": {},
   "outputs": [],
   "source": [
    "env.step(1)"
   ]
  }
 ],
 "metadata": {
  "kernelspec": {
   "display_name": "Environment (conda_tensorflow_p27)",
   "language": "python",
   "name": "conda_tensorflow_p27"
  },
  "language_info": {
   "codemirror_mode": {
    "name": "ipython",
    "version": 2
   },
   "file_extension": ".py",
   "mimetype": "text/x-python",
   "name": "python",
   "nbconvert_exporter": "python",
   "pygments_lexer": "ipython2",
   "version": "2.7.15"
  }
 },
 "nbformat": 4,
 "nbformat_minor": 2
}
