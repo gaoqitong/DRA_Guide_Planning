{
 "cells": [
  {
   "cell_type": "code",
   "execution_count": 1,
   "metadata": {},
   "outputs": [
    {
     "name": "stderr",
     "output_type": "stream",
     "text": [
      "/Users/gaoqitong/anaconda/envs/py27/lib/python2.7/site-packages/h5py/__init__.py:34: FutureWarning: Conversion of the second argument of issubdtype from `float` to `np.floating` is deprecated. In future, it will be treated as `np.float64 == np.dtype(float).type`.\n",
      "  from ._conv import register_converters as _register_converters\n"
     ]
    }
   ],
   "source": [
    "from __future__ import division\n",
    "from full_prod_DRA import *\n",
    "from buchi import buchi_from_ltl\n",
    "import numpy as np\n",
    "from env_sensing_error import *\n",
    "import scipy\n",
    "# from plot_path_for_prod import *\n",
    "from graphviz import Source\n",
    "from qnetwork import *\n",
    "from utils import *\n",
    "import matplotlib.pyplot as plt\n",
    "# from Plot_Path import *\n",
    "import tensorflow as tf\n",
    "import sys\n",
    "from dra_planning import *\n",
    "import time"
   ]
  },
  {
   "cell_type": "code",
   "execution_count": null,
   "metadata": {
    "collapsed": true
   },
   "outputs": [],
   "source": [
    "def train(sess, env, qnet, prod_planner):\n",
    "    \n",
    "    global EXPLORATION_RATE\n",
    "    global GUIDE_RATE\n",
    "  \n",
    "    summary_ops, summary_vars = build_summaries()\n",
    "    if not RESTORE:\n",
    "        sess.run(tf.global_variables_initializer())\n",
    "    writer = tf.summary.FileWriter(SUMMARY_DIR, sess.graph)\n",
    "    \n",
    "    qnet.update_target()\n",
    "    \n",
    "    replay_buffer = ReplayBuffer(BUFFER_SIZE, RANDOM_SEED)\n",
    "    \n",
    "    while len(prod_planner.opt_path) == 0:\n",
    "        env.step(np.random.randint(0,qnet.action_dim))\n",
    "        prod_planner.update_wfts_ap()\n",
    "        prod_planner.get_global_opt()\n",
    "    print \"Global Solution Found\"\n",
    "    prod_planner.get_opt_rabin()\n",
    "    \n",
    "    saved_dra_planners = {}\n",
    "    \n",
    "    for num_epi in range(MAX_EPISODES):\n",
    "        \n",
    "#         print \"Epi: \", num_epi\n",
    "\n",
    "        s = env.reset()\n",
    "        s = [list(np.unravel_index(s, env.shape))]\n",
    "        prod_planner.replace_region_list()\n",
    "\n",
    "        ep_reward = 0\n",
    "        ep_ave_max_q = 0\n",
    "        \n",
    "        reward_list = []\n",
    "        \n",
    "        train_time = 0\n",
    "        batch_time = 0\n",
    "        gym_time = 0\n",
    "        guide_time = 0\n",
    "\n",
    "        for j in range(MAX_EPISODE_LEN):\n",
    "            \n",
    "#             print \"Step: \", j\n",
    "            \n",
    "            gym_start = time.time()\n",
    "\n",
    "            rand_num = np.random.rand(1)\n",
    "    \n",
    "            if rand_num <= EXPLORATION_RATE:\n",
    "                a = np.random.randint(0,qnet.action_dim)\n",
    "                s2, r, terminal, info = env.step(a)\n",
    "            elif EXPLORATION_RATE < rand_num <= GUIDE_RATE+EXPLORATION_RATE:\n",
    "#                 print \"GUIDE\"\n",
    "                guide_start = time.time()\n",
    "                \n",
    "                if rand_num > EXPLORATION_RATE + 0.9*GUIDE_RATE:\n",
    "                # Only update global plan with 0.2 prob for efficiency\n",
    "                    prod_planner.get_global_opt()\n",
    "                    prod_planner.get_opt_rabin()\n",
    "                    \n",
    "                if len(prod_planner.opt_path) > 0:\n",
    "                    new_ltl = prod_planner.get_next_ltl(s[-1])\n",
    "                    \n",
    "#                     if new_ltl in saved_dra_planners.keys():\n",
    "                    guide_path = prod_planner.get_local_opt(s[:-1], new_ltl)\n",
    "                    if guide_path != None:\n",
    "                        print \"GUIDE\"\n",
    "                        a = convert_path_to_action(guide_path)\n",
    "                    else:\n",
    "                        a = np.random.randint(0,qnet.action_dim)\n",
    "#                     else:\n",
    "#                         guide_path = prod_planner.get_local_opt(s[:-1], new_ltl)\n",
    "#                         saved_dra_planners[new_ltl] = prod_planner.dra_full_prod\n",
    "#                         if guide_path != None:\n",
    "#                             a = convert_path_to_action(guide_path)\n",
    "#                         else:\n",
    "#                             a = np.random.randint(0,qnet.action_dim)\n",
    "                        \n",
    "                else:\n",
    "                    a = np.random.randint(0,qnet.action_dim)\n",
    "                s2, r, terminal, info = env.step(a)\n",
    "                \n",
    "                guide_time += time.time() - guide_start\n",
    "                \n",
    "            else:\n",
    "                a = np.argmax(qnet.predict_q(np.reshape(s, (1, qnet.state_dim))))\n",
    "                s2, r, terminal, info = env.step(a)\n",
    "\n",
    "            prod_planner.update_wfts_ap()\n",
    "                \n",
    "            gym_time += time.time() - gym_start\n",
    "            \n",
    "            batch_start = time.time()\n",
    "            \n",
    "            s2 = list(np.unravel_index(s2, env.shape))\n",
    "\n",
    "            replay_buffer.add(np.reshape(s, (qnet.state_dim,)), np.reshape(a, (1,)), r,\n",
    "                              terminal, np.reshape(s2, (qnet.state_dim,)))\n",
    "            batch_time += time.time() - batch_start\n",
    "\n",
    "            # Keep adding experience to the memory until\n",
    "            # there are at least minibatch size samples\n",
    "            if replay_buffer.size() > MINIBATCH_SIZE:\n",
    "                \n",
    "                batch_start = time.time()\n",
    "                s_batch, a_batch, r_batch, t_batch, s2_batch = replay_buffer.sample_batch(MINIBATCH_SIZE)\n",
    "\n",
    "                # Calculate targets\n",
    "                target_q = qnet.predect_target(s2_batch)\n",
    "\n",
    "                y_i = []\n",
    "                for k in range(MINIBATCH_SIZE):\n",
    "                    if t_batch[k]:\n",
    "                        y_i.append(r_batch[k])\n",
    "                    else:\n",
    "                        y_i.append(r_batch[k] + GAMMA * np.amax(target_q[k]))\n",
    "                        \n",
    "                batch_time += time.time() - batch_start\n",
    "\n",
    "                # Update the critic given the targets\n",
    "                train_start = time.time()\n",
    "                predicted_q_value, _ = qnet.train(s_batch, a_batch, np.reshape(y_i, (MINIBATCH_SIZE, 1)), num_epi)\n",
    "\n",
    "                ep_ave_max_q += np.amax(predicted_q_value)\n",
    "                \n",
    "                # Update target networks\n",
    "                qnet.update_target()\n",
    "\n",
    "                train_time += time.time() - train_start\n",
    "\n",
    "            s = s2\n",
    "            ep_reward += r\n",
    "\n",
    "            if terminal or j == MAX_EPISODE_LEN-1:\n",
    "                \n",
    "                if EXPLORATION_RATE > 0.02 and terminal:\n",
    "                    EXPLORATION_RATE = EXPLORATION_RATE*0.98\n",
    "                    GUIDE_RATE = GUIDE_RATE*0.98\n",
    "                    \n",
    "                reward_list += [ep_reward]\n",
    "                \n",
    "                if np.average(reward_list[-10:]) > LR_DECAY_TRUNCATION:\n",
    "                    qnet.decay_learning_rate(0.98)\n",
    "\n",
    "                print('| Reward: {:d} | Episode: {:d} | Qmax: {:.4f} | Exploration: {:.6f} | Step: {:d} | LR: {:.8f}'.format(int(ep_reward), \\\n",
    "                        num_epi, (ep_ave_max_q / float(j)), EXPLORATION_RATE, j, qnet.get_learning_rate()))\n",
    "                \n",
    "                f = open(\"stats/\" + file_appendix + \"_stats.txt\", \"ab\")\n",
    "                f.write(\"| Reward: \" + str(int(ep_reward)) \n",
    "                        +\" | Episode: \" + str(num_epi) \n",
    "                        + \" | Qmax: \" + str(ep_ave_max_q / float(j)) \n",
    "                        + \" | Exploration: \" + str(EXPLORATION_RATE)\n",
    "                        + \" | Step: \" + str(j)\n",
    "                        + \" | LR:\" + str(qnet.get_learning_rate()) + \"\\n\")\n",
    "                f.close()\n",
    "                \n",
    "                f = open(\"stats/\" + file_appendix + \"_stats_time.txt\", \"ab\")\n",
    "                f.write(\" | Episode: \" + str(num_epi) \n",
    "                        + \" | Train: \" + str(train_time) \n",
    "                        + \" | Gym: \" + str(gym_time)\n",
    "                        + \" | Batch: \" + str(batch_time) \n",
    "                        + \" | Guide: \" + str(guide_time)\n",
    "                        + \"\\n\")\n",
    "                f.close()\n",
    "                \n",
    "                break\n",
    "                "
   ]
  },
  {
   "cell_type": "code",
   "execution_count": 2,
   "metadata": {
    "collapsed": true
   },
   "outputs": [],
   "source": [
    "# LTL = \"<>(A && <>(B && <> T)) && []<>A && []<>B\"\n",
    "# LTL = \"[] (p1 -> !(X p1) U (p2 || p3) ) && []<>p1\"\n",
    "# LTL = \"T && []<>A && []<>B\"\n",
    "# LTL = \"<>(A && <>(B && <> T)) && []<>A && []<>B && []!C && []!D\"\n",
    "# LTL = \"<>(A && <>(B && <> T)) && []<>A && []<>B && []!C\"\n",
    "# LTL = \"<>(A && <>(B && <> T))\"\n",
    "# LTL = \"<>(A && <>B) && <>[]T && []!C\"\n",
    "LTL = \"<>(A && <>T) && []!C\"\n",
    "# LTL = \"<>(A && <>(B && <>T)) && []<>(A||T) && []<>B && []!C\"\n",
    "# LTL = \"<>(A && <>(B && <>T)) && []!C\"\n",
    "# LTL = \"<>(A && <>D) && <>(B && <>E) && []<>T && []<>(D || E) && []!C\"\n",
    "\n",
    "LEARNING_RATE = 0.0015\n",
    "GAMMA = 0.99\n",
    "# GAMMA = 0.7\n",
    "TAU = 0.001\n",
    "BUFFER_SIZE = 10**6\n",
    "MINIBATCH_SIZE = 64\n",
    "RANDOM_SEED = 210\n",
    "MAX_EPISODES = 50000\n",
    "MAX_EPISODE_LEN = 500\n",
    "file_appendix = \"Guide_Planning_\" + time.ctime()[4:16].replace(\"  \",\"\").replace(\" \",\"_\").replace(\":\",\"-\") + \"_large_\" + LTL\n",
    "# file_appendix = \"Feb8_03-47\"\n",
    "SUMMARY_DIR = './results/tf_ddqn_' + file_appendix\n",
    "SAVE_DIR = \"./saved_model/\" + file_appendix + \"/ddqn.ckpt\"\n",
    "EXPLORATION_RATE = 0.2\n",
    "GUIDE_RATE = 0.6\n",
    "LR_DECAY_TRUNCATION = -200\n",
    "RESTORE = 0\n",
    "if sys.platform == \"darwin\":\n",
    "    DEVICE = \"/device:CPU:0\"\n",
    "else:\n",
    "    DEVICE = \"/device:GPU:0\""
   ]
  },
  {
   "cell_type": "code",
   "execution_count": 21,
   "metadata": {
    "collapsed": true,
    "scrolled": false
   },
   "outputs": [],
   "source": [
    "env = CurrentWorld(LTL)\n",
    "prod_planner = Prod_Planning(env, LTL)\n",
    "# with open(\"my.dot\", \"r\") as dotfile:\n",
    "#     text = dotfile.read()\n",
    "# Source(text)"
   ]
  },
  {
   "cell_type": "code",
   "execution_count": null,
   "metadata": {
    "scrolled": true
   },
   "outputs": [],
   "source": [
    "config=tf.ConfigProto(log_device_placement=False)\n",
    "config.gpu_options.allow_growth = True\n",
    "with tf.Session(config=config) as sess:\n",
    "       \n",
    "    state_dim = 3\n",
    "    action_dim = 5\n",
    "    \n",
    "    if RESTORE:\n",
    "        Qnet = QNet(sess, state_dim, action_dim, LEARNING_RATE, TAU, MINIBATCH_SIZE, SAVE_DIR, DEVICE)\n",
    "        Qnet.saver.restore(sess, RESTORE_PATH)\n",
    "        train(sess, env, Qnet, prod_planner)\n",
    "        \n",
    "    else:\n",
    "        np.random.seed(RANDOM_SEED)\n",
    "        tf.set_random_seed(RANDOM_SEED)\n",
    "        env.seed(RANDOM_SEED)\n",
    "    \n",
    "        Qnet = QNet(sess, state_dim, action_dim, LEARNING_RATE, TAU, MINIBATCH_SIZE, SAVE_DIR, DEVICE)\n",
    "\n",
    "        train(sess, env, Qnet, prod_planner)"
   ]
  },
  {
   "cell_type": "code",
   "execution_count": 22,
   "metadata": {},
   "outputs": [],
   "source": [
    "env.reset()\n",
    "prod_planner.update_wfts_ap()"
   ]
  },
  {
   "cell_type": "code",
   "execution_count": 25,
   "metadata": {},
   "outputs": [
    {
     "name": "stdout",
     "output_type": "stream",
     "text": [
      "(4, 4, 1) -100 False\n",
      "{'A': [], 'C': [(2, 2), (3, 3), (4, 4), (5, 5), (6, 6)], 'B': [(5, 2), (2, 7)], 'T': [(8, 8)]}\n"
     ]
    }
   ],
   "source": [
    "ns,r,d,info = env.step(1)\n",
    "prod_planner.update_wfts_ap()\n",
    "print np.unravel_index(ns,(10,10,5)),r,d\n",
    "print env.ap_dict"
   ]
  },
  {
   "cell_type": "code",
   "execution_count": 26,
   "metadata": {},
   "outputs": [
    {
     "data": {
      "text/plain": [
       "['A']"
      ]
     },
     "execution_count": 26,
     "metadata": {},
     "output_type": "execute_result"
    }
   ],
   "source": [
    "env.dynamic_rabin.coord_dict[(2,7)]"
   ]
  },
  {
   "cell_type": "code",
   "execution_count": 28,
   "metadata": {},
   "outputs": [],
   "source": [
    "env.update_rabin(\"a\")"
   ]
  },
  {
   "cell_type": "code",
   "execution_count": 15,
   "metadata": {},
   "outputs": [
    {
     "data": {
      "text/plain": [
       "1"
      ]
     },
     "execution_count": 15,
     "metadata": {},
     "output_type": "execute_result"
    }
   ],
   "source": [
    "env.rabin.next_state((4,3,1),(4,4))"
   ]
  },
  {
   "cell_type": "code",
   "execution_count": 17,
   "metadata": {},
   "outputs": [
    {
     "data": {
      "text/plain": [
       "[1, 0, 3, 2]"
      ]
     },
     "execution_count": 17,
     "metadata": {},
     "output_type": "execute_result"
    }
   ],
   "source": [
    "env.rabin.possible_states(1)"
   ]
  },
  {
   "cell_type": "code",
   "execution_count": 20,
   "metadata": {},
   "outputs": [
    {
     "data": {
      "text/plain": [
       "[u' !a&!t&!c', u' !a&t&!c']"
      ]
     },
     "execution_count": 20,
     "metadata": {},
     "output_type": "execute_result"
    }
   ],
   "source": [
    "[env.rabin.graph[str(1)][str(1)][k][\"label\"] for k in range(len(env.rabin.graph[str(1)][str(1)]))]"
   ]
  },
  {
   "cell_type": "code",
   "execution_count": null,
   "metadata": {},
   "outputs": [],
   "source": [
    "env.rabin.coord_dict[(8,8)]"
   ]
  },
  {
   "cell_type": "code",
   "execution_count": null,
   "metadata": {},
   "outputs": [],
   "source": [
    "env.ap_dict"
   ]
  },
  {
   "cell_type": "code",
   "execution_count": null,
   "metadata": {},
   "outputs": [],
   "source": [
    "prod_planner.wfts.L(prod_planner.region_list[np.ravel_multi_index((5,5),(10,10))])"
   ]
  },
  {
   "cell_type": "code",
   "execution_count": null,
   "metadata": {
    "collapsed": true
   },
   "outputs": [],
   "source": [
    "old_planner = deepcopy(prod_planner)"
   ]
  },
  {
   "cell_type": "code",
   "execution_count": null,
   "metadata": {},
   "outputs": [],
   "source": [
    "env.ap_dict"
   ]
  },
  {
   "cell_type": "code",
   "execution_count": null,
   "metadata": {},
   "outputs": [],
   "source": [
    "env.last_ap_dict"
   ]
  },
  {
   "cell_type": "code",
   "execution_count": null,
   "metadata": {},
   "outputs": [],
   "source": [
    "env.last_dynamic_coord_dict[(2,7)]"
   ]
  },
  {
   "cell_type": "code",
   "execution_count": null,
   "metadata": {},
   "outputs": [],
   "source": [
    "env.dynamic_coord_dict[(2,7)]"
   ]
  },
  {
   "cell_type": "code",
   "execution_count": null,
   "metadata": {},
   "outputs": [],
   "source": [
    "env.step(0)\n",
    "prod_planner.update_wfts_ap()"
   ]
  },
  {
   "cell_type": "code",
   "execution_count": null,
   "metadata": {
    "collapsed": true
   },
   "outputs": [],
   "source": [
    "prod_planner.get_global_opt()"
   ]
  },
  {
   "cell_type": "code",
   "execution_count": null,
   "metadata": {},
   "outputs": [],
   "source": [
    "prod_planner.full_prod.wFTS.states[27].ap"
   ]
  },
  {
   "cell_type": "code",
   "execution_count": null,
   "metadata": {},
   "outputs": [],
   "source": [
    "prod_planner.region_list[27].ap"
   ]
  },
  {
   "cell_type": "code",
   "execution_count": null,
   "metadata": {
    "collapsed": true
   },
   "outputs": [],
   "source": [
    "class region0(object):\n",
    "    def __init__(self):\n",
    "        self.ap = 1"
   ]
  },
  {
   "cell_type": "code",
   "execution_count": null,
   "metadata": {
    "collapsed": true
   },
   "outputs": [],
   "source": [
    "class wfts0(object):\n",
    "    def __init__(self, r_l):\n",
    "        self.r_l = r_l\n",
    "        self.transition = {}\n",
    "        for i in r_l:\n",
    "            if i not in self.transition.keys():\n",
    "                self.transition[i] = {}\n",
    "            self.transition[i][i] = 1\n",
    "    def add_s(self, new):\n",
    "        self.r_l += [new]"
   ]
  },
  {
   "cell_type": "code",
   "execution_count": null,
   "metadata": {
    "collapsed": true
   },
   "outputs": [],
   "source": [
    "class Test0(object):\n",
    "    def __init__(self):\n",
    "        region_list = [region0() for i in range(10)]\n",
    "        self.wfts = wfts0(region_list)\n",
    "        self.region_list = region_list"
   ]
  },
  {
   "cell_type": "code",
   "execution_count": null,
   "metadata": {},
   "outputs": [],
   "source": [
    "a = Test0()"
   ]
  },
  {
   "cell_type": "code",
   "execution_count": null,
   "metadata": {},
   "outputs": [],
   "source": [
    "a.wfts.transition[a.region_list[0]]"
   ]
  },
  {
   "cell_type": "code",
   "execution_count": null,
   "metadata": {
    "collapsed": true
   },
   "outputs": [],
   "source": [
    "a = [[1,2,3]]"
   ]
  },
  {
   "cell_type": "code",
   "execution_count": null,
   "metadata": {
    "collapsed": true
   },
   "outputs": [],
   "source": [
    "a.region_list[0]=10"
   ]
  },
  {
   "cell_type": "code",
   "execution_count": null,
   "metadata": {},
   "outputs": [],
   "source": [
    "a.region_list[0].ap =100"
   ]
  },
  {
   "cell_type": "code",
   "execution_count": null,
   "metadata": {},
   "outputs": [],
   "source": [
    "a.wfts.transition"
   ]
  },
  {
   "cell_type": "code",
   "execution_count": null,
   "metadata": {
    "collapsed": true
   },
   "outputs": [],
   "source": [
    "a = range(10)"
   ]
  },
  {
   "cell_type": "code",
   "execution_count": null,
   "metadata": {
    "collapsed": true
   },
   "outputs": [],
   "source": [
    "a.remove(a[0])"
   ]
  },
  {
   "cell_type": "code",
   "execution_count": null,
   "metadata": {},
   "outputs": [],
   "source": [
    "a"
   ]
  }
 ],
 "metadata": {
  "kernelspec": {
   "display_name": "Python 2",
   "language": "python",
   "name": "python2"
  },
  "language_info": {
   "codemirror_mode": {
    "name": "ipython",
    "version": 2
   },
   "file_extension": ".py",
   "mimetype": "text/x-python",
   "name": "python",
   "nbconvert_exporter": "python",
   "pygments_lexer": "ipython2",
   "version": "2.7.13"
  }
 },
 "nbformat": 4,
 "nbformat_minor": 2
}
