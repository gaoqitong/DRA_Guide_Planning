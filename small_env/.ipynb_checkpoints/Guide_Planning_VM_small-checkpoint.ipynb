{
 "cells": [
  {
   "cell_type": "code",
   "execution_count": 1,
   "metadata": {},
   "outputs": [],
   "source": [
    "import sys\n",
    "sys.path.append(\"../\")"
   ]
  },
  {
   "cell_type": "code",
   "execution_count": 2,
   "metadata": {},
   "outputs": [
    {
     "name": "stderr",
     "output_type": "stream",
     "text": [
      "/home/ubuntu/anaconda3/envs/tensorflow_p27/lib/python2.7/site-packages/h5py/__init__.py:36: FutureWarning: Conversion of the second argument of issubdtype from `float` to `np.floating` is deprecated. In future, it will be treated as `np.float64 == np.dtype(float).type`.\n",
      "  from ._conv import register_converters as _register_converters\n"
     ]
    }
   ],
   "source": [
    "from __future__ import division\n",
    "from full_prod_DRA import *\n",
    "from buchi import buchi_from_ltl\n",
    "import numpy as np\n",
    "from env_sensing_error_small import *\n",
    "import scipy\n",
    "# from plot_path_for_prod import *\n",
    "from graphviz import Source\n",
    "from qnetwork import *\n",
    "from utils import *\n",
    "import matplotlib.pyplot as plt\n",
    "# from Plot_Path import *\n",
    "import tensorflow as tf\n",
    "import sys\n",
    "from dra_planning import *\n",
    "import time"
   ]
  },
  {
   "cell_type": "code",
   "execution_count": 3,
   "metadata": {},
   "outputs": [],
   "source": [
    "def train(sess, env, qnet, prod_planner):\n",
    "    \n",
    "    global EXPLORATION_RATE\n",
    "    global GUIDE_RATE\n",
    "  \n",
    "    summary_ops, summary_vars = build_summaries()\n",
    "    if not RESTORE:\n",
    "        sess.run(tf.global_variables_initializer())\n",
    "    writer = tf.summary.FileWriter(SUMMARY_DIR, sess.graph)\n",
    "    \n",
    "    qnet.update_target()\n",
    "    \n",
    "    replay_buffer = ReplayBuffer(BUFFER_SIZE, RANDOM_SEED)\n",
    "    \n",
    "    while len(prod_planner.opt_path) == 0:\n",
    "        env.step(np.random.randint(0,qnet.action_dim))\n",
    "        prod_planner.update_wfts_ap()\n",
    "        prod_planner.get_global_opt()\n",
    "    print \"Global Solution Found\"\n",
    "    prod_planner.get_opt_rabin()\n",
    "    \n",
    "    saved_dra_planners = {}\n",
    "    \n",
    "    for num_epi in range(MAX_EPISODES):\n",
    "        \n",
    "#         print \"Epi: \", num_epi\n",
    "\n",
    "        s = env.reset()\n",
    "        s = list(np.unravel_index(s, env.shape))\n",
    "#         prod_planner.replace_region_list()\n",
    "        prod_planner.update_wfts_ap()\n",
    "\n",
    "        ep_reward = 0\n",
    "        ep_ave_max_q = 0\n",
    "        \n",
    "        reward_list = []\n",
    "        \n",
    "        train_time = 0\n",
    "        batch_time = 0\n",
    "        gym_time = 0\n",
    "        guide_time = 0\n",
    "\n",
    "        for j in range(MAX_EPISODE_LEN):\n",
    "            \n",
    "#             print \"Step: \", j\n",
    "            \n",
    "            gym_start = time.time()\n",
    "\n",
    "            rand_num = np.random.rand(1)\n",
    "    \n",
    "            if rand_num <= EXPLORATION_RATE:\n",
    "                a = np.random.randint(0,qnet.action_dim)\n",
    "                s2, r, terminal, info = env.step(a)\n",
    "                \n",
    "            elif rand_num <= GUIDE_RATE+EXPLORATION_RATE and rand_num > EXPLORATION_RATE:\n",
    "#                 print \"GUIDE\"\n",
    "                guide_start = time.time()\n",
    "                \n",
    "                if rand_num > EXPLORATION_RATE + 0.9*GUIDE_RATE:\n",
    "                # Only update global plan with 0.2 prob for efficiency\n",
    "                    env.update_dynamic_rabin()\n",
    "                    prod_planner.get_global_opt()\n",
    "                    prod_planner.get_opt_rabin()\n",
    "                    \n",
    "                if len(prod_planner.opt_path) > 0:\n",
    "#                     print \"S: \", s\n",
    "#                     print \"last a: \", a\n",
    "                    new_ltl = prod_planner.get_next_ltl(s[-1])\n",
    "                    \n",
    "#                     if new_ltl in saved_dra_planners.keys():\n",
    "                    guide_path = prod_planner.get_local_opt(s[:-1], new_ltl)\n",
    "                    if guide_path != None:\n",
    "#                         print \"GUIDE\"\n",
    "                        a = convert_path_to_action(guide_path)\n",
    "                    else:\n",
    "                        a = np.random.randint(0,qnet.action_dim)\n",
    "#                     else:\n",
    "#                         guide_path = prod_planner.get_local_opt(s[:-1], new_ltl)\n",
    "#                         saved_dra_planners[new_ltl] = prod_planner.dra_full_prod\n",
    "#                         if guide_path != None:\n",
    "#                             a = convert_path_to_action(guide_path)\n",
    "#                         else:\n",
    "#                             a = np.random.randint(0,qnet.action_dim)\n",
    "                        \n",
    "                else:\n",
    "                    a = np.random.randint(0,qnet.action_dim)\n",
    "                \n",
    "                s2, r, terminal, info = env.step(a)\n",
    "                \n",
    "                guide_time += time.time() - guide_start\n",
    "                \n",
    "            else:\n",
    "                a = np.argmax(qnet.predict_q(np.reshape(s, (1, qnet.state_dim))))\n",
    "                s2, r, terminal, info = env.step(a)\n",
    "\n",
    "            prod_planner.update_wfts_ap()\n",
    "                \n",
    "            gym_time += time.time() - gym_start\n",
    "            \n",
    "            batch_start = time.time()\n",
    "            \n",
    "            s2 = list(np.unravel_index(s2, env.shape))\n",
    "\n",
    "            replay_buffer.add(np.reshape(s, (qnet.state_dim,)), np.reshape(a, (1,)), r,\n",
    "                              terminal, np.reshape(s2, (qnet.state_dim,)))\n",
    "            batch_time += time.time() - batch_start\n",
    "\n",
    "            # Keep adding experience to the memory until\n",
    "            # there are at least minibatch size samples\n",
    "            if replay_buffer.size() > MINIBATCH_SIZE:\n",
    "                \n",
    "                batch_start = time.time()\n",
    "                s_batch, a_batch, r_batch, t_batch, s2_batch = replay_buffer.sample_batch(MINIBATCH_SIZE)\n",
    "#                 print \"sbatch: \", s_batch\n",
    "                # Calculate targets\n",
    "                target_q = qnet.predect_target(s2_batch)\n",
    "\n",
    "                y_i = []\n",
    "                for k in range(MINIBATCH_SIZE):\n",
    "                    if t_batch[k]:\n",
    "                        y_i.append(r_batch[k])\n",
    "                    else:\n",
    "                        y_i.append(r_batch[k] + GAMMA * np.amax(target_q[k]))\n",
    "                        \n",
    "                batch_time += time.time() - batch_start\n",
    "\n",
    "                # Update the critic given the targets\n",
    "                train_start = time.time()\n",
    "                predicted_q_value, _ = qnet.train(s_batch, a_batch, np.reshape(y_i, (MINIBATCH_SIZE, 1)), num_epi)\n",
    "\n",
    "                ep_ave_max_q += np.amax(predicted_q_value)\n",
    "                \n",
    "                # Update target networks\n",
    "                qnet.update_target()\n",
    "\n",
    "                train_time += time.time() - train_start\n",
    "\n",
    "            s = s2\n",
    "            ep_reward += r\n",
    "\n",
    "            if terminal or j == MAX_EPISODE_LEN-1:\n",
    "                \n",
    "                if EXPLORATION_RATE > 0.02 and terminal:\n",
    "                    EXPLORATION_RATE = EXPLORATION_RATE*0.98\n",
    "                    GUIDE_RATE = GUIDE_RATE*0.98\n",
    "                    \n",
    "                reward_list += [ep_reward]\n",
    "                \n",
    "                if np.average(reward_list[-10:]) > LR_DECAY_TRUNCATION:\n",
    "                    qnet.decay_learning_rate(0.98)\n",
    "\n",
    "                print('| Reward: {:d} | Episode: {:d} | Qmax: {:.4f} | Exploration: {:.6f} | Step: {:d} | LR: {:.8f}'.format(int(ep_reward), \\\n",
    "                        num_epi, (ep_ave_max_q / float(j)), EXPLORATION_RATE, j, qnet.get_learning_rate()))\n",
    "                \n",
    "                f = open(\"stats/\" + file_appendix + \"_stats.txt\", \"ab\")\n",
    "                f.write(\"| Reward: \" + str(int(ep_reward)) \n",
    "                        +\" | Episode: \" + str(num_epi) \n",
    "                        + \" | Qmax: \" + str(ep_ave_max_q / float(j)) \n",
    "                        + \" | Exploration: \" + str(EXPLORATION_RATE)\n",
    "                        + \" | Step: \" + str(j)\n",
    "                        + \" | LR:\" + str(qnet.get_learning_rate()) + \"\\n\")\n",
    "                f.close()\n",
    "                \n",
    "                f = open(\"stats/\" + file_appendix + \"_stats_time.txt\", \"ab\")\n",
    "                f.write(\" | Episode: \" + str(num_epi) \n",
    "                        + \" | Train: \" + str(train_time) \n",
    "                        + \" | Gym: \" + str(gym_time)\n",
    "                        + \" | Batch: \" + str(batch_time) \n",
    "                        + \" | Guide: \" + str(guide_time)\n",
    "                        + \"\\n\")\n",
    "                f.close()\n",
    "                \n",
    "                break\n",
    "                "
   ]
  },
  {
   "cell_type": "code",
   "execution_count": 4,
   "metadata": {},
   "outputs": [],
   "source": [
    "# LTL = \"<>(A && <>(B && <> T)) && []<>A && []<>B\"\n",
    "# LTL = \"[] (p1 -> !(X p1) U (p2 || p3) ) && []<>p1\"\n",
    "# LTL = \"T && []<>A && []<>B\"\n",
    "# LTL = \"<>(A && <>(B && <> T)) && []<>A && []<>B && []!C && []!D\"\n",
    "# LTL = \"<>(A && <>(B && <> T)) && []<>A && []<>B && []!C\"\n",
    "# LTL = \"<>(A && <>(B && <> T))\"\n",
    "# LTL = \"<>(A && <>B) && <>[]T && []!C\"\n",
    "LTL = \"<>(A && <>T) && []!C\"\n",
    "# LTL = \"<>(A && <>(B && <>T)) && []<>(A||T) && []<>B && []!C\"\n",
    "# LTL = \"<>(A && <>(B && <>T)) && []!C\"\n",
    "# LTL = \"<>(A && <>D) && <>(B && <>E) && []<>T && []<>(D || E) && []!C\"\n",
    "\n",
    "LEARNING_RATE = 0.0015\n",
    "GAMMA = 0.99\n",
    "# GAMMA = 0.7\n",
    "TAU = 0.001\n",
    "BUFFER_SIZE = 10**6\n",
    "MINIBATCH_SIZE = 64\n",
    "RANDOM_SEED = 210\n",
    "MAX_EPISODES = 50000\n",
    "MAX_EPISODE_LEN = 200\n",
    "file_appendix = \"Guide_Planning_\" + time.ctime()[4:16].replace(\"  \",\"\").replace(\" \",\"_\").replace(\":\",\"-\") + \"_large_\" + LTL\n",
    "# file_appendix = \"Feb8_03-47\"\n",
    "SUMMARY_DIR = './results/tf_ddqn_' + file_appendix\n",
    "SAVE_DIR = \"./saved_model/\" + file_appendix + \"/ddqn.ckpt\"\n",
    "EXPLORATION_RATE = 0\n",
    "GUIDE_RATE = 1\n",
    "LR_DECAY_TRUNCATION = -200\n",
    "RESTORE = 0\n",
    "if sys.platform == \"darwin\":\n",
    "    DEVICE = \"/device:CPU:0\"\n",
    "else:\n",
    "    DEVICE = \"/device:GPU:0\""
   ]
  },
  {
   "cell_type": "code",
   "execution_count": 5,
   "metadata": {
    "scrolled": false
   },
   "outputs": [],
   "source": [
    "env = CurrentWorld(LTL)\n",
    "prod_planner = Prod_Planning(env, LTL)\n",
    "# with open(\"my.dot\", \"r\") as dotfile:\n",
    "#     text = dotfile.read()\n",
    "# Source(text)"
   ]
  },
  {
   "cell_type": "code",
   "execution_count": null,
   "metadata": {
    "scrolled": false
   },
   "outputs": [
    {
     "name": "stderr",
     "output_type": "stream",
     "text": [
      "/home/ubuntu/anaconda3/envs/tensorflow_p27/lib/python2.7/site-packages/tensorflow/python/ops/gradients_impl.py:112: UserWarning: Converting sparse IndexedSlices to a dense Tensor of unknown shape. This may consume a large amount of memory.\n",
      "  \"Converting sparse IndexedSlices to a dense Tensor of unknown shape. \"\n"
     ]
    },
    {
     "name": "stdout",
     "output_type": "stream",
     "text": [
      "Global Solution Found\n",
      "DDQN Saved\n",
      "| Reward: -3350 | Episode: 0 | Qmax: 0.9383 | Exploration: 0.400000 | Step: 199 | LR: 0.00150000\n",
      "| Reward: -1028 | Episode: 1 | Qmax: 2.4516 | Exploration: 0.400000 | Step: 199 | LR: 0.00150000\n",
      "| Reward: -560 | Episode: 2 | Qmax: 2.7824 | Exploration: 0.400000 | Step: 199 | LR: 0.00150000\n",
      "| Reward: -2090 | Episode: 3 | Qmax: -0.9476 | Exploration: 0.400000 | Step: 199 | LR: 0.00150000\n",
      "| Reward: -2900 | Episode: 4 | Qmax: -3.2508 | Exploration: 0.400000 | Step: 199 | LR: 0.00150000\n",
      "| Reward: -2450 | Episode: 5 | Qmax: -3.8685 | Exploration: 0.400000 | Step: 199 | LR: 0.00150000\n",
      "| Reward: -2720 | Episode: 6 | Qmax: -1.6064 | Exploration: 0.400000 | Step: 199 | LR: 0.00150000\n",
      "| Reward: -2810 | Episode: 7 | Qmax: -0.4733 | Exploration: 0.400000 | Step: 199 | LR: 0.00150000\n",
      "| Reward: -668 | Episode: 8 | Qmax: -0.6935 | Exploration: 0.400000 | Step: 199 | LR: 0.00150000\n",
      "| Reward: -2720 | Episode: 9 | Qmax: -0.6485 | Exploration: 0.400000 | Step: 199 | LR: 0.00150000\n",
      "| Reward: -2630 | Episode: 10 | Qmax: -0.2385 | Exploration: 0.400000 | Step: 199 | LR: 0.00150000\n",
      "| Reward: -2630 | Episode: 11 | Qmax: -1.3638 | Exploration: 0.400000 | Step: 199 | LR: 0.00150000\n",
      "| Reward: -2999 | Episode: 12 | Qmax: -1.7746 | Exploration: 0.400000 | Step: 199 | LR: 0.00150000\n",
      "| Reward: -2450 | Episode: 13 | Qmax: -1.6054 | Exploration: 0.400000 | Step: 199 | LR: 0.00150000\n",
      "| Reward: -2990 | Episode: 14 | Qmax: -1.0961 | Exploration: 0.400000 | Step: 199 | LR: 0.00150000\n",
      "| Reward: -3908 | Episode: 15 | Qmax: -0.8430 | Exploration: 0.400000 | Step: 199 | LR: 0.00150000\n",
      "| Reward: -3080 | Episode: 16 | Qmax: -0.2321 | Exploration: 0.400000 | Step: 199 | LR: 0.00150000\n",
      "| Reward: -3260 | Episode: 17 | Qmax: -0.0204 | Exploration: 0.400000 | Step: 199 | LR: 0.00150000\n",
      "| Reward: -3530 | Episode: 18 | Qmax: 1.1065 | Exploration: 0.400000 | Step: 199 | LR: 0.00150000\n",
      "| Reward: -3800 | Episode: 19 | Qmax: 1.3124 | Exploration: 0.400000 | Step: 199 | LR: 0.00150000\n",
      "DDQN Saved\n",
      "| Reward: -1253 | Episode: 20 | Qmax: 1.5995 | Exploration: 0.400000 | Step: 199 | LR: 0.00150000\n",
      "| Reward: -2630 | Episode: 21 | Qmax: 1.6517 | Exploration: 0.400000 | Step: 199 | LR: 0.00150000\n",
      "| Reward: -3170 | Episode: 22 | Qmax: 0.8918 | Exploration: 0.400000 | Step: 199 | LR: 0.00150000\n",
      "| Reward: -2720 | Episode: 23 | Qmax: 0.8235 | Exploration: 0.400000 | Step: 199 | LR: 0.00150000\n",
      "| Reward: -2810 | Episode: 24 | Qmax: 0.9486 | Exploration: 0.400000 | Step: 199 | LR: 0.00150000\n",
      "| Reward: -2990 | Episode: 25 | Qmax: 1.2560 | Exploration: 0.400000 | Step: 199 | LR: 0.00150000\n",
      "| Reward: -3170 | Episode: 26 | Qmax: 1.4892 | Exploration: 0.400000 | Step: 199 | LR: 0.00150000\n",
      "| Reward: -2720 | Episode: 27 | Qmax: 0.9442 | Exploration: 0.400000 | Step: 199 | LR: 0.00150000\n",
      "| Reward: -3305 | Episode: 28 | Qmax: 0.8006 | Exploration: 0.400000 | Step: 199 | LR: 0.00150000\n",
      "| Reward: -713 | Episode: 29 | Qmax: 0.9441 | Exploration: 0.400000 | Step: 199 | LR: 0.00150000\n",
      "| Reward: -2990 | Episode: 30 | Qmax: 0.8923 | Exploration: 0.400000 | Step: 199 | LR: 0.00150000\n",
      "| Reward: -1910 | Episode: 31 | Qmax: 1.6451 | Exploration: 0.400000 | Step: 199 | LR: 0.00150000\n",
      "| Reward: -2450 | Episode: 32 | Qmax: 0.9744 | Exploration: 0.400000 | Step: 199 | LR: 0.00150000\n",
      "| Reward: -2990 | Episode: 33 | Qmax: 1.4717 | Exploration: 0.400000 | Step: 199 | LR: 0.00150000\n",
      "| Reward: -2630 | Episode: 34 | Qmax: 1.3648 | Exploration: 0.400000 | Step: 199 | LR: 0.00150000\n",
      "| Reward: -2990 | Episode: 35 | Qmax: 1.1613 | Exploration: 0.400000 | Step: 199 | LR: 0.00150000\n",
      "| Reward: -2900 | Episode: 36 | Qmax: 1.4350 | Exploration: 0.400000 | Step: 199 | LR: 0.00150000\n",
      "| Reward: -3260 | Episode: 37 | Qmax: 1.4656 | Exploration: 0.400000 | Step: 199 | LR: 0.00150000\n",
      "| Reward: -434 | Episode: 38 | Qmax: 2.0021 | Exploration: 0.400000 | Step: 199 | LR: 0.00150000\n",
      "| Reward: -2810 | Episode: 39 | Qmax: 2.8344 | Exploration: 0.400000 | Step: 199 | LR: 0.00150000\n",
      "DDQN Saved\n",
      "| Reward: -2810 | Episode: 40 | Qmax: 3.0588 | Exploration: 0.400000 | Step: 199 | LR: 0.00150000\n",
      "| Reward: -3080 | Episode: 41 | Qmax: 3.1799 | Exploration: 0.400000 | Step: 199 | LR: 0.00150000\n",
      "| Reward: -3530 | Episode: 42 | Qmax: 2.8423 | Exploration: 0.400000 | Step: 199 | LR: 0.00150000\n",
      "| Reward: -3260 | Episode: 43 | Qmax: 3.2849 | Exploration: 0.400000 | Step: 199 | LR: 0.00150000\n",
      "| Reward: -2630 | Episode: 44 | Qmax: 3.3403 | Exploration: 0.400000 | Step: 199 | LR: 0.00150000\n",
      "| Reward: -2990 | Episode: 45 | Qmax: 3.6311 | Exploration: 0.400000 | Step: 199 | LR: 0.00150000\n",
      "| Reward: -2090 | Episode: 46 | Qmax: 3.7601 | Exploration: 0.400000 | Step: 199 | LR: 0.00150000\n",
      "| Reward: -2540 | Episode: 47 | Qmax: 3.6068 | Exploration: 0.400000 | Step: 199 | LR: 0.00150000\n",
      "| Reward: -2720 | Episode: 48 | Qmax: 4.2971 | Exploration: 0.400000 | Step: 199 | LR: 0.00150000\n",
      "| Reward: -3260 | Episode: 49 | Qmax: 5.0458 | Exploration: 0.400000 | Step: 199 | LR: 0.00150000\n",
      "| Reward: -1460 | Episode: 50 | Qmax: 4.8108 | Exploration: 0.400000 | Step: 199 | LR: 0.00150000\n",
      "| Reward: -2720 | Episode: 51 | Qmax: 5.6659 | Exploration: 0.400000 | Step: 199 | LR: 0.00150000\n",
      "| Reward: -3260 | Episode: 52 | Qmax: 6.1373 | Exploration: 0.400000 | Step: 199 | LR: 0.00150000\n",
      "| Reward: -3170 | Episode: 53 | Qmax: 5.5509 | Exploration: 0.400000 | Step: 199 | LR: 0.00150000\n",
      "| Reward: -2900 | Episode: 54 | Qmax: 5.8037 | Exploration: 0.400000 | Step: 199 | LR: 0.00150000\n",
      "| Reward: -2630 | Episode: 55 | Qmax: 5.7770 | Exploration: 0.400000 | Step: 199 | LR: 0.00150000\n",
      "| Reward: -3260 | Episode: 56 | Qmax: 5.8757 | Exploration: 0.400000 | Step: 199 | LR: 0.00150000\n",
      "| Reward: -3080 | Episode: 57 | Qmax: 6.4648 | Exploration: 0.400000 | Step: 199 | LR: 0.00150000\n",
      "| Reward: -2900 | Episode: 58 | Qmax: 7.1138 | Exploration: 0.400000 | Step: 199 | LR: 0.00150000\n",
      "| Reward: -2630 | Episode: 59 | Qmax: 7.1632 | Exploration: 0.400000 | Step: 199 | LR: 0.00150000\n",
      "DDQN Saved\n",
      "| Reward: -515 | Episode: 60 | Qmax: 7.8935 | Exploration: 0.400000 | Step: 199 | LR: 0.00150000\n",
      "| Reward: -2720 | Episode: 61 | Qmax: 8.3802 | Exploration: 0.400000 | Step: 199 | LR: 0.00150000\n",
      "| Reward: -2630 | Episode: 62 | Qmax: 8.3065 | Exploration: 0.400000 | Step: 199 | LR: 0.00150000\n",
      "| Reward: -2540 | Episode: 63 | Qmax: 8.3505 | Exploration: 0.400000 | Step: 199 | LR: 0.00150000\n",
      "| Reward: -2900 | Episode: 64 | Qmax: 8.1131 | Exploration: 0.400000 | Step: 199 | LR: 0.00150000\n",
      "| Reward: -1721 | Episode: 65 | Qmax: 8.7749 | Exploration: 0.400000 | Step: 199 | LR: 0.00150000\n",
      "| Reward: -2099 | Episode: 66 | Qmax: 9.2347 | Exploration: 0.400000 | Step: 199 | LR: 0.00150000\n",
      "| Reward: -578 | Episode: 67 | Qmax: 9.1705 | Exploration: 0.400000 | Step: 199 | LR: 0.00150000\n",
      "| Reward: -2540 | Episode: 68 | Qmax: 9.6995 | Exploration: 0.400000 | Step: 199 | LR: 0.00150000\n",
      "| Reward: -2990 | Episode: 69 | Qmax: 9.7944 | Exploration: 0.400000 | Step: 199 | LR: 0.00150000\n",
      "| Reward: -2540 | Episode: 70 | Qmax: 9.5459 | Exploration: 0.400000 | Step: 199 | LR: 0.00150000\n",
      "| Reward: -2180 | Episode: 71 | Qmax: 9.6729 | Exploration: 0.400000 | Step: 199 | LR: 0.00150000\n",
      "| Reward: -461 | Episode: 72 | Qmax: 9.5364 | Exploration: 0.400000 | Step: 199 | LR: 0.00150000\n"
     ]
    }
   ],
   "source": [
    "config=tf.ConfigProto(log_device_placement=False)\n",
    "config.gpu_options.allow_growth = True\n",
    "with tf.Session(config=config) as sess:\n",
    "       \n",
    "    state_dim = 3\n",
    "    action_dim = 5\n",
    "    \n",
    "    if RESTORE:\n",
    "        Qnet = QNet(sess, state_dim, action_dim, LEARNING_RATE, TAU, MINIBATCH_SIZE, SAVE_DIR, DEVICE)\n",
    "        Qnet.saver.restore(sess, RESTORE_PATH)\n",
    "        train(sess, env, Qnet, prod_planner)\n",
    "        \n",
    "    else:\n",
    "        np.random.seed(RANDOM_SEED)\n",
    "        tf.set_random_seed(RANDOM_SEED)\n",
    "        env.seed(RANDOM_SEED)\n",
    "    \n",
    "        Qnet = QNet(sess, state_dim, action_dim, LEARNING_RATE, TAU, MINIBATCH_SIZE, SAVE_DIR, DEVICE)\n",
    "\n",
    "        train(sess, env, Qnet, prod_planner)"
   ]
  },
  {
   "cell_type": "code",
   "execution_count": null,
   "metadata": {},
   "outputs": [],
   "source": [
    "env.reset()"
   ]
  },
  {
   "cell_type": "code",
   "execution_count": null,
   "metadata": {},
   "outputs": [],
   "source": [
    "env.ap_dict"
   ]
  },
  {
   "cell_type": "code",
   "execution_count": null,
   "metadata": {},
   "outputs": [],
   "source": [
    "np.where(np.array(prod_planner.opt_rabin) == 1)[0][0]"
   ]
  },
  {
   "cell_type": "code",
   "execution_count": null,
   "metadata": {},
   "outputs": [],
   "source": [
    "np.unravel_index(env.s,(10,10,5))"
   ]
  },
  {
   "cell_type": "code",
   "execution_count": null,
   "metadata": {},
   "outputs": [],
   "source": [
    "np.unravel_index(env.s,(10,10,5))"
   ]
  },
  {
   "cell_type": "code",
   "execution_count": null,
   "metadata": {},
   "outputs": [],
   "source": [
    "ns,r,_,_ = env.step(1)\n",
    "print np.unravel_index(ns,(10,10,5)),r"
   ]
  },
  {
   "cell_type": "code",
   "execution_count": null,
   "metadata": {},
   "outputs": [],
   "source": [
    "prod_planner.get_global_opt()"
   ]
  },
  {
   "cell_type": "code",
   "execution_count": null,
   "metadata": {
    "scrolled": true
   },
   "outputs": [],
   "source": [
    "env.ap_dict"
   ]
  },
  {
   "cell_type": "code",
   "execution_count": null,
   "metadata": {
    "scrolled": true
   },
   "outputs": [],
   "source": [
    "env.last_ap_dict"
   ]
  },
  {
   "cell_type": "code",
   "execution_count": null,
   "metadata": {},
   "outputs": [],
   "source": [
    "env.last_dynamic_coord_dict[(2,2)]"
   ]
  },
  {
   "cell_type": "code",
   "execution_count": null,
   "metadata": {},
   "outputs": [],
   "source": [
    "env.rabin.coord_dict[(2,2)]"
   ]
  },
  {
   "cell_type": "code",
   "execution_count": null,
   "metadata": {},
   "outputs": [],
   "source": [
    "env.dynamic_coord_dict[(2,2)]"
   ]
  },
  {
   "cell_type": "code",
   "execution_count": null,
   "metadata": {},
   "outputs": [],
   "source": [
    "env.rabin.possible_states(1)"
   ]
  },
  {
   "cell_type": "code",
   "execution_count": null,
   "metadata": {},
   "outputs": [],
   "source": [
    "[env.rabin.graph[str(1)][str(0)][k][\"label\"] for k in range(len(env.rabin.graph[str(1)][str(0)]))]"
   ]
  },
  {
   "cell_type": "code",
   "execution_count": null,
   "metadata": {},
   "outputs": [],
   "source": [
    "env.rabin.check_ap(\"C\", u' !A&!T&C')"
   ]
  },
  {
   "cell_type": "code",
   "execution_count": null,
   "metadata": {},
   "outputs": [],
   "source": [
    "env.rabin.graph[\"0\"][\"0\"]"
   ]
  },
  {
   "cell_type": "code",
   "execution_count": null,
   "metadata": {},
   "outputs": [],
   "source": [
    "env._calculate_transition_prob((4, 3, 1), [0,1])"
   ]
  },
  {
   "cell_type": "code",
   "execution_count": null,
   "metadata": {},
   "outputs": [],
   "source": [
    "np.unravel_index(221,(10,10,5))"
   ]
  },
  {
   "cell_type": "code",
   "execution_count": null,
   "metadata": {},
   "outputs": [],
   "source": [
    "env.shape"
   ]
  },
  {
   "cell_type": "code",
   "execution_count": null,
   "metadata": {},
   "outputs": [],
   "source": [
    "current = (4,3,1)\n",
    "delta=[0,1]\n",
    "delta_list = [[-1, 0], [1, 0], [0, -1], [0, 1], [0, 0]]"
   ]
  },
  {
   "cell_type": "code",
   "execution_count": null,
   "metadata": {},
   "outputs": [],
   "source": [
    "new_position_candidates = [np.array(current[:2]) + np.array(delta)]\n",
    "new_position_candidates += [np.array(current[:2]) + np.array(i) for i in delta_list if i != delta]"
   ]
  },
  {
   "cell_type": "code",
   "execution_count": null,
   "metadata": {},
   "outputs": [],
   "source": [
    "print new_positions"
   ]
  },
  {
   "cell_type": "code",
   "execution_count": null,
   "metadata": {},
   "outputs": [],
   "source": [
    "new_positions = [env._limit_coordinates(i).astype(int) for i in new_position_candidates]"
   ]
  },
  {
   "cell_type": "code",
   "execution_count": null,
   "metadata": {},
   "outputs": [],
   "source": [
    "next_rabin_state = [env.rabin.next_state(current, tuple(i)) for i in new_positions]"
   ]
  },
  {
   "cell_type": "code",
   "execution_count": null,
   "metadata": {},
   "outputs": [],
   "source": [
    "env.rabin.next_state((4,3,1),(4,4))"
   ]
  },
  {
   "cell_type": "code",
   "execution_count": null,
   "metadata": {},
   "outputs": [],
   "source": [
    "env.rabin.coord_dict[(2,7)]"
   ]
  },
  {
   "cell_type": "code",
   "execution_count": null,
   "metadata": {},
   "outputs": [],
   "source": [
    "env.rabin.next_state((4,3,1),[0,1])"
   ]
  },
  {
   "cell_type": "code",
   "execution_count": null,
   "metadata": {},
   "outputs": [],
   "source": [
    "env.rabin.deadlock"
   ]
  },
  {
   "cell_type": "code",
   "execution_count": null,
   "metadata": {},
   "outputs": [],
   "source": [
    "np.where(np.array(prod_planner.opt_rabin) == 8)[0]"
   ]
  },
  {
   "cell_type": "code",
   "execution_count": null,
   "metadata": {},
   "outputs": [],
   "source": [
    "env = CurrentWorld(LTL.lower())"
   ]
  },
  {
   "cell_type": "code",
   "execution_count": null,
   "metadata": {},
   "outputs": [],
   "source": [
    "prod_planner = Prod_Planning(env, LTL.lower())"
   ]
  },
  {
   "cell_type": "code",
   "execution_count": null,
   "metadata": {},
   "outputs": [],
   "source": [
    "prod_planner.update_wfts_ap()"
   ]
  },
  {
   "cell_type": "code",
   "execution_count": null,
   "metadata": {},
   "outputs": [],
   "source": [
    "env.dynamic_coord_dict[(5,5)]"
   ]
  },
  {
   "cell_type": "code",
   "execution_count": null,
   "metadata": {},
   "outputs": [],
   "source": [
    "env.last_dynamic_coord_dict[(5,5)]"
   ]
  },
  {
   "cell_type": "code",
   "execution_count": null,
   "metadata": {},
   "outputs": [],
   "source": [
    "prod_planner.region_list[np.ravel_multi_index((5,5),(10,10))].ap"
   ]
  },
  {
   "cell_type": "code",
   "execution_count": null,
   "metadata": {},
   "outputs": [],
   "source": [
    "env.ap_dict"
   ]
  },
  {
   "cell_type": "code",
   "execution_count": null,
   "metadata": {},
   "outputs": [],
   "source": [
    "env.last_ap_dict"
   ]
  },
  {
   "cell_type": "code",
   "execution_count": null,
   "metadata": {},
   "outputs": [],
   "source": [
    "env.step(1)"
   ]
  }
 ],
 "metadata": {
  "kernelspec": {
   "display_name": "Environment (conda_tensorflow_p27)",
   "language": "python",
   "name": "conda_tensorflow_p27"
  },
  "language_info": {
   "codemirror_mode": {
    "name": "ipython",
    "version": 2
   },
   "file_extension": ".py",
   "mimetype": "text/x-python",
   "name": "python",
   "nbconvert_exporter": "python",
   "pygments_lexer": "ipython2",
   "version": "2.7.15"
  }
 },
 "nbformat": 4,
 "nbformat_minor": 2
}
