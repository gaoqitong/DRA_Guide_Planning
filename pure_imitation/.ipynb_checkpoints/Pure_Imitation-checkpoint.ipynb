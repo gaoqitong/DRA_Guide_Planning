{
 "cells": [
  {
   "cell_type": "code",
   "execution_count": 1,
   "metadata": {},
   "outputs": [],
   "source": [
    "import sys\n",
    "sys.path.append(\"../\")"
   ]
  },
  {
   "cell_type": "code",
   "execution_count": 2,
   "metadata": {},
   "outputs": [
    {
     "name": "stderr",
     "output_type": "stream",
     "text": [
      "/Users/gaoqitong/anaconda/envs/py27/lib/python2.7/site-packages/h5py/__init__.py:34: FutureWarning: Conversion of the second argument of issubdtype from `float` to `np.floating` is deprecated. In future, it will be treated as `np.float64 == np.dtype(float).type`.\n",
      "  from ._conv import register_converters as _register_converters\n"
     ]
    }
   ],
   "source": [
    "from __future__ import division\n",
    "from full_prod_DRA import *\n",
    "from buchi import buchi_from_ltl\n",
    "import numpy as np\n",
    "from env_sensing_error_small import *\n",
    "import scipy\n",
    "# from plot_path_for_prod import *\n",
    "from graphviz import Source\n",
    "from qnetwork import *\n",
    "from utils import *\n",
    "import matplotlib.pyplot as plt\n",
    "from Plot_Path import *\n",
    "import tensorflow as tf\n",
    "from dra_planning import *\n",
    "import time\n",
    "from dra_planning import convert_path_to_action"
   ]
  },
  {
   "cell_type": "code",
   "execution_count": 3,
   "metadata": {
    "collapsed": true
   },
   "outputs": [],
   "source": [
    "# LTL = \"<>(A && <>(B && <> T)) && []<>A && []<>B\"\n",
    "# LTL = \"[] (p1 -> !(X p1) U (p2 || p3) ) && []<>p1\"\n",
    "# LTL = \"T && []<>A && []<>B\"\n",
    "# LTL = \"<>(A && <>(B && <> T)) && []<>A && []<>B && []!C && []!D\"\n",
    "# LTL = \"<>(A && <>(B && <> T)) && []<>A && []<>B && []!C\"\n",
    "# LTL = \"<>(A && <>(B && <> T))\"\n",
    "# LTL = \"<>(A && <>B) && <>[]T && []!C\"\n",
    "LTL = \"<>(A && <>T) && []!C\"\n",
    "# LTL = \"<>(A && <>(B && <>T)) && []<>(A||T) && []<>B && []!C\"\n",
    "# LTL = \"<>(A && <>(B && <>T)) && []!C\"\n",
    "# LTL = \"<>(A && <>D) && <>(B && <>E) && []<>T && []<>(D || E) && []!C\"\n",
    "\n",
    "LEARNING_RATE = 0.0015\n",
    "GAMMA = 0.99\n",
    "# GAMMA = 0.7\n",
    "TAU = 0.001\n",
    "BUFFER_SIZE = 10**6\n",
    "MINIBATCH_SIZE = 64\n",
    "RANDOM_SEED = 191\n",
    "MAX_EPISODES = 50000\n",
    "MAX_EPISODE_LEN = 500\n",
    "file_appendix = \"Pure_Imitation_Large_\" + time.ctime()[4:16].replace(\"  \",\"\").replace(\" \",\"_\").replace(\":\",\"-\") + LTL\n",
    "# file_appendix = \"Feb8_03-47\"\n",
    "SUMMARY_DIR = './results/tf_ddqn_' + file_appendix\n",
    "SAVE_DIR = \"./saved_model/\" + file_appendix + \"/ddqn.ckpt\"\n",
    "EXPLORATION_RATE = 0.7\n",
    "LR_DECAY_TRUNCATION = -800\n",
    "RESTORE = 0\n",
    "if sys.platform == \"darwin\":\n",
    "    DEVICE = \"/device:CPU:0\"\n",
    "else:\n",
    "    DEVICE = \"/device:GPU:0\""
   ]
  },
  {
   "cell_type": "code",
   "execution_count": 18,
   "metadata": {
    "collapsed": true
   },
   "outputs": [],
   "source": [
    "env = CurrentWorld(LTL)\n",
    "prod_planner = Prod_Planning(env, LTL)\n",
    "# with open(\"my.dot\", \"r\") as dotfile:\n",
    "#     text = dotfile.read()\n",
    "# Source(text)"
   ]
  },
  {
   "cell_type": "code",
   "execution_count": 19,
   "metadata": {},
   "outputs": [],
   "source": [
    "guide_policy = {}\n",
    "prod_planner.get_global_opt()\n",
    "prod_planner.get_opt_rabin()\n",
    "for rabin_s in env.rabin.states:\n",
    "    for s_x in range(env.shape[0]):\n",
    "        for s_y in range(env.shape[1]):\n",
    "            env.step(np.random.randint(env.nA))\n",
    "            prod_planner.update_wfts_ap()\n",
    "            local_plan = prod_planner.get_local_opt((s_x,s_y), prod_planner.get_next_ltl(rabin_s))\n",
    "            if local_plan == None:\n",
    "                guide_policy[(s_x,s_y,rabin_s)] = np.random.randint(env.nA)\n",
    "            else:\n",
    "                guide_policy[(s_x,s_y,rabin_s)] = convert_path_to_action(local_plan)\n",
    "            \n",
    "        "
   ]
  }
 ],
 "metadata": {
  "kernelspec": {
   "display_name": "Python 2",
   "language": "python",
   "name": "python2"
  },
  "language_info": {
   "codemirror_mode": {
    "name": "ipython",
    "version": 2
   },
   "file_extension": ".py",
   "mimetype": "text/x-python",
   "name": "python",
   "nbconvert_exporter": "python",
   "pygments_lexer": "ipython2",
   "version": "2.7.13"
  }
 },
 "nbformat": 4,
 "nbformat_minor": 2
}
