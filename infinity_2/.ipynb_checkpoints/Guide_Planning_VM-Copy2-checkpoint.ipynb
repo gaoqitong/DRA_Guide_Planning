{
 "cells": [
  {
   "cell_type": "code",
   "execution_count": 1,
   "metadata": {},
   "outputs": [],
   "source": [
    "import sys\n",
    "sys.path.append(\"../\")"
   ]
  },
  {
   "cell_type": "code",
   "execution_count": 2,
   "metadata": {},
   "outputs": [
    {
     "name": "stderr",
     "output_type": "stream",
     "text": [
      "/home/ubuntu/anaconda3/envs/tensorflow_p27/lib/python2.7/site-packages/h5py/__init__.py:36: FutureWarning: Conversion of the second argument of issubdtype from `float` to `np.floating` is deprecated. In future, it will be treated as `np.float64 == np.dtype(float).type`.\n",
      "  from ._conv import register_converters as _register_converters\n"
     ]
    }
   ],
   "source": [
    "from __future__ import division\n",
    "from full_prod_DRA import *\n",
    "from buchi import buchi_from_ltl\n",
    "import numpy as np\n",
    "from env_sensing_error import *\n",
    "import scipy\n",
    "# from plot_path_for_prod import *\n",
    "from graphviz import Source\n",
    "from qnetwork import *\n",
    "from utils import *\n",
    "import matplotlib.pyplot as plt\n",
    "# from Plot_Path import *\n",
    "import tensorflow as tf\n",
    "from dra_planning import *\n",
    "import time"
   ]
  },
  {
   "cell_type": "code",
   "execution_count": 3,
   "metadata": {},
   "outputs": [],
   "source": [
    "def train(sess, env, qnet, prod_planner):\n",
    "    \n",
    "    global EXPLORATION_RATE\n",
    "    global GUIDE_RATE\n",
    "  \n",
    "    summary_ops, summary_vars = build_summaries()\n",
    "    if not RESTORE:\n",
    "        sess.run(tf.global_variables_initializer())\n",
    "    writer = tf.summary.FileWriter(SUMMARY_DIR, sess.graph)\n",
    "    \n",
    "    qnet.update_target()\n",
    "    \n",
    "    replay_buffer = ReplayBuffer(BUFFER_SIZE, RANDOM_SEED)\n",
    "    \n",
    "    while len(prod_planner.opt_path) == 0:\n",
    "        env.step(np.random.randint(0,qnet.action_dim))\n",
    "        prod_planner.update_wfts_ap()\n",
    "        env.update_dynamic_rabin()\n",
    "        prod_planner.get_global_opt()\n",
    "    print \"Global Solution Found\"\n",
    "    prod_planner.get_opt_rabin()\n",
    "    \n",
    "    saved_dra_planners = {}\n",
    "    \n",
    "    for num_epi in range(MAX_EPISODES):\n",
    "        \n",
    "#         print \"Epi: \", num_epi\n",
    "\n",
    "        s = env.reset()\n",
    "        s = list(np.unravel_index(s, env.shape))\n",
    "#         prod_planner.replace_region_list()\n",
    "        prod_planner.update_wfts_ap()\n",
    "\n",
    "        ep_reward = 0\n",
    "        ep_ave_max_q = 0\n",
    "        \n",
    "        reward_list = []\n",
    "        \n",
    "        train_time = 0\n",
    "        batch_time = 0\n",
    "        gym_time = 0\n",
    "        guide_time = 0\n",
    "\n",
    "        for j in range(MAX_EPISODE_LEN):\n",
    "            \n",
    "#             print \"Step: \", j\n",
    "            \n",
    "            gym_start = time.time()\n",
    "\n",
    "            rand_num = np.random.rand(1)\n",
    "    \n",
    "            if rand_num <= EXPLORATION_RATE:\n",
    "                a = np.random.randint(0,qnet.action_dim)\n",
    "                s2, r, terminal, info = env.step(a)\n",
    "                \n",
    "            elif rand_num <= GUIDE_RATE+EXPLORATION_RATE and rand_num > EXPLORATION_RATE:\n",
    "#                 print \"GUIDE\"\n",
    "                guide_start = time.time()\n",
    "                \n",
    "                if rand_num > EXPLORATION_RATE + 0.9*GUIDE_RATE:\n",
    "                # Only update global plan with 0.2 prob for efficiency\n",
    "                    env.update_dynamic_rabin()\n",
    "                    prod_planner.get_global_opt()\n",
    "                    prod_planner.get_opt_rabin()\n",
    "                    \n",
    "                if len(prod_planner.opt_path) > 0:\n",
    "#                     print \"S: \", s\n",
    "#                     print \"last a: \", a\n",
    "                    new_ltl = prod_planner.get_next_ltl(s[-1])\n",
    "                    \n",
    "#                     if new_ltl in saved_dra_planners.keys():\n",
    "                    guide_path = prod_planner.get_local_opt(s[:-1], new_ltl)\n",
    "                    if guide_path != None:\n",
    "#                         print \"GUIDE\"\n",
    "                        a = convert_path_to_action(guide_path)\n",
    "                    else:\n",
    "                        a = np.random.randint(0,qnet.action_dim)\n",
    "#                     else:\n",
    "#                         guide_path = prod_planner.get_local_opt(s[:-1], new_ltl)\n",
    "#                         saved_dra_planners[new_ltl] = prod_planner.dra_full_prod\n",
    "#                         if guide_path != None:\n",
    "#                             a = convert_path_to_action(guide_path)\n",
    "#                         else:\n",
    "#                             a = np.random.randint(0,qnet.action_dim)\n",
    "                        \n",
    "                else:\n",
    "                    a = np.random.randint(0,qnet.action_dim)\n",
    "                \n",
    "                s2, r, terminal, info = env.step(a)\n",
    "                \n",
    "                guide_time += time.time() - guide_start\n",
    "                \n",
    "            else:\n",
    "                a = np.argmax(qnet.predict_q(np.reshape(s, (1, qnet.state_dim))))\n",
    "                s2, r, terminal, info = env.step(a)\n",
    "\n",
    "            prod_planner.update_wfts_ap()\n",
    "                \n",
    "            gym_time += time.time() - gym_start\n",
    "            \n",
    "            batch_start = time.time()\n",
    "            \n",
    "            s2 = list(np.unravel_index(s2, env.shape))\n",
    "\n",
    "            replay_buffer.add(np.reshape(s, (qnet.state_dim,)), np.reshape(a, (1,)), r,\n",
    "                              terminal, np.reshape(s2, (qnet.state_dim,)))\n",
    "            batch_time += time.time() - batch_start\n",
    "\n",
    "            # Keep adding experience to the memory until\n",
    "            # there are at least minibatch size samples\n",
    "            if replay_buffer.size() > MINIBATCH_SIZE:\n",
    "                \n",
    "                batch_start = time.time()\n",
    "                s_batch, a_batch, r_batch, t_batch, s2_batch = replay_buffer.sample_batch(MINIBATCH_SIZE)\n",
    "#                 print \"sbatch: \", s_batch\n",
    "                # Calculate targets\n",
    "                target_q = qnet.predect_target(s2_batch)\n",
    "\n",
    "                y_i = []\n",
    "                for k in range(MINIBATCH_SIZE):\n",
    "                    if t_batch[k]:\n",
    "                        y_i.append(r_batch[k])\n",
    "                    else:\n",
    "                        y_i.append(r_batch[k] + GAMMA * np.amax(target_q[k]))\n",
    "                        \n",
    "                batch_time += time.time() - batch_start\n",
    "\n",
    "                # Update the critic given the targets\n",
    "                train_start = time.time()\n",
    "                predicted_q_value, _ = qnet.train(s_batch, a_batch, np.reshape(y_i, (MINIBATCH_SIZE, 1)), num_epi)\n",
    "\n",
    "                ep_ave_max_q += np.amax(predicted_q_value)\n",
    "                \n",
    "                # Update target networks\n",
    "                qnet.update_target()\n",
    "\n",
    "                train_time += time.time() - train_start\n",
    "\n",
    "            s = s2\n",
    "            ep_reward += r\n",
    "\n",
    "            if terminal or j == MAX_EPISODE_LEN-1:\n",
    "                \n",
    "                if EXPLORATION_RATE > 0.1 and terminal:\n",
    "                    EXPLORATION_RATE = EXPLORATION_RATE*0.992\n",
    "                if GUIDE_RATE > 0.1 and terminal:    \n",
    "                    GUIDE_RATE = GUIDE_RATE*0.992\n",
    "                    \n",
    "                reward_list += [ep_reward]\n",
    "                \n",
    "                if np.average(reward_list[-10:]) > LR_DECAY_TRUNCATION:\n",
    "                    qnet.decay_learning_rate(0.992)\n",
    "\n",
    "                print('| Reward: {:d} | Episode: {:d} | Qmax: {:.4f} | Exploration: {:.6f} | Step: {:d} | LR: {:.8f}'.format(int(ep_reward), \\\n",
    "                        num_epi, (ep_ave_max_q / float(j)), EXPLORATION_RATE, j, qnet.get_learning_rate()))\n",
    "                \n",
    "                f = open(\"stats/\" + file_appendix + \"_stats.txt\", \"ab\")\n",
    "                f.write(\"| Reward: \" + str(int(ep_reward)) \n",
    "                        +\" | Episode: \" + str(num_epi) \n",
    "                        + \" | Qmax: \" + str(ep_ave_max_q / float(j)) \n",
    "                        + \" | Exploration: \" + str(EXPLORATION_RATE)\n",
    "                        + \" | Step: \" + str(j)\n",
    "                        + \" | LR:\" + str(qnet.get_learning_rate()) + \"\\n\")\n",
    "                f.close()\n",
    "                \n",
    "                f = open(\"stats/\" + file_appendix + \"_stats_time.txt\", \"ab\")\n",
    "                f.write(\" | Episode: \" + str(num_epi) \n",
    "                        + \" | Train: \" + str(train_time) \n",
    "                        + \" | Gym: \" + str(gym_time)\n",
    "                        + \" | Batch: \" + str(batch_time) \n",
    "                        + \" | Guide: \" + str(guide_time)\n",
    "                        + \"\\n\")\n",
    "                f.close()\n",
    "                \n",
    "                break\n",
    "                "
   ]
  },
  {
   "cell_type": "code",
   "execution_count": 4,
   "metadata": {},
   "outputs": [],
   "source": [
    "# LTL = \"<>(A && <>(B && <> T)) && []<>A && []<>B\"\n",
    "# LTL = \"[] (p1 -> !(X p1) U (p2 || p3) ) && []<>p1\"\n",
    "# LTL = \"T && []<>A && []<>B\"\n",
    "# LTL = \"<>(A && <>(B && <> T)) && []<>A && []<>B && []!C && []!D\"\n",
    "LTL = \"<>(A && <>(B && <> T)) && []<>A && []<>B && []!C\"\n",
    "# LTL = \"<>(A && <>(B && <> T))\"\n",
    "# LTL = \"<>(A && <>B) && <>[]T && []!C\"\n",
    "# LTL = \"<>(A && <>T) && []!C\"\n",
    "# LTL = \"<>(A && <>(B && <>T)) && []<>(A||T) && []<>B && []!C\"\n",
    "# LTL = \"<>(A && <>(B && <>T)) && []!C\"\n",
    "# LTL = \"<>(A && <>D) && <>(B && <>E) && []<>T && []<>(D || E) && []!C\"\n",
    "\n",
    "LEARNING_RATE = 0.0001\n",
    "GAMMA = 0.99\n",
    "# GAMMA = 0.7\n",
    "TAU = 0.001\n",
    "BUFFER_SIZE = 10**6\n",
    "MINIBATCH_SIZE = 64\n",
    "RANDOM_SEED = 438\n",
    "MAX_EPISODES = 50000\n",
    "MAX_EPISODE_LEN = 1000\n",
    "file_appendix = \"Guide_Planning_2_\" + time.ctime()[4:16].replace(\"  \",\"\").replace(\" \",\"_\").replace(\":\",\"-\") + \"_large_\" + LTL\n",
    "# file_appendix = \"Feb8_03-47\"\n",
    "SUMMARY_DIR = './results/tf_ddqn_' + file_appendix\n",
    "SAVE_DIR = \"./saved_model/\" + file_appendix + \"/ddqn.ckpt\"\n",
    "EXPLORATION_RATE = 0.2\n",
    "GUIDE_RATE = 0.3\n",
    "LR_DECAY_TRUNCATION = -1500\n",
    "RESTORE = 0\n",
    "if sys.platform == \"darwin\":\n",
    "    DEVICE = \"/device:CPU:0\"\n",
    "else:\n",
    "    DEVICE = \"/device:GPU:0\""
   ]
  },
  {
   "cell_type": "code",
   "execution_count": 5,
   "metadata": {
    "scrolled": false
   },
   "outputs": [],
   "source": [
    "env = CurrentWorld(LTL)\n",
    "prod_planner = Prod_Planning(env, LTL)\n",
    "# with open(\"my.dot\", \"r\") as dotfile:\n",
    "#     text = dotfile.read()\n",
    "# Source(text)"
   ]
  },
  {
   "cell_type": "code",
   "execution_count": null,
   "metadata": {
    "scrolled": false
   },
   "outputs": [
    {
     "name": "stderr",
     "output_type": "stream",
     "text": [
      "/home/ubuntu/anaconda3/envs/tensorflow_p27/lib/python2.7/site-packages/tensorflow/python/ops/gradients_impl.py:112: UserWarning: Converting sparse IndexedSlices to a dense Tensor of unknown shape. This may consume a large amount of memory.\n",
      "  \"Converting sparse IndexedSlices to a dense Tensor of unknown shape. \"\n"
     ]
    },
    {
     "name": "stdout",
     "output_type": "stream",
     "text": [
      "Global Solution Found\n",
      "DDQN Saved\n",
      "| Reward: -5662 | Episode: 0 | Qmax: 15.1060 | Exploration: 0.198400 | Step: 533 | LR: 0.00010000\n",
      "| Reward: -8022 | Episode: 1 | Qmax: 13.5931 | Exploration: 0.196813 | Step: 868 | LR: 0.00010000\n",
      "| Reward: -11890 | Episode: 2 | Qmax: 3.8628 | Exploration: 0.196813 | Step: 999 | LR: 0.00010000\n",
      "| Reward: -12250 | Episode: 3 | Qmax: -2.8374 | Exploration: 0.196813 | Step: 999 | LR: 0.00010000\n",
      "| Reward: -13960 | Episode: 4 | Qmax: -5.8659 | Exploration: 0.196813 | Step: 999 | LR: 0.00010000\n",
      "| Reward: -12700 | Episode: 5 | Qmax: -7.3748 | Exploration: 0.196813 | Step: 999 | LR: 0.00010000\n",
      "| Reward: -11440 | Episode: 6 | Qmax: -10.1762 | Exploration: 0.196813 | Step: 999 | LR: 0.00010000\n",
      "| Reward: -11890 | Episode: 7 | Qmax: -12.4108 | Exploration: 0.196813 | Step: 999 | LR: 0.00010000\n",
      "| Reward: -11890 | Episode: 8 | Qmax: -16.2202 | Exploration: 0.196813 | Step: 999 | LR: 0.00010000\n",
      "| Reward: -11080 | Episode: 9 | Qmax: -19.4035 | Exploration: 0.196813 | Step: 999 | LR: 0.00010000\n",
      "| Reward: -11530 | Episode: 10 | Qmax: -21.9795 | Exploration: 0.196813 | Step: 999 | LR: 0.00010000\n",
      "| Reward: -10990 | Episode: 11 | Qmax: -25.2154 | Exploration: 0.196813 | Step: 999 | LR: 0.00010000\n",
      "| Reward: -12610 | Episode: 12 | Qmax: -28.1927 | Exploration: 0.196813 | Step: 999 | LR: 0.00010000\n",
      "| Reward: -12160 | Episode: 13 | Qmax: -30.7425 | Exploration: 0.196813 | Step: 999 | LR: 0.00010000\n",
      "| Reward: -11440 | Episode: 14 | Qmax: -36.3713 | Exploration: 0.196813 | Step: 999 | LR: 0.00010000\n",
      "| Reward: -11530 | Episode: 15 | Qmax: -40.0490 | Exploration: 0.196813 | Step: 999 | LR: 0.00010000\n",
      "| Reward: -11440 | Episode: 16 | Qmax: -43.5516 | Exploration: 0.196813 | Step: 999 | LR: 0.00010000\n",
      "| Reward: -11440 | Episode: 17 | Qmax: -48.1267 | Exploration: 0.196813 | Step: 999 | LR: 0.00010000\n",
      "| Reward: -11980 | Episode: 18 | Qmax: -50.9806 | Exploration: 0.196813 | Step: 999 | LR: 0.00010000\n",
      "| Reward: -11620 | Episode: 19 | Qmax: -54.5856 | Exploration: 0.196813 | Step: 999 | LR: 0.00010000\n",
      "DDQN Saved\n",
      "| Reward: -11980 | Episode: 20 | Qmax: -59.9944 | Exploration: 0.196813 | Step: 999 | LR: 0.00010000\n",
      "| Reward: -10900 | Episode: 21 | Qmax: -64.4687 | Exploration: 0.196813 | Step: 999 | LR: 0.00010000\n",
      "| Reward: -12520 | Episode: 22 | Qmax: -68.2060 | Exploration: 0.196813 | Step: 999 | LR: 0.00010000\n",
      "| Reward: -12160 | Episode: 23 | Qmax: -73.1686 | Exploration: 0.196813 | Step: 999 | LR: 0.00010000\n",
      "| Reward: -11800 | Episode: 24 | Qmax: -77.5504 | Exploration: 0.196813 | Step: 999 | LR: 0.00010000\n",
      "| Reward: -11044 | Episode: 25 | Qmax: -80.5267 | Exploration: 0.196813 | Step: 999 | LR: 0.00010000\n",
      "| Reward: -12700 | Episode: 26 | Qmax: -77.4289 | Exploration: 0.196813 | Step: 999 | LR: 0.00010000\n",
      "| Reward: -11890 | Episode: 27 | Qmax: -81.5291 | Exploration: 0.196813 | Step: 999 | LR: 0.00010000\n",
      "| Reward: -9748 | Episode: 28 | Qmax: -82.8846 | Exploration: 0.196813 | Step: 999 | LR: 0.00010000\n",
      "| Reward: -11530 | Episode: 29 | Qmax: -79.3749 | Exploration: 0.196813 | Step: 999 | LR: 0.00010000\n",
      "| Reward: -12250 | Episode: 30 | Qmax: -82.1418 | Exploration: 0.196813 | Step: 999 | LR: 0.00010000\n",
      "| Reward: -8735 | Episode: 31 | Qmax: -84.9618 | Exploration: 0.195238 | Step: 735 | LR: 0.00010000\n",
      "| Reward: -7678 | Episode: 32 | Qmax: -83.1999 | Exploration: 0.195238 | Step: 999 | LR: 0.00010000\n",
      "| Reward: -11503 | Episode: 33 | Qmax: -80.7383 | Exploration: 0.195238 | Step: 999 | LR: 0.00010000\n",
      "| Reward: -14140 | Episode: 34 | Qmax: -81.2158 | Exploration: 0.195238 | Step: 999 | LR: 0.00010000\n",
      "| Reward: -10405 | Episode: 35 | Qmax: -83.4067 | Exploration: 0.195238 | Step: 999 | LR: 0.00010000\n",
      "| Reward: -11080 | Episode: 36 | Qmax: -81.8978 | Exploration: 0.195238 | Step: 999 | LR: 0.00010000\n",
      "| Reward: -10090 | Episode: 37 | Qmax: -83.0655 | Exploration: 0.195238 | Step: 999 | LR: 0.00010000\n",
      "| Reward: -11350 | Episode: 38 | Qmax: -83.1006 | Exploration: 0.195238 | Step: 999 | LR: 0.00010000\n",
      "| Reward: -10360 | Episode: 39 | Qmax: -78.9061 | Exploration: 0.195238 | Step: 999 | LR: 0.00010000\n",
      "DDQN Saved\n",
      "| Reward: -11980 | Episode: 40 | Qmax: -73.1785 | Exploration: 0.195238 | Step: 999 | LR: 0.00010000\n",
      "| Reward: -10540 | Episode: 41 | Qmax: -70.5028 | Exploration: 0.195238 | Step: 999 | LR: 0.00010000\n",
      "| Reward: -12250 | Episode: 42 | Qmax: -65.9434 | Exploration: 0.195238 | Step: 999 | LR: 0.00010000\n",
      "| Reward: -12250 | Episode: 43 | Qmax: -60.0254 | Exploration: 0.195238 | Step: 999 | LR: 0.00010000\n",
      "| Reward: -10540 | Episode: 44 | Qmax: -56.9274 | Exploration: 0.195238 | Step: 999 | LR: 0.00010000\n",
      "| Reward: -12970 | Episode: 45 | Qmax: -51.8881 | Exploration: 0.195238 | Step: 999 | LR: 0.00010000\n",
      "| Reward: -11170 | Episode: 46 | Qmax: -49.9504 | Exploration: 0.195238 | Step: 999 | LR: 0.00010000\n",
      "| Reward: -10630 | Episode: 47 | Qmax: -49.1720 | Exploration: 0.195238 | Step: 999 | LR: 0.00010000\n",
      "| Reward: -10720 | Episode: 48 | Qmax: -44.3139 | Exploration: 0.195238 | Step: 999 | LR: 0.00010000\n",
      "| Reward: -10630 | Episode: 49 | Qmax: -42.0315 | Exploration: 0.195238 | Step: 999 | LR: 0.00010000\n",
      "| Reward: -12070 | Episode: 50 | Qmax: -42.1316 | Exploration: 0.195238 | Step: 999 | LR: 0.00010000\n",
      "| Reward: -11080 | Episode: 51 | Qmax: -40.1942 | Exploration: 0.195238 | Step: 999 | LR: 0.00010000\n",
      "| Reward: -11890 | Episode: 52 | Qmax: -39.5517 | Exploration: 0.195238 | Step: 999 | LR: 0.00010000\n",
      "| Reward: -11800 | Episode: 53 | Qmax: -41.0902 | Exploration: 0.195238 | Step: 999 | LR: 0.00010000\n",
      "| Reward: -11350 | Episode: 54 | Qmax: -41.7644 | Exploration: 0.195238 | Step: 999 | LR: 0.00010000\n",
      "| Reward: -11260 | Episode: 55 | Qmax: -41.3115 | Exploration: 0.195238 | Step: 999 | LR: 0.00010000\n",
      "| Reward: -10900 | Episode: 56 | Qmax: -43.2059 | Exploration: 0.195238 | Step: 999 | LR: 0.00010000\n",
      "| Reward: -10900 | Episode: 57 | Qmax: -45.0093 | Exploration: 0.195238 | Step: 999 | LR: 0.00010000\n",
      "| Reward: -10900 | Episode: 58 | Qmax: -43.3712 | Exploration: 0.195238 | Step: 999 | LR: 0.00010000\n",
      "| Reward: -11170 | Episode: 59 | Qmax: -44.6946 | Exploration: 0.195238 | Step: 999 | LR: 0.00010000\n",
      "DDQN Saved\n",
      "| Reward: -10090 | Episode: 60 | Qmax: -46.1704 | Exploration: 0.195238 | Step: 999 | LR: 0.00010000\n",
      "| Reward: -10090 | Episode: 61 | Qmax: -46.6301 | Exploration: 0.195238 | Step: 999 | LR: 0.00010000\n",
      "| Reward: -11170 | Episode: 62 | Qmax: -44.5785 | Exploration: 0.195238 | Step: 999 | LR: 0.00010000\n",
      "| Reward: -10900 | Episode: 63 | Qmax: -43.1834 | Exploration: 0.195238 | Step: 999 | LR: 0.00010000\n",
      "| Reward: -10450 | Episode: 64 | Qmax: -41.3523 | Exploration: 0.195238 | Step: 999 | LR: 0.00010000\n",
      "| Reward: -10000 | Episode: 65 | Qmax: -38.2889 | Exploration: 0.195238 | Step: 999 | LR: 0.00010000\n",
      "| Reward: -11260 | Episode: 66 | Qmax: -37.6933 | Exploration: 0.195238 | Step: 999 | LR: 0.00010000\n",
      "| Reward: -10540 | Episode: 67 | Qmax: -35.6325 | Exploration: 0.195238 | Step: 999 | LR: 0.00010000\n",
      "| Reward: -10360 | Episode: 68 | Qmax: -34.0745 | Exploration: 0.195238 | Step: 999 | LR: 0.00010000\n",
      "| Reward: -10450 | Episode: 69 | Qmax: -32.0359 | Exploration: 0.195238 | Step: 999 | LR: 0.00010000\n",
      "| Reward: -10630 | Episode: 70 | Qmax: -30.6261 | Exploration: 0.195238 | Step: 999 | LR: 0.00010000\n",
      "| Reward: -10090 | Episode: 71 | Qmax: -28.1740 | Exploration: 0.195238 | Step: 999 | LR: 0.00010000\n",
      "| Reward: -10000 | Episode: 72 | Qmax: -24.2893 | Exploration: 0.195238 | Step: 999 | LR: 0.00010000\n",
      "| Reward: -10000 | Episode: 73 | Qmax: -22.4404 | Exploration: 0.195238 | Step: 999 | LR: 0.00010000\n",
      "| Reward: -10360 | Episode: 74 | Qmax: -21.3085 | Exploration: 0.195238 | Step: 999 | LR: 0.00010000\n",
      "| Reward: -10090 | Episode: 75 | Qmax: -18.6729 | Exploration: 0.195238 | Step: 999 | LR: 0.00010000\n",
      "| Reward: -10900 | Episode: 76 | Qmax: -14.6081 | Exploration: 0.195238 | Step: 999 | LR: 0.00010000\n",
      "| Reward: -10720 | Episode: 77 | Qmax: -13.2530 | Exploration: 0.195238 | Step: 999 | LR: 0.00010000\n",
      "| Reward: -10360 | Episode: 78 | Qmax: -9.3815 | Exploration: 0.195238 | Step: 999 | LR: 0.00010000\n",
      "| Reward: -10630 | Episode: 79 | Qmax: -11.3890 | Exploration: 0.195238 | Step: 999 | LR: 0.00010000\n",
      "DDQN Saved\n",
      "| Reward: -11530 | Episode: 80 | Qmax: -6.1199 | Exploration: 0.195238 | Step: 999 | LR: 0.00010000\n"
     ]
    },
    {
     "name": "stdout",
     "output_type": "stream",
     "text": [
      "| Reward: -10630 | Episode: 81 | Qmax: -5.9873 | Exploration: 0.195238 | Step: 999 | LR: 0.00010000\n",
      "| Reward: -10360 | Episode: 82 | Qmax: -8.3864 | Exploration: 0.195238 | Step: 999 | LR: 0.00010000\n",
      "| Reward: -11080 | Episode: 83 | Qmax: -1.6518 | Exploration: 0.195238 | Step: 999 | LR: 0.00010000\n",
      "| Reward: -10540 | Episode: 84 | Qmax: -0.8010 | Exploration: 0.195238 | Step: 999 | LR: 0.00010000\n",
      "| Reward: -7849 | Episode: 85 | Qmax: 6.4146 | Exploration: 0.195238 | Step: 999 | LR: 0.00010000\n",
      "| Reward: -10990 | Episode: 86 | Qmax: 24.5246 | Exploration: 0.195238 | Step: 999 | LR: 0.00010000\n",
      "| Reward: -10900 | Episode: 87 | Qmax: 24.1861 | Exploration: 0.195238 | Step: 999 | LR: 0.00010000\n",
      "| Reward: -10720 | Episode: 88 | Qmax: 22.1765 | Exploration: 0.195238 | Step: 999 | LR: 0.00010000\n",
      "| Reward: -11620 | Episode: 89 | Qmax: 25.9049 | Exploration: 0.195238 | Step: 999 | LR: 0.00010000\n",
      "| Reward: -11098 | Episode: 90 | Qmax: 28.3338 | Exploration: 0.195238 | Step: 999 | LR: 0.00010000\n",
      "| Reward: -11080 | Episode: 91 | Qmax: 29.7161 | Exploration: 0.195238 | Step: 999 | LR: 0.00010000\n",
      "| Reward: -11980 | Episode: 92 | Qmax: 37.1989 | Exploration: 0.195238 | Step: 999 | LR: 0.00010000\n",
      "| Reward: -11692 | Episode: 93 | Qmax: 36.8269 | Exploration: 0.195238 | Step: 999 | LR: 0.00010000\n",
      "| Reward: -10270 | Episode: 94 | Qmax: 44.3813 | Exploration: 0.195238 | Step: 999 | LR: 0.00010000\n",
      "| Reward: -10180 | Episode: 95 | Qmax: 48.2775 | Exploration: 0.195238 | Step: 999 | LR: 0.00010000\n",
      "| Reward: -11710 | Episode: 96 | Qmax: 57.6421 | Exploration: 0.195238 | Step: 999 | LR: 0.00010000\n",
      "| Reward: -12790 | Episode: 97 | Qmax: 58.1697 | Exploration: 0.195238 | Step: 999 | LR: 0.00010000\n",
      "| Reward: -11080 | Episode: 98 | Qmax: 64.5794 | Exploration: 0.195238 | Step: 999 | LR: 0.00010000\n",
      "| Reward: -11710 | Episode: 99 | Qmax: 66.8968 | Exploration: 0.195238 | Step: 999 | LR: 0.00010000\n",
      "DDQN Saved\n",
      "| Reward: -13600 | Episode: 100 | Qmax: 68.6848 | Exploration: 0.195238 | Step: 999 | LR: 0.00010000\n",
      "| Reward: -11350 | Episode: 101 | Qmax: 74.6109 | Exploration: 0.195238 | Step: 999 | LR: 0.00010000\n",
      "| Reward: -13780 | Episode: 102 | Qmax: 78.6403 | Exploration: 0.195238 | Step: 999 | LR: 0.00010000\n",
      "| Reward: -14050 | Episode: 103 | Qmax: 85.8231 | Exploration: 0.195238 | Step: 999 | LR: 0.00010000\n",
      "| Reward: -12160 | Episode: 104 | Qmax: 93.4445 | Exploration: 0.195238 | Step: 999 | LR: 0.00010000\n",
      "| Reward: -12250 | Episode: 105 | Qmax: 96.5065 | Exploration: 0.195238 | Step: 999 | LR: 0.00010000\n",
      "| Reward: -12880 | Episode: 106 | Qmax: 100.7680 | Exploration: 0.195238 | Step: 999 | LR: 0.00010000\n",
      "| Reward: -10810 | Episode: 107 | Qmax: 101.5183 | Exploration: 0.195238 | Step: 999 | LR: 0.00010000\n",
      "| Reward: -13330 | Episode: 108 | Qmax: 109.9761 | Exploration: 0.195238 | Step: 999 | LR: 0.00010000\n",
      "| Reward: -12070 | Episode: 109 | Qmax: 116.9211 | Exploration: 0.195238 | Step: 999 | LR: 0.00010000\n",
      "| Reward: -12250 | Episode: 110 | Qmax: 123.0026 | Exploration: 0.195238 | Step: 999 | LR: 0.00010000\n",
      "| Reward: -12970 | Episode: 111 | Qmax: 132.7497 | Exploration: 0.195238 | Step: 999 | LR: 0.00010000\n",
      "| Reward: -11980 | Episode: 112 | Qmax: 139.2947 | Exploration: 0.195238 | Step: 999 | LR: 0.00010000\n",
      "| Reward: -12250 | Episode: 113 | Qmax: 141.7008 | Exploration: 0.195238 | Step: 999 | LR: 0.00010000\n",
      "| Reward: -11170 | Episode: 114 | Qmax: 146.3159 | Exploration: 0.195238 | Step: 999 | LR: 0.00010000\n",
      "| Reward: -12880 | Episode: 115 | Qmax: 158.9200 | Exploration: 0.195238 | Step: 999 | LR: 0.00010000\n",
      "| Reward: -12610 | Episode: 116 | Qmax: 160.1177 | Exploration: 0.195238 | Step: 999 | LR: 0.00010000\n",
      "| Reward: -11890 | Episode: 117 | Qmax: 166.4348 | Exploration: 0.195238 | Step: 999 | LR: 0.00010000\n",
      "| Reward: -11260 | Episode: 118 | Qmax: 178.6351 | Exploration: 0.195238 | Step: 999 | LR: 0.00010000\n",
      "| Reward: -11710 | Episode: 119 | Qmax: 181.3024 | Exploration: 0.195238 | Step: 999 | LR: 0.00010000\n",
      "DDQN Saved\n",
      "| Reward: -11350 | Episode: 120 | Qmax: 186.9832 | Exploration: 0.195238 | Step: 999 | LR: 0.00010000\n",
      "| Reward: -11170 | Episode: 121 | Qmax: 191.2347 | Exploration: 0.195238 | Step: 999 | LR: 0.00010000\n",
      "| Reward: -11980 | Episode: 122 | Qmax: 196.1895 | Exploration: 0.195238 | Step: 999 | LR: 0.00010000\n",
      "| Reward: -11980 | Episode: 123 | Qmax: 190.8775 | Exploration: 0.195238 | Step: 999 | LR: 0.00010000\n",
      "| Reward: -11620 | Episode: 124 | Qmax: 204.4246 | Exploration: 0.195238 | Step: 999 | LR: 0.00010000\n",
      "| Reward: -12520 | Episode: 125 | Qmax: 201.2499 | Exploration: 0.195238 | Step: 999 | LR: 0.00010000\n",
      "| Reward: -12160 | Episode: 126 | Qmax: 208.4325 | Exploration: 0.195238 | Step: 999 | LR: 0.00010000\n",
      "| Reward: -12520 | Episode: 127 | Qmax: 212.3650 | Exploration: 0.195238 | Step: 999 | LR: 0.00010000\n",
      "| Reward: -11350 | Episode: 128 | Qmax: 208.8478 | Exploration: 0.195238 | Step: 999 | LR: 0.00010000\n",
      "| Reward: -11350 | Episode: 129 | Qmax: 213.8563 | Exploration: 0.195238 | Step: 999 | LR: 0.00010000\n",
      "| Reward: -11170 | Episode: 130 | Qmax: 217.6959 | Exploration: 0.195238 | Step: 999 | LR: 0.00010000\n",
      "| Reward: -11620 | Episode: 131 | Qmax: 217.3355 | Exploration: 0.195238 | Step: 999 | LR: 0.00010000\n",
      "| Reward: -11620 | Episode: 132 | Qmax: 225.5790 | Exploration: 0.195238 | Step: 999 | LR: 0.00010000\n",
      "| Reward: -11890 | Episode: 133 | Qmax: 221.3988 | Exploration: 0.195238 | Step: 999 | LR: 0.00010000\n",
      "| Reward: -11260 | Episode: 134 | Qmax: 216.8705 | Exploration: 0.195238 | Step: 999 | LR: 0.00010000\n",
      "| Reward: -11530 | Episode: 135 | Qmax: 221.6744 | Exploration: 0.195238 | Step: 999 | LR: 0.00010000\n",
      "| Reward: -11440 | Episode: 136 | Qmax: 223.2945 | Exploration: 0.195238 | Step: 999 | LR: 0.00010000\n",
      "| Reward: -11800 | Episode: 137 | Qmax: 216.7403 | Exploration: 0.195238 | Step: 999 | LR: 0.00010000\n",
      "| Reward: -12790 | Episode: 138 | Qmax: 218.2421 | Exploration: 0.195238 | Step: 999 | LR: 0.00010000\n",
      "| Reward: -13420 | Episode: 139 | Qmax: 232.2831 | Exploration: 0.195238 | Step: 999 | LR: 0.00010000\n",
      "DDQN Saved\n",
      "| Reward: -10900 | Episode: 140 | Qmax: 225.4115 | Exploration: 0.195238 | Step: 999 | LR: 0.00010000\n",
      "| Reward: -10810 | Episode: 141 | Qmax: 224.4853 | Exploration: 0.195238 | Step: 999 | LR: 0.00010000\n",
      "| Reward: -11287 | Episode: 142 | Qmax: 222.4623 | Exploration: 0.195238 | Step: 999 | LR: 0.00010000\n",
      "| Reward: -12700 | Episode: 143 | Qmax: 226.6407 | Exploration: 0.195238 | Step: 999 | LR: 0.00010000\n",
      "| Reward: -10900 | Episode: 144 | Qmax: 224.0956 | Exploration: 0.195238 | Step: 999 | LR: 0.00010000\n",
      "| Reward: -11350 | Episode: 145 | Qmax: 222.5587 | Exploration: 0.195238 | Step: 999 | LR: 0.00010000\n",
      "| Reward: -10450 | Episode: 146 | Qmax: 227.6964 | Exploration: 0.195238 | Step: 999 | LR: 0.00010000\n",
      "| Reward: -10720 | Episode: 147 | Qmax: 225.7937 | Exploration: 0.195238 | Step: 999 | LR: 0.00010000\n",
      "| Reward: -10270 | Episode: 148 | Qmax: 220.6604 | Exploration: 0.195238 | Step: 999 | LR: 0.00010000\n",
      "| Reward: -9217 | Episode: 149 | Qmax: 227.2462 | Exploration: 0.195238 | Step: 999 | LR: 0.00010000\n",
      "| Reward: -10540 | Episode: 150 | Qmax: 226.6490 | Exploration: 0.195238 | Step: 999 | LR: 0.00010000\n",
      "| Reward: -10900 | Episode: 151 | Qmax: 218.5548 | Exploration: 0.195238 | Step: 999 | LR: 0.00010000\n",
      "| Reward: -12133 | Episode: 152 | Qmax: 224.9715 | Exploration: 0.195238 | Step: 999 | LR: 0.00010000\n",
      "| Reward: -10990 | Episode: 153 | Qmax: 222.6322 | Exploration: 0.195238 | Step: 999 | LR: 0.00010000\n",
      "| Reward: -10450 | Episode: 154 | Qmax: 214.2633 | Exploration: 0.195238 | Step: 999 | LR: 0.00010000\n",
      "| Reward: -11620 | Episode: 155 | Qmax: 215.7077 | Exploration: 0.195238 | Step: 999 | LR: 0.00010000\n",
      "| Reward: -10360 | Episode: 156 | Qmax: 203.1388 | Exploration: 0.195238 | Step: 999 | LR: 0.00010000\n",
      "| Reward: -10306 | Episode: 157 | Qmax: 209.7276 | Exploration: 0.195238 | Step: 999 | LR: 0.00010000\n",
      "| Reward: -10990 | Episode: 158 | Qmax: 221.6014 | Exploration: 0.195238 | Step: 999 | LR: 0.00010000\n",
      "| Reward: -10180 | Episode: 159 | Qmax: 209.2211 | Exploration: 0.195238 | Step: 999 | LR: 0.00010000\n",
      "DDQN Saved\n",
      "| Reward: -11080 | Episode: 160 | Qmax: 196.6230 | Exploration: 0.195238 | Step: 999 | LR: 0.00010000\n",
      "| Reward: -10972 | Episode: 161 | Qmax: 206.2762 | Exploration: 0.195238 | Step: 999 | LR: 0.00010000\n"
     ]
    },
    {
     "name": "stdout",
     "output_type": "stream",
     "text": [
      "| Reward: -11260 | Episode: 162 | Qmax: 192.1265 | Exploration: 0.195238 | Step: 999 | LR: 0.00010000\n",
      "| Reward: -8641 | Episode: 163 | Qmax: 214.7551 | Exploration: 0.195238 | Step: 999 | LR: 0.00010000\n",
      "| Reward: -11710 | Episode: 164 | Qmax: 224.1355 | Exploration: 0.195238 | Step: 999 | LR: 0.00010000\n",
      "| Reward: -11440 | Episode: 165 | Qmax: 226.9422 | Exploration: 0.195238 | Step: 999 | LR: 0.00010000\n",
      "| Reward: -10270 | Episode: 166 | Qmax: 217.8436 | Exploration: 0.195238 | Step: 999 | LR: 0.00010000\n",
      "| Reward: -8776 | Episode: 167 | Qmax: 224.2556 | Exploration: 0.195238 | Step: 999 | LR: 0.00010000\n",
      "| Reward: -11170 | Episode: 168 | Qmax: 247.3792 | Exploration: 0.195238 | Step: 999 | LR: 0.00010000\n",
      "| Reward: -11530 | Episode: 169 | Qmax: 226.8278 | Exploration: 0.195238 | Step: 999 | LR: 0.00010000\n",
      "| Reward: -11440 | Episode: 170 | Qmax: 241.6862 | Exploration: 0.195238 | Step: 999 | LR: 0.00010000\n",
      "| Reward: -10810 | Episode: 171 | Qmax: 233.5125 | Exploration: 0.195238 | Step: 999 | LR: 0.00010000\n",
      "| Reward: -4249 | Episode: 172 | Qmax: 247.8741 | Exploration: 0.195238 | Step: 999 | LR: 0.00010000\n",
      "| Reward: -7930 | Episode: 173 | Qmax: 278.7646 | Exploration: 0.195238 | Step: 999 | LR: 0.00010000\n",
      "| Reward: -5581 | Episode: 174 | Qmax: 299.0919 | Exploration: 0.195238 | Step: 999 | LR: 0.00010000\n",
      "| Reward: -12610 | Episode: 175 | Qmax: 304.7544 | Exploration: 0.195238 | Step: 999 | LR: 0.00010000\n",
      "| Reward: -6897 | Episode: 176 | Qmax: 316.6665 | Exploration: 0.193676 | Step: 886 | LR: 0.00010000\n",
      "| Reward: -7741 | Episode: 177 | Qmax: 316.3996 | Exploration: 0.193676 | Step: 999 | LR: 0.00010000\n",
      "| Reward: -7813 | Episode: 178 | Qmax: 334.5046 | Exploration: 0.193676 | Step: 999 | LR: 0.00010000\n",
      "| Reward: -12610 | Episode: 179 | Qmax: 333.6436 | Exploration: 0.193676 | Step: 999 | LR: 0.00010000\n",
      "DDQN Saved\n",
      "| Reward: -11620 | Episode: 180 | Qmax: 334.2152 | Exploration: 0.193676 | Step: 999 | LR: 0.00010000\n",
      "| Reward: -7867 | Episode: 181 | Qmax: 333.0147 | Exploration: 0.193676 | Step: 999 | LR: 0.00010000\n",
      "| Reward: -10810 | Episode: 182 | Qmax: 343.5097 | Exploration: 0.193676 | Step: 999 | LR: 0.00010000\n",
      "| Reward: -11620 | Episode: 183 | Qmax: 348.0174 | Exploration: 0.193676 | Step: 999 | LR: 0.00010000\n",
      "| Reward: -10990 | Episode: 184 | Qmax: 343.7973 | Exploration: 0.193676 | Step: 999 | LR: 0.00010000\n",
      "| Reward: -5059 | Episode: 185 | Qmax: 339.5072 | Exploration: 0.193676 | Step: 999 | LR: 0.00010000\n",
      "| Reward: -9595 | Episode: 186 | Qmax: 351.1251 | Exploration: 0.193676 | Step: 999 | LR: 0.00010000\n"
     ]
    }
   ],
   "source": [
    "config=tf.ConfigProto(log_device_placement=False)\n",
    "config.gpu_options.allow_growth = True\n",
    "with tf.Session(config=config) as sess:\n",
    "       \n",
    "    state_dim = 3\n",
    "    action_dim = 5\n",
    "    \n",
    "    if RESTORE:\n",
    "        Qnet = QNet(sess, state_dim, action_dim, LEARNING_RATE, TAU, MINIBATCH_SIZE, SAVE_DIR, DEVICE)\n",
    "        Qnet.saver.restore(sess, RESTORE_PATH)\n",
    "        train(sess, env, Qnet, prod_planner)\n",
    "        \n",
    "    else:\n",
    "        np.random.seed(RANDOM_SEED)\n",
    "        tf.set_random_seed(RANDOM_SEED)\n",
    "        env.seed(RANDOM_SEED)\n",
    "    \n",
    "        Qnet = QNet(sess, state_dim, action_dim, LEARNING_RATE, TAU, MINIBATCH_SIZE, SAVE_DIR, DEVICE)\n",
    "\n",
    "        train(sess, env, Qnet, prod_planner)"
   ]
  },
  {
   "cell_type": "code",
   "execution_count": null,
   "metadata": {},
   "outputs": [],
   "source": [
    "env.reset()"
   ]
  },
  {
   "cell_type": "code",
   "execution_count": null,
   "metadata": {},
   "outputs": [],
   "source": [
    "env.s"
   ]
  },
  {
   "cell_type": "code",
   "execution_count": null,
   "metadata": {},
   "outputs": [],
   "source": [
    "np.where(np.array(prod_planner.opt_rabin) == 1)[0][0]"
   ]
  },
  {
   "cell_type": "code",
   "execution_count": null,
   "metadata": {},
   "outputs": [],
   "source": [
    "np.unravel_index(env.s,(10,10,5))"
   ]
  },
  {
   "cell_type": "code",
   "execution_count": null,
   "metadata": {},
   "outputs": [],
   "source": [
    "np.unravel_index(env.s,(10,10,5))"
   ]
  },
  {
   "cell_type": "code",
   "execution_count": null,
   "metadata": {},
   "outputs": [],
   "source": [
    "ns,r,_,_ = env.step(1)\n",
    "print np.unravel_index(ns,(10,10,5)),r"
   ]
  },
  {
   "cell_type": "code",
   "execution_count": null,
   "metadata": {},
   "outputs": [],
   "source": [
    "prod_planner.get_global_opt()"
   ]
  },
  {
   "cell_type": "code",
   "execution_count": null,
   "metadata": {
    "scrolled": true
   },
   "outputs": [],
   "source": [
    "env.ap_dict"
   ]
  },
  {
   "cell_type": "code",
   "execution_count": null,
   "metadata": {
    "scrolled": true
   },
   "outputs": [],
   "source": [
    "env.last_ap_dict"
   ]
  },
  {
   "cell_type": "code",
   "execution_count": null,
   "metadata": {},
   "outputs": [],
   "source": [
    "env.last_dynamic_coord_dict[(2,2)]"
   ]
  },
  {
   "cell_type": "code",
   "execution_count": null,
   "metadata": {},
   "outputs": [],
   "source": [
    "env.rabin.coord_dict[(2,2)]"
   ]
  },
  {
   "cell_type": "code",
   "execution_count": null,
   "metadata": {},
   "outputs": [],
   "source": [
    "env.dynamic_coord_dict[(2,2)]"
   ]
  },
  {
   "cell_type": "code",
   "execution_count": null,
   "metadata": {},
   "outputs": [],
   "source": [
    "env.rabin.possible_states(1)"
   ]
  },
  {
   "cell_type": "code",
   "execution_count": null,
   "metadata": {},
   "outputs": [],
   "source": [
    "[env.rabin.graph[str(1)][str(0)][k][\"label\"] for k in range(len(env.rabin.graph[str(1)][str(0)]))]"
   ]
  },
  {
   "cell_type": "code",
   "execution_count": null,
   "metadata": {},
   "outputs": [],
   "source": [
    "env.rabin.check_ap(\"C\", u' !A&!T&C')"
   ]
  },
  {
   "cell_type": "code",
   "execution_count": null,
   "metadata": {},
   "outputs": [],
   "source": [
    "env.rabin.graph[\"0\"][\"0\"]"
   ]
  },
  {
   "cell_type": "code",
   "execution_count": null,
   "metadata": {},
   "outputs": [],
   "source": [
    "env._calculate_transition_prob((4, 3, 1), [0,1])"
   ]
  },
  {
   "cell_type": "code",
   "execution_count": null,
   "metadata": {},
   "outputs": [],
   "source": [
    "np.unravel_index(221,(10,10,5))"
   ]
  },
  {
   "cell_type": "code",
   "execution_count": null,
   "metadata": {},
   "outputs": [],
   "source": [
    "env.shape"
   ]
  },
  {
   "cell_type": "code",
   "execution_count": null,
   "metadata": {},
   "outputs": [],
   "source": [
    "current = (4,3,1)\n",
    "delta=[0,1]\n",
    "delta_list = [[-1, 0], [1, 0], [0, -1], [0, 1], [0, 0]]"
   ]
  },
  {
   "cell_type": "code",
   "execution_count": null,
   "metadata": {},
   "outputs": [],
   "source": [
    "new_position_candidates = [np.array(current[:2]) + np.array(delta)]\n",
    "new_position_candidates += [np.array(current[:2]) + np.array(i) for i in delta_list if i != delta]"
   ]
  },
  {
   "cell_type": "code",
   "execution_count": null,
   "metadata": {},
   "outputs": [],
   "source": [
    "print new_positions"
   ]
  },
  {
   "cell_type": "code",
   "execution_count": null,
   "metadata": {},
   "outputs": [],
   "source": [
    "new_positions = [env._limit_coordinates(i).astype(int) for i in new_position_candidates]"
   ]
  },
  {
   "cell_type": "code",
   "execution_count": null,
   "metadata": {},
   "outputs": [],
   "source": [
    "next_rabin_state = [env.rabin.next_state(current, tuple(i)) for i in new_positions]"
   ]
  },
  {
   "cell_type": "code",
   "execution_count": null,
   "metadata": {},
   "outputs": [],
   "source": [
    "env.rabin.next_state((4,3,1),(4,4))"
   ]
  },
  {
   "cell_type": "code",
   "execution_count": null,
   "metadata": {},
   "outputs": [],
   "source": [
    "env.rabin.coord_dict[(2,7)]"
   ]
  },
  {
   "cell_type": "code",
   "execution_count": null,
   "metadata": {},
   "outputs": [],
   "source": [
    "env.rabin.next_state((4,3,1),[0,1])"
   ]
  },
  {
   "cell_type": "code",
   "execution_count": null,
   "metadata": {},
   "outputs": [],
   "source": [
    "env.rabin.deadlock"
   ]
  },
  {
   "cell_type": "code",
   "execution_count": null,
   "metadata": {},
   "outputs": [],
   "source": [
    "np.where(np.array(prod_planner.opt_rabin) == 8)[0]"
   ]
  },
  {
   "cell_type": "code",
   "execution_count": null,
   "metadata": {},
   "outputs": [],
   "source": [
    "env = CurrentWorld(LTL.lower())"
   ]
  },
  {
   "cell_type": "code",
   "execution_count": null,
   "metadata": {},
   "outputs": [],
   "source": [
    "prod_planner = Prod_Planning(env, LTL.lower())"
   ]
  },
  {
   "cell_type": "code",
   "execution_count": null,
   "metadata": {},
   "outputs": [],
   "source": [
    "prod_planner.update_wfts_ap()"
   ]
  },
  {
   "cell_type": "code",
   "execution_count": null,
   "metadata": {},
   "outputs": [],
   "source": [
    "env.dynamic_coord_dict[(5,5)]"
   ]
  },
  {
   "cell_type": "code",
   "execution_count": null,
   "metadata": {},
   "outputs": [],
   "source": [
    "env.last_dynamic_coord_dict[(5,5)]"
   ]
  },
  {
   "cell_type": "code",
   "execution_count": null,
   "metadata": {},
   "outputs": [],
   "source": [
    "prod_planner.region_list[np.ravel_multi_index((5,5),(10,10))].ap"
   ]
  },
  {
   "cell_type": "code",
   "execution_count": null,
   "metadata": {},
   "outputs": [],
   "source": [
    "env.ap_dict"
   ]
  },
  {
   "cell_type": "code",
   "execution_count": null,
   "metadata": {},
   "outputs": [],
   "source": [
    "env.last_ap_dict"
   ]
  },
  {
   "cell_type": "code",
   "execution_count": null,
   "metadata": {},
   "outputs": [],
   "source": [
    "env.step(1)"
   ]
  }
 ],
 "metadata": {
  "kernelspec": {
   "display_name": "Environment (conda_tensorflow_p27)",
   "language": "python",
   "name": "conda_tensorflow_p27"
  },
  "language_info": {
   "codemirror_mode": {
    "name": "ipython",
    "version": 2
   },
   "file_extension": ".py",
   "mimetype": "text/x-python",
   "name": "python",
   "nbconvert_exporter": "python",
   "pygments_lexer": "ipython2",
   "version": "2.7.15"
  }
 },
 "nbformat": 4,
 "nbformat_minor": 2
}
